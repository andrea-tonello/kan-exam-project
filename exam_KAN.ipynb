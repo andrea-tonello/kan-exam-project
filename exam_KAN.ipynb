{
  "cells": [
    {
      "cell_type": "code",
      "execution_count": 1,
      "id": "9cb10b3e",
      "metadata": {
        "id": "9cb10b3e"
      },
      "outputs": [],
      "source": [
        "import torch\n",
        "import torch.nn as nn\n",
        "import torchvision\n",
        "import torchvision.transforms as transforms\n",
        "from torch.utils.data import DataLoader\n",
        "\n",
        "from efficientkan import KAN\n",
        "\n",
        "import numpy as np\n",
        "import pandas as pd\n",
        "from time import time\n",
        "import matplotlib.pyplot as plt\n",
        "from tqdm import tqdm"
      ]
    },
    {
      "cell_type": "code",
      "execution_count": 2,
      "id": "2277dd5f",
      "metadata": {
        "id": "2277dd5f"
      },
      "outputs": [],
      "source": [
        "# Load MNIST dataset\n",
        "\n",
        "transform = transforms.Compose([\n",
        "    transforms.ToTensor(),  # Convert images to PyTorch tensors and scale to [0,1]\n",
        "    transforms.Normalize((0.5,), (0.5,))  # Normalize to mean=0.5, std=0.5\n",
        "])\n",
        "\n",
        "trainset = torchvision.datasets.MNIST(root=\"./data\", train=True, download=True, transform=transform)\n",
        "valset = torchvision.datasets.MNIST(root=\"./data\", train=False, download=True, transform=transform)\n",
        "\n",
        "trainloader = DataLoader(trainset, batch_size=64, shuffle=True)\n",
        "valloader = DataLoader(valset, batch_size=64, shuffle=False)"
      ]
    },
    {
      "cell_type": "code",
      "execution_count": 3,
      "id": "a13c9ac1",
      "metadata": {
        "id": "a13c9ac1"
      },
      "outputs": [],
      "source": [
        "class MyMLP(nn.Module):\n",
        "\n",
        "    def __init__(self, layers: list):\n",
        "        super(MyMLP, self).__init__()\n",
        "\n",
        "        to_sequential, self.num_parameters = self.build_layers_and_count_params(layers)\n",
        "        self.layers = nn.Sequential(*to_sequential)\n",
        "\n",
        "    def forward(self, x):\n",
        "        return self.layers(x)\n",
        "\n",
        "\n",
        "    # given a list of layer sizes, builds the respective linear layers with ReLU activation functions.\n",
        "    # Also returns the total number of parameters of the model.\n",
        "    def build_layers_and_count_params(self, layers):\n",
        "\n",
        "        to_sequential = []\n",
        "        num_parameters = 0\n",
        "\n",
        "        for i in range(len(layers) - 1):\n",
        "\n",
        "            to_sequential.append(nn.Linear(layers[i], layers[i+1]))\n",
        "            if i < len(layers)-2:\n",
        "                to_sequential.append(nn.ReLU())\n",
        "\n",
        "            num_parameters += layers[i]*layers[i+1] + layers[i+1]\n",
        "\n",
        "        return to_sequential, num_parameters\n",
        "\n",
        "\n",
        "\n",
        "\n",
        "class MyKAN(nn.Module):\n",
        "\n",
        "    def __init__(self, layers: list, grid_size):\n",
        "        super(MyKAN, self).__init__()\n",
        "\n",
        "        self.num_parameters = self.count_params(layers, grid_size)\n",
        "        self.layers = KAN(layers, grid_size=grid_size)\n",
        "\n",
        "\n",
        "    def forward(self, x):\n",
        "        return self.layers(x)\n",
        "\n",
        "\n",
        "    def count_params(self, layers, grid_size):\n",
        "\n",
        "        num_parameters = 0\n",
        "\n",
        "        for i in range(len(layers) - 1):\n",
        "            num_parameters += layers[i]*layers[i+1]\n",
        "\n",
        "        return num_parameters * grid_size"
      ]
    },
    {
      "cell_type": "code",
      "execution_count": 4,
      "id": "22d45072",
      "metadata": {
        "id": "22d45072"
      },
      "outputs": [],
      "source": [
        "def train_and_evaluate(model, trainloader, valloader, device, num_epochs, optimizer, criterion):\n",
        "\n",
        "    lr = optimizer.param_groups[0]['lr']\n",
        "    print(f'Training model \"{model.__class__.__name__}\" with device: {device} and parameters:' if device=='cpu' else f'Training model \"{model.__class__.__name__}\" with device: {device} ({torch.cuda.get_device_name()}) and parameters:')\n",
        "    print(f'\\tLearning rate: {lr}\\n\\tLoss function: {criterion}\\n\\tOptimizer: {optimizer.__class__.__name__}\\n')\n",
        "    print(f'Number of parameters: {model.num_parameters}\\n')\n",
        "\n",
        "    model.to(device)\n",
        "\n",
        "    train_losses = []\n",
        "    train_accs = []\n",
        "    val_losses = []\n",
        "    val_accs = []\n",
        "    times = []\n",
        "\n",
        "    for epoch in range(num_epochs):\n",
        "\n",
        "# Train\n",
        "        model.train()\n",
        "        train_loss = 0\n",
        "        train_acc = 0\n",
        "\n",
        "        start = time()\n",
        "\n",
        "        with tqdm(trainloader) as pbar:\n",
        "            for i, (images, labels) in enumerate(pbar):\n",
        "                images = images.view(-1, 28 * 28).to(device)\n",
        "                optimizer.zero_grad()\n",
        "                output = model(images)\n",
        "\n",
        "                loss = criterion(output, labels.to(device))\n",
        "                loss.backward()\n",
        "                optimizer.step()\n",
        "                train_loss += loss.item()\n",
        "\n",
        "                accuracy = (output.argmax(dim=1) == labels.to(device)).float().mean()\n",
        "                train_acc += accuracy.item()\n",
        "\n",
        "        train_losses.append(train_loss / i)\n",
        "        train_accs.append(train_acc / i)\n",
        "\n",
        "        t = time()-start\n",
        "        times.append(t)\n",
        "\n",
        "        print(f\"Epoch [{epoch + 1}/{num_epochs}], Train Loss: {train_loss / i:.4f}, Train Accuracy: {train_acc / i:.4f}, Time: {t:.2f}s\")\n",
        "\n",
        "\n",
        "# Validation\n",
        "        model.eval()\n",
        "        val_loss = 0\n",
        "        val_acc = 0\n",
        "\n",
        "        with torch.no_grad():\n",
        "            for i, (images, labels) in enumerate(valloader):\n",
        "                images = images.view(-1, 28 * 28).to(device)\n",
        "                output = model(images)\n",
        "\n",
        "                val_loss += criterion(output, labels.to(device)).item()\n",
        "                val_acc += ((output.argmax(dim=1) == labels.to(device)).float().mean().item())\n",
        "\n",
        "        val_losses.append(val_loss / i)\n",
        "        val_accs.append(val_acc / i)\n",
        "\n",
        "        print(f\"\\t      Valid Loss: {val_loss / i:.4f}, Valid Accuracy: {val_acc / i:.4f}\\n\")\n",
        "\n",
        "\n",
        "    return train_losses, train_accs, val_losses, val_accs, times"
      ]
    },
    {
      "cell_type": "code",
      "execution_count": null,
      "id": "53208362",
      "metadata": {},
      "outputs": [],
      "source": [
        "def build_data_frame(model, num_epochs, train_losses, val_losses, train_accs, val_accs, time, separator):\n",
        "\n",
        "    df = pd.DataFrame({\n",
        "        'Epoch': [i for i in range(num_epochs)],\n",
        "        'Loss (t)': [i for i in train_losses],\n",
        "        'Loss (v)': [i for i in val_losses],\n",
        "        'Accuracy (t)': [i for i in train_accs],\n",
        "        'Accuracy (v)': [i for i in val_accs],\n",
        "        'Time': [i for i in time]\n",
        "        })\n",
        "    \n",
        "    df = pd.concat([df, pd.DataFrame([{'Epoch': 'Mean', 'Time': df['Time'].mean()}])], ignore_index=True)\n",
        "    df = pd.concat([df, pd.DataFrame([{'Epoch': f'Params: {model.num_parameters}'}])], ignore_index=True)\n",
        "    df = pd.concat([df, separator], ignore_index=True)\n",
        "\n",
        "    return df"
      ]
    },
    {
      "cell_type": "code",
      "execution_count": 5,
      "id": "12fe729d",
      "metadata": {
        "colab": {
          "base_uri": "https://localhost:8080/"
        },
        "id": "12fe729d",
        "outputId": "115a3f50-7f15-472a-d33a-3b363edc81d2"
      },
      "outputs": [
        {
          "name": "stdout",
          "output_type": "stream",
          "text": [
            "Training model \"MyMLP\" with device: cuda (AMD Radeon RX 7800 XT) and parameters:\n",
            "\tLearning rate: 0.001\n",
            "\tLoss function: CrossEntropyLoss()\n",
            "\tOptimizer: Adam\n",
            "\n",
            "Number of parameters: 101770\n",
            "\n"
          ]
        },
        {
          "name": "stderr",
          "output_type": "stream",
          "text": [
            "100%|██████████| 938/938 [00:07<00:00, 130.37it/s]\n"
          ]
        },
        {
          "name": "stdout",
          "output_type": "stream",
          "text": [
            "Epoch [1/10], Train Loss: 0.3824, Train Accuracy: 0.8901, Time: 7.20s\n",
            "\t      Valid Loss: 0.2365, Valid Accuracy: 0.9380\n",
            "\n"
          ]
        },
        {
          "name": "stderr",
          "output_type": "stream",
          "text": [
            "100%|██████████| 938/938 [00:06<00:00, 144.69it/s]\n"
          ]
        },
        {
          "name": "stdout",
          "output_type": "stream",
          "text": [
            "Epoch [2/10], Train Loss: 0.1986, Train Accuracy: 0.9425, Time: 6.48s\n",
            "\t      Valid Loss: 0.1605, Valid Accuracy: 0.9583\n",
            "\n"
          ]
        },
        {
          "name": "stderr",
          "output_type": "stream",
          "text": [
            "100%|██████████| 938/938 [00:06<00:00, 144.05it/s]\n"
          ]
        },
        {
          "name": "stdout",
          "output_type": "stream",
          "text": [
            "Epoch [3/10], Train Loss: 0.1458, Train Accuracy: 0.9577, Time: 6.51s\n",
            "\t      Valid Loss: 0.1402, Valid Accuracy: 0.9629\n",
            "\n"
          ]
        },
        {
          "name": "stderr",
          "output_type": "stream",
          "text": [
            "100%|██████████| 938/938 [00:06<00:00, 150.02it/s]\n"
          ]
        },
        {
          "name": "stdout",
          "output_type": "stream",
          "text": [
            "Epoch [4/10], Train Loss: 0.1183, Train Accuracy: 0.9658, Time: 6.25s\n",
            "\t      Valid Loss: 0.1363, Valid Accuracy: 0.9656\n",
            "\n"
          ]
        },
        {
          "name": "stderr",
          "output_type": "stream",
          "text": [
            "100%|██████████| 938/938 [00:06<00:00, 145.72it/s]\n"
          ]
        },
        {
          "name": "stdout",
          "output_type": "stream",
          "text": [
            "Epoch [5/10], Train Loss: 0.1001, Train Accuracy: 0.9708, Time: 6.44s\n",
            "\t      Valid Loss: 0.1165, Valid Accuracy: 0.9688\n",
            "\n"
          ]
        },
        {
          "name": "stderr",
          "output_type": "stream",
          "text": [
            "100%|██████████| 938/938 [00:06<00:00, 148.14it/s]\n"
          ]
        },
        {
          "name": "stdout",
          "output_type": "stream",
          "text": [
            "Epoch [6/10], Train Loss: 0.0874, Train Accuracy: 0.9747, Time: 6.33s\n",
            "\t      Valid Loss: 0.1022, Valid Accuracy: 0.9753\n",
            "\n"
          ]
        },
        {
          "name": "stderr",
          "output_type": "stream",
          "text": [
            "100%|██████████| 938/938 [00:06<00:00, 141.81it/s]\n"
          ]
        },
        {
          "name": "stdout",
          "output_type": "stream",
          "text": [
            "Epoch [7/10], Train Loss: 0.0766, Train Accuracy: 0.9774, Time: 6.62s\n",
            "\t      Valid Loss: 0.1006, Valid Accuracy: 0.9755\n",
            "\n"
          ]
        },
        {
          "name": "stderr",
          "output_type": "stream",
          "text": [
            "100%|██████████| 938/938 [00:06<00:00, 147.76it/s]\n"
          ]
        },
        {
          "name": "stdout",
          "output_type": "stream",
          "text": [
            "Epoch [8/10], Train Loss: 0.0724, Train Accuracy: 0.9784, Time: 6.35s\n",
            "\t      Valid Loss: 0.0995, Valid Accuracy: 0.9764\n",
            "\n"
          ]
        },
        {
          "name": "stderr",
          "output_type": "stream",
          "text": [
            "100%|██████████| 938/938 [00:06<00:00, 142.39it/s]\n"
          ]
        },
        {
          "name": "stdout",
          "output_type": "stream",
          "text": [
            "Epoch [9/10], Train Loss: 0.0641, Train Accuracy: 0.9806, Time: 6.59s\n",
            "\t      Valid Loss: 0.1054, Valid Accuracy: 0.9749\n",
            "\n"
          ]
        },
        {
          "name": "stderr",
          "output_type": "stream",
          "text": [
            "100%|██████████| 938/938 [00:06<00:00, 145.40it/s]\n"
          ]
        },
        {
          "name": "stdout",
          "output_type": "stream",
          "text": [
            "Epoch [10/10], Train Loss: 0.0611, Train Accuracy: 0.9818, Time: 6.45s\n",
            "\t      Valid Loss: 0.0842, Valid Accuracy: 0.9827\n",
            "\n",
            "Training model \"MyKAN\" with device: cuda (AMD Radeon RX 7800 XT) and parameters:\n",
            "\tLearning rate: 0.001\n",
            "\tLoss function: CrossEntropyLoss()\n",
            "\tOptimizer: Adam\n",
            "\n",
            "Number of parameters: 152448\n",
            "\n"
          ]
        },
        {
          "name": "stderr",
          "output_type": "stream",
          "text": [
            "100%|██████████| 938/938 [00:07<00:00, 122.41it/s]\n"
          ]
        },
        {
          "name": "stdout",
          "output_type": "stream",
          "text": [
            "Epoch [1/10], Train Loss: 0.3997, Train Accuracy: 0.8874, Time: 7.66s\n",
            "\t      Valid Loss: 0.2366, Valid Accuracy: 0.9390\n",
            "\n"
          ]
        },
        {
          "name": "stderr",
          "output_type": "stream",
          "text": [
            "100%|██████████| 938/938 [00:07<00:00, 127.77it/s]\n"
          ]
        },
        {
          "name": "stdout",
          "output_type": "stream",
          "text": [
            "Epoch [2/10], Train Loss: 0.1902, Train Accuracy: 0.9469, Time: 7.34s\n",
            "\t      Valid Loss: 0.1507, Valid Accuracy: 0.9587\n",
            "\n"
          ]
        },
        {
          "name": "stderr",
          "output_type": "stream",
          "text": [
            "100%|██████████| 938/938 [00:07<00:00, 125.52it/s]\n"
          ]
        },
        {
          "name": "stdout",
          "output_type": "stream",
          "text": [
            "Epoch [3/10], Train Loss: 0.1273, Train Accuracy: 0.9637, Time: 7.47s\n",
            "\t      Valid Loss: 0.1204, Valid Accuracy: 0.9703\n",
            "\n"
          ]
        },
        {
          "name": "stderr",
          "output_type": "stream",
          "text": [
            "100%|██████████| 938/938 [00:07<00:00, 126.03it/s]\n"
          ]
        },
        {
          "name": "stdout",
          "output_type": "stream",
          "text": [
            "Epoch [4/10], Train Loss: 0.0949, Train Accuracy: 0.9731, Time: 7.44s\n",
            "\t      Valid Loss: 0.0994, Valid Accuracy: 0.9751\n",
            "\n"
          ]
        },
        {
          "name": "stderr",
          "output_type": "stream",
          "text": [
            "100%|██████████| 938/938 [00:07<00:00, 126.84it/s]\n"
          ]
        },
        {
          "name": "stdout",
          "output_type": "stream",
          "text": [
            "Epoch [5/10], Train Loss: 0.0731, Train Accuracy: 0.9789, Time: 7.40s\n",
            "\t      Valid Loss: 0.0942, Valid Accuracy: 0.9779\n",
            "\n"
          ]
        },
        {
          "name": "stderr",
          "output_type": "stream",
          "text": [
            "100%|██████████| 938/938 [00:07<00:00, 122.69it/s]\n"
          ]
        },
        {
          "name": "stdout",
          "output_type": "stream",
          "text": [
            "Epoch [6/10], Train Loss: 0.0589, Train Accuracy: 0.9835, Time: 7.65s\n",
            "\t      Valid Loss: 0.0938, Valid Accuracy: 0.9768\n",
            "\n"
          ]
        },
        {
          "name": "stderr",
          "output_type": "stream",
          "text": [
            "100%|██████████| 938/938 [00:07<00:00, 124.90it/s]\n"
          ]
        },
        {
          "name": "stdout",
          "output_type": "stream",
          "text": [
            "Epoch [7/10], Train Loss: 0.0468, Train Accuracy: 0.9875, Time: 7.51s\n",
            "\t      Valid Loss: 0.0907, Valid Accuracy: 0.9789\n",
            "\n"
          ]
        },
        {
          "name": "stderr",
          "output_type": "stream",
          "text": [
            "100%|██████████| 938/938 [00:07<00:00, 127.10it/s]\n"
          ]
        },
        {
          "name": "stdout",
          "output_type": "stream",
          "text": [
            "Epoch [8/10], Train Loss: 0.0371, Train Accuracy: 0.9903, Time: 7.38s\n",
            "\t      Valid Loss: 0.0908, Valid Accuracy: 0.9778\n",
            "\n"
          ]
        },
        {
          "name": "stderr",
          "output_type": "stream",
          "text": [
            "100%|██████████| 938/938 [00:08<00:00, 116.23it/s]\n"
          ]
        },
        {
          "name": "stdout",
          "output_type": "stream",
          "text": [
            "Epoch [9/10], Train Loss: 0.0306, Train Accuracy: 0.9921, Time: 8.07s\n",
            "\t      Valid Loss: 0.0854, Valid Accuracy: 0.9801\n",
            "\n"
          ]
        },
        {
          "name": "stderr",
          "output_type": "stream",
          "text": [
            "100%|██████████| 938/938 [00:07<00:00, 118.43it/s]\n"
          ]
        },
        {
          "name": "stdout",
          "output_type": "stream",
          "text": [
            "Epoch [10/10], Train Loss: 0.0264, Train Accuracy: 0.9929, Time: 7.92s\n",
            "\t      Valid Loss: 0.0867, Valid Accuracy: 0.9797\n",
            "\n",
            "Training model \"MyMLP\" with device: cuda (AMD Radeon RX 7800 XT) and parameters:\n",
            "\tLearning rate: 0.001\n",
            "\tLoss function: CrossEntropyLoss()\n",
            "\tOptimizer: Adam\n",
            "\n",
            "Number of parameters: 50890\n",
            "\n"
          ]
        },
        {
          "name": "stderr",
          "output_type": "stream",
          "text": [
            "100%|██████████| 938/938 [00:06<00:00, 142.15it/s]\n"
          ]
        },
        {
          "name": "stdout",
          "output_type": "stream",
          "text": [
            "Epoch [1/10], Train Loss: 0.4391, Train Accuracy: 0.8767, Time: 6.60s\n",
            "\t      Valid Loss: 0.2793, Valid Accuracy: 0.9263\n",
            "\n"
          ]
        },
        {
          "name": "stderr",
          "output_type": "stream",
          "text": [
            "100%|██████████| 938/938 [00:06<00:00, 144.98it/s]\n"
          ]
        },
        {
          "name": "stdout",
          "output_type": "stream",
          "text": [
            "Epoch [2/10], Train Loss: 0.2528, Train Accuracy: 0.9272, Time: 6.47s\n",
            "\t      Valid Loss: 0.2103, Valid Accuracy: 0.9436\n",
            "\n"
          ]
        },
        {
          "name": "stderr",
          "output_type": "stream",
          "text": [
            "100%|██████████| 938/938 [00:06<00:00, 151.97it/s]\n"
          ]
        },
        {
          "name": "stdout",
          "output_type": "stream",
          "text": [
            "Epoch [3/10], Train Loss: 0.1939, Train Accuracy: 0.9441, Time: 6.17s\n",
            "\t      Valid Loss: 0.1797, Valid Accuracy: 0.9527\n",
            "\n"
          ]
        },
        {
          "name": "stderr",
          "output_type": "stream",
          "text": [
            "100%|██████████| 938/938 [00:06<00:00, 150.40it/s]\n"
          ]
        },
        {
          "name": "stdout",
          "output_type": "stream",
          "text": [
            "Epoch [4/10], Train Loss: 0.1584, Train Accuracy: 0.9543, Time: 6.24s\n",
            "\t      Valid Loss: 0.1540, Valid Accuracy: 0.9619\n",
            "\n"
          ]
        },
        {
          "name": "stderr",
          "output_type": "stream",
          "text": [
            "100%|██████████| 938/938 [00:06<00:00, 146.36it/s]\n"
          ]
        },
        {
          "name": "stdout",
          "output_type": "stream",
          "text": [
            "Epoch [5/10], Train Loss: 0.1345, Train Accuracy: 0.9612, Time: 6.41s\n",
            "\t      Valid Loss: 0.1264, Valid Accuracy: 0.9675\n",
            "\n"
          ]
        },
        {
          "name": "stderr",
          "output_type": "stream",
          "text": [
            "100%|██████████| 938/938 [00:06<00:00, 148.20it/s]\n"
          ]
        },
        {
          "name": "stdout",
          "output_type": "stream",
          "text": [
            "Epoch [6/10], Train Loss: 0.1228, Train Accuracy: 0.9641, Time: 6.33s\n",
            "\t      Valid Loss: 0.1246, Valid Accuracy: 0.9691\n",
            "\n"
          ]
        },
        {
          "name": "stderr",
          "output_type": "stream",
          "text": [
            "100%|██████████| 938/938 [00:06<00:00, 145.28it/s]\n"
          ]
        },
        {
          "name": "stdout",
          "output_type": "stream",
          "text": [
            "Epoch [7/10], Train Loss: 0.1109, Train Accuracy: 0.9673, Time: 6.46s\n",
            "\t      Valid Loss: 0.1214, Valid Accuracy: 0.9703\n",
            "\n"
          ]
        },
        {
          "name": "stderr",
          "output_type": "stream",
          "text": [
            "100%|██████████| 938/938 [00:06<00:00, 144.69it/s]\n"
          ]
        },
        {
          "name": "stdout",
          "output_type": "stream",
          "text": [
            "Epoch [8/10], Train Loss: 0.1007, Train Accuracy: 0.9704, Time: 6.48s\n",
            "\t      Valid Loss: 0.1233, Valid Accuracy: 0.9719\n",
            "\n"
          ]
        },
        {
          "name": "stderr",
          "output_type": "stream",
          "text": [
            "100%|██████████| 938/938 [00:06<00:00, 148.80it/s]\n"
          ]
        },
        {
          "name": "stdout",
          "output_type": "stream",
          "text": [
            "Epoch [9/10], Train Loss: 0.0944, Train Accuracy: 0.9714, Time: 6.30s\n",
            "\t      Valid Loss: 0.1069, Valid Accuracy: 0.9771\n",
            "\n"
          ]
        },
        {
          "name": "stderr",
          "output_type": "stream",
          "text": [
            "100%|██████████| 938/938 [00:06<00:00, 147.95it/s]\n"
          ]
        },
        {
          "name": "stdout",
          "output_type": "stream",
          "text": [
            "Epoch [10/10], Train Loss: 0.0898, Train Accuracy: 0.9727, Time: 6.34s\n",
            "\t      Valid Loss: 0.1107, Valid Accuracy: 0.9743\n",
            "\n",
            "Training model \"MyKAN\" with device: cuda (AMD Radeon RX 7800 XT) and parameters:\n",
            "\tLearning rate: 0.001\n",
            "\tLoss function: CrossEntropyLoss()\n",
            "\tOptimizer: Adam\n",
            "\n",
            "Number of parameters: 23820\n",
            "\n"
          ]
        },
        {
          "name": "stderr",
          "output_type": "stream",
          "text": [
            "100%|██████████| 938/938 [00:07<00:00, 124.91it/s]\n"
          ]
        },
        {
          "name": "stdout",
          "output_type": "stream",
          "text": [
            "Epoch [1/10], Train Loss: 0.5613, Train Accuracy: 0.8417, Time: 7.51s\n",
            "\t      Valid Loss: 0.3169, Valid Accuracy: 0.9168\n",
            "\n"
          ]
        },
        {
          "name": "stderr",
          "output_type": "stream",
          "text": [
            "100%|██████████| 938/938 [00:07<00:00, 124.03it/s]\n"
          ]
        },
        {
          "name": "stdout",
          "output_type": "stream",
          "text": [
            "Epoch [2/10], Train Loss: 0.2944, Train Accuracy: 0.9169, Time: 7.56s\n",
            "\t      Valid Loss: 0.2709, Valid Accuracy: 0.9254\n",
            "\n"
          ]
        },
        {
          "name": "stderr",
          "output_type": "stream",
          "text": [
            "100%|██████████| 938/938 [00:07<00:00, 121.19it/s]\n"
          ]
        },
        {
          "name": "stdout",
          "output_type": "stream",
          "text": [
            "Epoch [3/10], Train Loss: 0.2566, Train Accuracy: 0.9276, Time: 7.74s\n",
            "\t      Valid Loss: 0.2611, Valid Accuracy: 0.9333\n",
            "\n"
          ]
        },
        {
          "name": "stderr",
          "output_type": "stream",
          "text": [
            "100%|██████████| 938/938 [00:07<00:00, 120.71it/s]\n"
          ]
        },
        {
          "name": "stdout",
          "output_type": "stream",
          "text": [
            "Epoch [4/10], Train Loss: 0.2332, Train Accuracy: 0.9350, Time: 7.77s\n",
            "\t      Valid Loss: 0.2390, Valid Accuracy: 0.9384\n",
            "\n"
          ]
        },
        {
          "name": "stderr",
          "output_type": "stream",
          "text": [
            "100%|██████████| 938/938 [00:07<00:00, 121.89it/s]\n"
          ]
        },
        {
          "name": "stdout",
          "output_type": "stream",
          "text": [
            "Epoch [5/10], Train Loss: 0.2167, Train Accuracy: 0.9394, Time: 7.70s\n",
            "\t      Valid Loss: 0.2256, Valid Accuracy: 0.9433\n",
            "\n"
          ]
        },
        {
          "name": "stderr",
          "output_type": "stream",
          "text": [
            "100%|██████████| 938/938 [00:07<00:00, 122.55it/s]\n"
          ]
        },
        {
          "name": "stdout",
          "output_type": "stream",
          "text": [
            "Epoch [6/10], Train Loss: 0.2031, Train Accuracy: 0.9428, Time: 7.66s\n",
            "\t      Valid Loss: 0.2220, Valid Accuracy: 0.9416\n",
            "\n"
          ]
        },
        {
          "name": "stderr",
          "output_type": "stream",
          "text": [
            "100%|██████████| 938/938 [00:07<00:00, 124.06it/s]\n"
          ]
        },
        {
          "name": "stdout",
          "output_type": "stream",
          "text": [
            "Epoch [7/10], Train Loss: 0.1925, Train Accuracy: 0.9459, Time: 7.56s\n",
            "\t      Valid Loss: 0.2253, Valid Accuracy: 0.9440\n",
            "\n"
          ]
        },
        {
          "name": "stderr",
          "output_type": "stream",
          "text": [
            "100%|██████████| 938/938 [00:07<00:00, 120.55it/s]\n"
          ]
        },
        {
          "name": "stdout",
          "output_type": "stream",
          "text": [
            "Epoch [8/10], Train Loss: 0.1845, Train Accuracy: 0.9482, Time: 7.78s\n",
            "\t      Valid Loss: 0.2209, Valid Accuracy: 0.9450\n",
            "\n"
          ]
        },
        {
          "name": "stderr",
          "output_type": "stream",
          "text": [
            "100%|██████████| 938/938 [00:07<00:00, 123.73it/s]\n"
          ]
        },
        {
          "name": "stdout",
          "output_type": "stream",
          "text": [
            "Epoch [9/10], Train Loss: 0.1774, Train Accuracy: 0.9501, Time: 7.58s\n",
            "\t      Valid Loss: 0.2099, Valid Accuracy: 0.9491\n",
            "\n"
          ]
        },
        {
          "name": "stderr",
          "output_type": "stream",
          "text": [
            "100%|██████████| 938/938 [00:07<00:00, 119.56it/s]\n"
          ]
        },
        {
          "name": "stdout",
          "output_type": "stream",
          "text": [
            "Epoch [10/10], Train Loss: 0.1709, Train Accuracy: 0.9520, Time: 7.85s\n",
            "\t      Valid Loss: 0.2128, Valid Accuracy: 0.9483\n",
            "\n",
            "Training model \"MyMLP\" with device: cuda (AMD Radeon RX 7800 XT) and parameters:\n",
            "\tLearning rate: 0.001\n",
            "\tLoss function: CrossEntropyLoss()\n",
            "\tOptimizer: Adam\n",
            "\n",
            "Number of parameters: 7960\n",
            "\n"
          ]
        },
        {
          "name": "stderr",
          "output_type": "stream",
          "text": [
            "100%|██████████| 938/938 [00:06<00:00, 140.76it/s]\n"
          ]
        },
        {
          "name": "stdout",
          "output_type": "stream",
          "text": [
            "Epoch [1/10], Train Loss: 1.0439, Train Accuracy: 0.6581, Time: 6.67s\n",
            "\t      Valid Loss: 0.7480, Valid Accuracy: 0.7788\n",
            "\n"
          ]
        },
        {
          "name": "stderr",
          "output_type": "stream",
          "text": [
            "100%|██████████| 938/938 [00:06<00:00, 139.16it/s]\n"
          ]
        },
        {
          "name": "stdout",
          "output_type": "stream",
          "text": [
            "Epoch [2/10], Train Loss: 0.6804, Train Accuracy: 0.7990, Time: 6.74s\n",
            "\t      Valid Loss: 0.6076, Valid Accuracy: 0.8294\n",
            "\n"
          ]
        },
        {
          "name": "stderr",
          "output_type": "stream",
          "text": [
            "100%|██████████| 938/938 [00:06<00:00, 141.56it/s]\n"
          ]
        },
        {
          "name": "stdout",
          "output_type": "stream",
          "text": [
            "Epoch [3/10], Train Loss: 0.6011, Train Accuracy: 0.8242, Time: 6.63s\n",
            "\t      Valid Loss: 0.5910, Valid Accuracy: 0.8268\n",
            "\n"
          ]
        },
        {
          "name": "stderr",
          "output_type": "stream",
          "text": [
            "100%|██████████| 938/938 [00:06<00:00, 145.19it/s]\n"
          ]
        },
        {
          "name": "stdout",
          "output_type": "stream",
          "text": [
            "Epoch [4/10], Train Loss: 0.5674, Train Accuracy: 0.8317, Time: 6.46s\n",
            "\t      Valid Loss: 0.5381, Valid Accuracy: 0.8468\n",
            "\n"
          ]
        },
        {
          "name": "stderr",
          "output_type": "stream",
          "text": [
            "100%|██████████| 938/938 [00:06<00:00, 143.25it/s]\n"
          ]
        },
        {
          "name": "stdout",
          "output_type": "stream",
          "text": [
            "Epoch [5/10], Train Loss: 0.5482, Train Accuracy: 0.8385, Time: 6.55s\n",
            "\t      Valid Loss: 0.5420, Valid Accuracy: 0.8412\n",
            "\n"
          ]
        },
        {
          "name": "stderr",
          "output_type": "stream",
          "text": [
            "100%|██████████| 938/938 [00:06<00:00, 148.56it/s]\n"
          ]
        },
        {
          "name": "stdout",
          "output_type": "stream",
          "text": [
            "Epoch [6/10], Train Loss: 0.5348, Train Accuracy: 0.8436, Time: 6.32s\n",
            "\t      Valid Loss: 0.5149, Valid Accuracy: 0.8533\n",
            "\n"
          ]
        },
        {
          "name": "stderr",
          "output_type": "stream",
          "text": [
            "100%|██████████| 938/938 [00:06<00:00, 141.49it/s]\n"
          ]
        },
        {
          "name": "stdout",
          "output_type": "stream",
          "text": [
            "Epoch [7/10], Train Loss: 0.5249, Train Accuracy: 0.8465, Time: 6.63s\n",
            "\t      Valid Loss: 0.5093, Valid Accuracy: 0.8558\n",
            "\n"
          ]
        },
        {
          "name": "stderr",
          "output_type": "stream",
          "text": [
            "100%|██████████| 938/938 [00:06<00:00, 143.17it/s]\n"
          ]
        },
        {
          "name": "stdout",
          "output_type": "stream",
          "text": [
            "Epoch [8/10], Train Loss: 0.5148, Train Accuracy: 0.8501, Time: 6.55s\n",
            "\t      Valid Loss: 0.5139, Valid Accuracy: 0.8567\n",
            "\n"
          ]
        },
        {
          "name": "stderr",
          "output_type": "stream",
          "text": [
            "100%|██████████| 938/938 [00:06<00:00, 144.41it/s]\n"
          ]
        },
        {
          "name": "stdout",
          "output_type": "stream",
          "text": [
            "Epoch [9/10], Train Loss: 0.5084, Train Accuracy: 0.8522, Time: 6.50s\n",
            "\t      Valid Loss: 0.5249, Valid Accuracy: 0.8450\n",
            "\n"
          ]
        },
        {
          "name": "stderr",
          "output_type": "stream",
          "text": [
            "100%|██████████| 938/938 [00:06<00:00, 141.96it/s]\n"
          ]
        },
        {
          "name": "stdout",
          "output_type": "stream",
          "text": [
            "Epoch [10/10], Train Loss: 0.4998, Train Accuracy: 0.8559, Time: 6.61s\n",
            "\t      Valid Loss: 0.4869, Valid Accuracy: 0.8648\n",
            "\n",
            "Training model \"MyKAN\" with device: cuda (AMD Radeon RX 7800 XT) and parameters:\n",
            "\tLearning rate: 0.001\n",
            "\tLoss function: CrossEntropyLoss()\n",
            "\tOptimizer: Adam\n",
            "\n",
            "Number of parameters: 11910\n",
            "\n"
          ]
        },
        {
          "name": "stderr",
          "output_type": "stream",
          "text": [
            "100%|██████████| 938/938 [00:07<00:00, 118.72it/s]\n"
          ]
        },
        {
          "name": "stdout",
          "output_type": "stream",
          "text": [
            "Epoch [1/10], Train Loss: 0.9313, Train Accuracy: 0.7156, Time: 7.90s\n",
            "\t      Valid Loss: 0.5817, Valid Accuracy: 0.8364\n",
            "\n"
          ]
        },
        {
          "name": "stderr",
          "output_type": "stream",
          "text": [
            "100%|██████████| 938/938 [00:07<00:00, 125.05it/s]\n"
          ]
        },
        {
          "name": "stdout",
          "output_type": "stream",
          "text": [
            "Epoch [2/10], Train Loss: 0.5073, Train Accuracy: 0.8547, Time: 7.50s\n",
            "\t      Valid Loss: 0.4678, Valid Accuracy: 0.8679\n",
            "\n"
          ]
        },
        {
          "name": "stderr",
          "output_type": "stream",
          "text": [
            "100%|██████████| 938/938 [00:07<00:00, 123.87it/s]\n"
          ]
        },
        {
          "name": "stdout",
          "output_type": "stream",
          "text": [
            "Epoch [3/10], Train Loss: 0.4294, Train Accuracy: 0.8787, Time: 7.57s\n",
            "\t      Valid Loss: 0.4217, Valid Accuracy: 0.8828\n",
            "\n"
          ]
        },
        {
          "name": "stderr",
          "output_type": "stream",
          "text": [
            "100%|██████████| 938/938 [00:07<00:00, 122.47it/s]\n"
          ]
        },
        {
          "name": "stdout",
          "output_type": "stream",
          "text": [
            "Epoch [4/10], Train Loss: 0.3909, Train Accuracy: 0.8893, Time: 7.66s\n",
            "\t      Valid Loss: 0.3897, Valid Accuracy: 0.8954\n",
            "\n"
          ]
        },
        {
          "name": "stderr",
          "output_type": "stream",
          "text": [
            "100%|██████████| 938/938 [00:07<00:00, 125.71it/s]\n"
          ]
        },
        {
          "name": "stdout",
          "output_type": "stream",
          "text": [
            "Epoch [5/10], Train Loss: 0.3692, Train Accuracy: 0.8953, Time: 7.46s\n",
            "\t      Valid Loss: 0.3768, Valid Accuracy: 0.9016\n",
            "\n"
          ]
        },
        {
          "name": "stderr",
          "output_type": "stream",
          "text": [
            "100%|██████████| 938/938 [00:07<00:00, 123.47it/s]\n"
          ]
        },
        {
          "name": "stdout",
          "output_type": "stream",
          "text": [
            "Epoch [6/10], Train Loss: 0.3529, Train Accuracy: 0.8999, Time: 7.60s\n",
            "\t      Valid Loss: 0.3863, Valid Accuracy: 0.8915\n",
            "\n"
          ]
        },
        {
          "name": "stderr",
          "output_type": "stream",
          "text": [
            "100%|██████████| 938/938 [00:07<00:00, 120.55it/s]\n"
          ]
        },
        {
          "name": "stdout",
          "output_type": "stream",
          "text": [
            "Epoch [7/10], Train Loss: 0.3389, Train Accuracy: 0.9042, Time: 7.78s\n",
            "\t      Valid Loss: 0.3631, Valid Accuracy: 0.8994\n",
            "\n"
          ]
        },
        {
          "name": "stderr",
          "output_type": "stream",
          "text": [
            "100%|██████████| 938/938 [00:07<00:00, 121.43it/s]\n"
          ]
        },
        {
          "name": "stdout",
          "output_type": "stream",
          "text": [
            "Epoch [8/10], Train Loss: 0.3300, Train Accuracy: 0.9055, Time: 7.73s\n",
            "\t      Valid Loss: 0.3557, Valid Accuracy: 0.9026\n",
            "\n"
          ]
        },
        {
          "name": "stderr",
          "output_type": "stream",
          "text": [
            "100%|██████████| 938/938 [00:07<00:00, 122.46it/s]\n"
          ]
        },
        {
          "name": "stdout",
          "output_type": "stream",
          "text": [
            "Epoch [9/10], Train Loss: 0.3226, Train Accuracy: 0.9079, Time: 7.66s\n",
            "\t      Valid Loss: 0.3498, Valid Accuracy: 0.9078\n",
            "\n"
          ]
        },
        {
          "name": "stderr",
          "output_type": "stream",
          "text": [
            "100%|██████████| 938/938 [00:07<00:00, 124.23it/s]\n"
          ]
        },
        {
          "name": "stdout",
          "output_type": "stream",
          "text": [
            "Epoch [10/10], Train Loss: 0.3150, Train Accuracy: 0.9102, Time: 7.55s\n",
            "\t      Valid Loss: 0.3426, Valid Accuracy: 0.9114\n",
            "\n",
            "Training model \"MyMLP\" with device: cuda (AMD Radeon RX 7800 XT) and parameters:\n",
            "\tLearning rate: 0.001\n",
            "\tLoss function: CrossEntropyLoss()\n",
            "\tOptimizer: Adam\n",
            "\n",
            "Number of parameters: 8070\n",
            "\n"
          ]
        },
        {
          "name": "stderr",
          "output_type": "stream",
          "text": [
            "100%|██████████| 938/938 [00:06<00:00, 141.23it/s]\n"
          ]
        },
        {
          "name": "stdout",
          "output_type": "stream",
          "text": [
            "Epoch [1/10], Train Loss: 1.0206, Train Accuracy: 0.6624, Time: 6.64s\n",
            "\t      Valid Loss: 0.6584, Valid Accuracy: 0.8079\n",
            "\n"
          ]
        },
        {
          "name": "stderr",
          "output_type": "stream",
          "text": [
            "100%|██████████| 938/938 [00:06<00:00, 138.34it/s]\n"
          ]
        },
        {
          "name": "stdout",
          "output_type": "stream",
          "text": [
            "Epoch [2/10], Train Loss: 0.6026, Train Accuracy: 0.8243, Time: 6.78s\n",
            "\t      Valid Loss: 0.5493, Valid Accuracy: 0.8433\n",
            "\n"
          ]
        },
        {
          "name": "stderr",
          "output_type": "stream",
          "text": [
            "100%|██████████| 938/938 [00:06<00:00, 144.57it/s]\n"
          ]
        },
        {
          "name": "stdout",
          "output_type": "stream",
          "text": [
            "Epoch [3/10], Train Loss: 0.5147, Train Accuracy: 0.8500, Time: 6.49s\n",
            "\t      Valid Loss: 0.4652, Valid Accuracy: 0.8678\n",
            "\n"
          ]
        },
        {
          "name": "stderr",
          "output_type": "stream",
          "text": [
            "100%|██████████| 938/938 [00:06<00:00, 142.85it/s]\n"
          ]
        },
        {
          "name": "stdout",
          "output_type": "stream",
          "text": [
            "Epoch [4/10], Train Loss: 0.4355, Train Accuracy: 0.8739, Time: 6.57s\n",
            "\t      Valid Loss: 0.4223, Valid Accuracy: 0.8818\n",
            "\n"
          ]
        },
        {
          "name": "stderr",
          "output_type": "stream",
          "text": [
            "100%|██████████| 938/938 [00:06<00:00, 138.66it/s]\n"
          ]
        },
        {
          "name": "stdout",
          "output_type": "stream",
          "text": [
            "Epoch [5/10], Train Loss: 0.3911, Train Accuracy: 0.8871, Time: 6.77s\n",
            "\t      Valid Loss: 0.3768, Valid Accuracy: 0.8952\n",
            "\n"
          ]
        },
        {
          "name": "stderr",
          "output_type": "stream",
          "text": [
            "100%|██████████| 938/938 [00:06<00:00, 148.17it/s]\n"
          ]
        },
        {
          "name": "stdout",
          "output_type": "stream",
          "text": [
            "Epoch [6/10], Train Loss: 0.3690, Train Accuracy: 0.8941, Time: 6.33s\n",
            "\t      Valid Loss: 0.3575, Valid Accuracy: 0.8999\n",
            "\n"
          ]
        },
        {
          "name": "stderr",
          "output_type": "stream",
          "text": [
            "100%|██████████| 938/938 [00:06<00:00, 147.09it/s]\n"
          ]
        },
        {
          "name": "stdout",
          "output_type": "stream",
          "text": [
            "Epoch [7/10], Train Loss: 0.3573, Train Accuracy: 0.8978, Time: 6.38s\n",
            "\t      Valid Loss: 0.3429, Valid Accuracy: 0.9087\n",
            "\n"
          ]
        },
        {
          "name": "stderr",
          "output_type": "stream",
          "text": [
            "100%|██████████| 938/938 [00:06<00:00, 147.57it/s]\n"
          ]
        },
        {
          "name": "stdout",
          "output_type": "stream",
          "text": [
            "Epoch [8/10], Train Loss: 0.3486, Train Accuracy: 0.9005, Time: 6.36s\n",
            "\t      Valid Loss: 0.3395, Valid Accuracy: 0.9096\n",
            "\n"
          ]
        },
        {
          "name": "stderr",
          "output_type": "stream",
          "text": [
            "100%|██████████| 938/938 [00:06<00:00, 147.10it/s]\n"
          ]
        },
        {
          "name": "stdout",
          "output_type": "stream",
          "text": [
            "Epoch [9/10], Train Loss: 0.3405, Train Accuracy: 0.9022, Time: 6.38s\n",
            "\t      Valid Loss: 0.3297, Valid Accuracy: 0.9115\n",
            "\n"
          ]
        },
        {
          "name": "stderr",
          "output_type": "stream",
          "text": [
            "100%|██████████| 938/938 [00:06<00:00, 139.86it/s]\n"
          ]
        },
        {
          "name": "stdout",
          "output_type": "stream",
          "text": [
            "Epoch [10/10], Train Loss: 0.3321, Train Accuracy: 0.9059, Time: 6.71s\n",
            "\t      Valid Loss: 0.3276, Valid Accuracy: 0.9103\n",
            "\n",
            "Training model \"MyKAN\" with device: cuda (AMD Radeon RX 7800 XT) and parameters:\n",
            "\tLearning rate: 0.001\n",
            "\tLoss function: CrossEntropyLoss()\n",
            "\tOptimizer: Adam\n",
            "\n",
            "Number of parameters: 24120\n",
            "\n"
          ]
        },
        {
          "name": "stderr",
          "output_type": "stream",
          "text": [
            "100%|██████████| 938/938 [00:08<00:00, 109.90it/s]\n"
          ]
        },
        {
          "name": "stdout",
          "output_type": "stream",
          "text": [
            "Epoch [1/10], Train Loss: 0.6615, Train Accuracy: 0.8041, Time: 8.54s\n",
            "\t      Valid Loss: 0.3582, Valid Accuracy: 0.9052\n",
            "\n"
          ]
        },
        {
          "name": "stderr",
          "output_type": "stream",
          "text": [
            "100%|██████████| 938/938 [00:08<00:00, 108.54it/s]\n"
          ]
        },
        {
          "name": "stdout",
          "output_type": "stream",
          "text": [
            "Epoch [2/10], Train Loss: 0.3228, Train Accuracy: 0.9086, Time: 8.64s\n",
            "\t      Valid Loss: 0.2813, Valid Accuracy: 0.9275\n",
            "\n"
          ]
        },
        {
          "name": "stderr",
          "output_type": "stream",
          "text": [
            "100%|██████████| 938/938 [00:08<00:00, 108.28it/s]\n"
          ]
        },
        {
          "name": "stdout",
          "output_type": "stream",
          "text": [
            "Epoch [3/10], Train Loss: 0.2609, Train Accuracy: 0.9265, Time: 8.66s\n",
            "\t      Valid Loss: 0.2484, Valid Accuracy: 0.9372\n",
            "\n"
          ]
        },
        {
          "name": "stderr",
          "output_type": "stream",
          "text": [
            "100%|██████████| 938/938 [00:08<00:00, 109.59it/s]\n"
          ]
        },
        {
          "name": "stdout",
          "output_type": "stream",
          "text": [
            "Epoch [4/10], Train Loss: 0.2286, Train Accuracy: 0.9354, Time: 8.56s\n",
            "\t      Valid Loss: 0.2230, Valid Accuracy: 0.9420\n",
            "\n"
          ]
        },
        {
          "name": "stderr",
          "output_type": "stream",
          "text": [
            "100%|██████████| 938/938 [00:08<00:00, 110.93it/s]\n"
          ]
        },
        {
          "name": "stdout",
          "output_type": "stream",
          "text": [
            "Epoch [5/10], Train Loss: 0.2084, Train Accuracy: 0.9398, Time: 8.46s\n",
            "\t      Valid Loss: 0.2188, Valid Accuracy: 0.9420\n",
            "\n"
          ]
        },
        {
          "name": "stderr",
          "output_type": "stream",
          "text": [
            "100%|██████████| 938/938 [00:08<00:00, 108.75it/s]\n"
          ]
        },
        {
          "name": "stdout",
          "output_type": "stream",
          "text": [
            "Epoch [6/10], Train Loss: 0.1947, Train Accuracy: 0.9448, Time: 8.63s\n",
            "\t      Valid Loss: 0.2172, Valid Accuracy: 0.9434\n",
            "\n"
          ]
        },
        {
          "name": "stderr",
          "output_type": "stream",
          "text": [
            "100%|██████████| 938/938 [00:08<00:00, 108.43it/s]\n"
          ]
        },
        {
          "name": "stdout",
          "output_type": "stream",
          "text": [
            "Epoch [7/10], Train Loss: 0.1839, Train Accuracy: 0.9471, Time: 8.65s\n",
            "\t      Valid Loss: 0.2089, Valid Accuracy: 0.9450\n",
            "\n"
          ]
        },
        {
          "name": "stderr",
          "output_type": "stream",
          "text": [
            "100%|██████████| 938/938 [00:08<00:00, 112.19it/s]\n"
          ]
        },
        {
          "name": "stdout",
          "output_type": "stream",
          "text": [
            "Epoch [8/10], Train Loss: 0.1743, Train Accuracy: 0.9501, Time: 8.36s\n",
            "\t      Valid Loss: 0.2065, Valid Accuracy: 0.9449\n",
            "\n"
          ]
        },
        {
          "name": "stderr",
          "output_type": "stream",
          "text": [
            "100%|██████████| 938/938 [00:08<00:00, 106.19it/s]\n"
          ]
        },
        {
          "name": "stdout",
          "output_type": "stream",
          "text": [
            "Epoch [9/10], Train Loss: 0.1662, Train Accuracy: 0.9531, Time: 8.83s\n",
            "\t      Valid Loss: 0.2062, Valid Accuracy: 0.9450\n",
            "\n"
          ]
        },
        {
          "name": "stderr",
          "output_type": "stream",
          "text": [
            "100%|██████████| 938/938 [00:08<00:00, 112.29it/s]\n"
          ]
        },
        {
          "name": "stdout",
          "output_type": "stream",
          "text": [
            "Epoch [10/10], Train Loss: 0.1595, Train Accuracy: 0.9545, Time: 8.35s\n",
            "\t      Valid Loss: 0.2215, Valid Accuracy: 0.9401\n",
            "\n",
            "Training model \"MyMLP\" with device: cuda (AMD Radeon RX 7800 XT) and parameters:\n",
            "\tLearning rate: 0.001\n",
            "\tLoss function: CrossEntropyLoss()\n",
            "\tOptimizer: Adam\n",
            "\n",
            "Number of parameters: 4015\n",
            "\n"
          ]
        },
        {
          "name": "stderr",
          "output_type": "stream",
          "text": [
            "100%|██████████| 938/938 [00:06<00:00, 143.19it/s]\n"
          ]
        },
        {
          "name": "stdout",
          "output_type": "stream",
          "text": [
            "Epoch [1/10], Train Loss: 1.5714, Train Accuracy: 0.4162, Time: 6.55s\n",
            "\t      Valid Loss: 1.2894, Valid Accuracy: 0.5420\n",
            "\n"
          ]
        },
        {
          "name": "stderr",
          "output_type": "stream",
          "text": [
            "100%|██████████| 938/938 [00:06<00:00, 139.85it/s]\n"
          ]
        },
        {
          "name": "stdout",
          "output_type": "stream",
          "text": [
            "Epoch [2/10], Train Loss: 1.1964, Train Accuracy: 0.5800, Time: 6.71s\n",
            "\t      Valid Loss: 1.1189, Valid Accuracy: 0.6248\n",
            "\n"
          ]
        },
        {
          "name": "stderr",
          "output_type": "stream",
          "text": [
            "100%|██████████| 938/938 [00:06<00:00, 147.74it/s]\n"
          ]
        },
        {
          "name": "stdout",
          "output_type": "stream",
          "text": [
            "Epoch [3/10], Train Loss: 1.0877, Train Accuracy: 0.6241, Time: 6.35s\n",
            "\t      Valid Loss: 1.0578, Valid Accuracy: 0.6418\n",
            "\n"
          ]
        },
        {
          "name": "stderr",
          "output_type": "stream",
          "text": [
            "100%|██████████| 938/938 [00:06<00:00, 141.99it/s]\n"
          ]
        },
        {
          "name": "stdout",
          "output_type": "stream",
          "text": [
            "Epoch [4/10], Train Loss: 1.0408, Train Accuracy: 0.6410, Time: 6.61s\n",
            "\t      Valid Loss: 1.0261, Valid Accuracy: 0.6541\n",
            "\n"
          ]
        },
        {
          "name": "stderr",
          "output_type": "stream",
          "text": [
            "100%|██████████| 938/938 [00:06<00:00, 139.89it/s]\n"
          ]
        },
        {
          "name": "stdout",
          "output_type": "stream",
          "text": [
            "Epoch [5/10], Train Loss: 1.0140, Train Accuracy: 0.6528, Time: 6.71s\n",
            "\t      Valid Loss: 1.0440, Valid Accuracy: 0.6433\n",
            "\n"
          ]
        },
        {
          "name": "stderr",
          "output_type": "stream",
          "text": [
            "100%|██████████| 938/938 [00:06<00:00, 139.56it/s]\n"
          ]
        },
        {
          "name": "stdout",
          "output_type": "stream",
          "text": [
            "Epoch [6/10], Train Loss: 0.9945, Train Accuracy: 0.6633, Time: 6.72s\n",
            "\t      Valid Loss: 0.9998, Valid Accuracy: 0.6738\n",
            "\n"
          ]
        },
        {
          "name": "stderr",
          "output_type": "stream",
          "text": [
            "100%|██████████| 938/938 [00:06<00:00, 139.67it/s]\n"
          ]
        },
        {
          "name": "stdout",
          "output_type": "stream",
          "text": [
            "Epoch [7/10], Train Loss: 0.9844, Train Accuracy: 0.6652, Time: 6.72s\n",
            "\t      Valid Loss: 1.0022, Valid Accuracy: 0.6614\n",
            "\n"
          ]
        },
        {
          "name": "stderr",
          "output_type": "stream",
          "text": [
            "100%|██████████| 938/938 [00:06<00:00, 145.50it/s]\n"
          ]
        },
        {
          "name": "stdout",
          "output_type": "stream",
          "text": [
            "Epoch [8/10], Train Loss: 0.9743, Train Accuracy: 0.6699, Time: 6.45s\n",
            "\t      Valid Loss: 1.0058, Valid Accuracy: 0.6675\n",
            "\n"
          ]
        },
        {
          "name": "stderr",
          "output_type": "stream",
          "text": [
            "100%|██████████| 938/938 [00:06<00:00, 149.01it/s]\n"
          ]
        },
        {
          "name": "stdout",
          "output_type": "stream",
          "text": [
            "Epoch [9/10], Train Loss: 0.9691, Train Accuracy: 0.6722, Time: 6.30s\n",
            "\t      Valid Loss: 0.9829, Valid Accuracy: 0.6748\n",
            "\n"
          ]
        },
        {
          "name": "stderr",
          "output_type": "stream",
          "text": [
            "100%|██████████| 938/938 [00:06<00:00, 145.40it/s]\n"
          ]
        },
        {
          "name": "stdout",
          "output_type": "stream",
          "text": [
            "Epoch [10/10], Train Loss: 0.9621, Train Accuracy: 0.6748, Time: 6.45s\n",
            "\t      Valid Loss: 0.9732, Valid Accuracy: 0.6786\n",
            "\n",
            "Training model \"MyKAN\" with device: cuda (AMD Radeon RX 7800 XT) and parameters:\n",
            "\tLearning rate: 0.001\n",
            "\tLoss function: CrossEntropyLoss()\n",
            "\tOptimizer: Adam\n",
            "\n",
            "Number of parameters: 11985\n",
            "\n"
          ]
        },
        {
          "name": "stderr",
          "output_type": "stream",
          "text": [
            "100%|██████████| 938/938 [00:08<00:00, 109.17it/s]\n"
          ]
        },
        {
          "name": "stdout",
          "output_type": "stream",
          "text": [
            "Epoch [1/10], Train Loss: 1.1095, Train Accuracy: 0.6421, Time: 8.59s\n",
            "\t      Valid Loss: 0.7029, Valid Accuracy: 0.7780\n",
            "\n"
          ]
        },
        {
          "name": "stderr",
          "output_type": "stream",
          "text": [
            "100%|██████████| 938/938 [00:08<00:00, 109.90it/s]\n"
          ]
        },
        {
          "name": "stdout",
          "output_type": "stream",
          "text": [
            "Epoch [2/10], Train Loss: 0.5861, Train Accuracy: 0.8243, Time: 8.54s\n",
            "\t      Valid Loss: 0.5091, Valid Accuracy: 0.8560\n",
            "\n"
          ]
        },
        {
          "name": "stderr",
          "output_type": "stream",
          "text": [
            "100%|██████████| 938/938 [00:08<00:00, 109.74it/s]\n"
          ]
        },
        {
          "name": "stdout",
          "output_type": "stream",
          "text": [
            "Epoch [3/10], Train Loss: 0.4612, Train Accuracy: 0.8664, Time: 8.55s\n",
            "\t      Valid Loss: 0.4329, Valid Accuracy: 0.8765\n",
            "\n"
          ]
        },
        {
          "name": "stderr",
          "output_type": "stream",
          "text": [
            "100%|██████████| 938/938 [00:08<00:00, 109.39it/s]\n"
          ]
        },
        {
          "name": "stdout",
          "output_type": "stream",
          "text": [
            "Epoch [4/10], Train Loss: 0.4002, Train Accuracy: 0.8835, Time: 8.58s\n",
            "\t      Valid Loss: 0.3914, Valid Accuracy: 0.8923\n",
            "\n"
          ]
        },
        {
          "name": "stderr",
          "output_type": "stream",
          "text": [
            "100%|██████████| 938/938 [00:08<00:00, 109.72it/s]\n"
          ]
        },
        {
          "name": "stdout",
          "output_type": "stream",
          "text": [
            "Epoch [5/10], Train Loss: 0.3623, Train Accuracy: 0.8954, Time: 8.55s\n",
            "\t      Valid Loss: 0.3686, Valid Accuracy: 0.8972\n",
            "\n"
          ]
        },
        {
          "name": "stderr",
          "output_type": "stream",
          "text": [
            "100%|██████████| 938/938 [00:08<00:00, 111.55it/s]\n"
          ]
        },
        {
          "name": "stdout",
          "output_type": "stream",
          "text": [
            "Epoch [6/10], Train Loss: 0.3391, Train Accuracy: 0.9023, Time: 8.41s\n",
            "\t      Valid Loss: 0.3495, Valid Accuracy: 0.9054\n",
            "\n"
          ]
        },
        {
          "name": "stderr",
          "output_type": "stream",
          "text": [
            "100%|██████████| 938/938 [00:08<00:00, 110.08it/s]\n"
          ]
        },
        {
          "name": "stdout",
          "output_type": "stream",
          "text": [
            "Epoch [7/10], Train Loss: 0.3242, Train Accuracy: 0.9062, Time: 8.52s\n",
            "\t      Valid Loss: 0.3496, Valid Accuracy: 0.9028\n",
            "\n"
          ]
        },
        {
          "name": "stderr",
          "output_type": "stream",
          "text": [
            "100%|██████████| 938/938 [00:08<00:00, 109.38it/s]\n"
          ]
        },
        {
          "name": "stdout",
          "output_type": "stream",
          "text": [
            "Epoch [8/10], Train Loss: 0.3108, Train Accuracy: 0.9106, Time: 8.58s\n",
            "\t      Valid Loss: 0.3319, Valid Accuracy: 0.9118\n",
            "\n"
          ]
        },
        {
          "name": "stderr",
          "output_type": "stream",
          "text": [
            "100%|██████████| 938/938 [00:08<00:00, 109.76it/s]\n"
          ]
        },
        {
          "name": "stdout",
          "output_type": "stream",
          "text": [
            "Epoch [9/10], Train Loss: 0.3009, Train Accuracy: 0.9128, Time: 8.55s\n",
            "\t      Valid Loss: 0.3305, Valid Accuracy: 0.9093\n",
            "\n"
          ]
        },
        {
          "name": "stderr",
          "output_type": "stream",
          "text": [
            "100%|██████████| 938/938 [00:08<00:00, 106.50it/s]\n"
          ]
        },
        {
          "name": "stdout",
          "output_type": "stream",
          "text": [
            "Epoch [10/10], Train Loss: 0.2943, Train Accuracy: 0.9151, Time: 8.81s\n",
            "\t      Valid Loss: 0.3193, Valid Accuracy: 0.9140\n",
            "\n"
          ]
        }
      ],
      "source": [
        "# Define models and parameters\n",
        "\n",
        "model_list_mlp = [\n",
        "    MyMLP([28*28, 128, 10]),\n",
        "    MyMLP([28*28, 64, 10]),\n",
        "    MyMLP([28*28, 10, 10]),\n",
        "    MyMLP([28*28, 10, 10, 10]),\n",
        "    MyMLP([28*28, 5, 5, 10])\n",
        "    ]\n",
        "model_list_kan = [\n",
        "    MyKAN([28*28, 64, 10], grid_size=3),\n",
        "    MyKAN([28*28, 10, 10], grid_size=3),\n",
        "    MyKAN([28*28, 5, 10], grid_size=3),\n",
        "    MyKAN([28*28, 10, 10, 10], grid_size=3),\n",
        "    MyKAN([28*28, 5, 5, 10], grid_size=3)\n",
        "    ]\n",
        "\n",
        "device = torch.device(\"cuda\" if torch.cuda.is_available() else \"cpu\")\n",
        "#device = 'cpu'\n",
        "\n",
        "num_epochs = 10\n",
        "learning_rate = 0.001\n",
        "criterion = nn.CrossEntropyLoss()\n",
        "\n",
        "df_mlp = pd.DataFrame(columns=['Epoch', 'Loss (t)', 'Loss (v)', 'Accuracy (t)', 'Accuracy (v)', 'Time'])\n",
        "df_kan = pd.DataFrame(columns=['Epoch', 'Loss (t)', 'Loss (v)', 'Accuracy (t)', 'Accuracy (v)', 'Time'])\n",
        "separator = pd.DataFrame({'Epoch' : ['---'], 'Loss (t)' : ['---'], 'Loss (v)': ['---'], 'Accuracy (t)': ['---'], 'Accuracy (v)': ['---'], 'Time': ['---']})\n",
        "\n",
        "for model_mlp, model_kan in zip(model_list_mlp, model_list_kan):\n",
        "\n",
        "    optimizer_mlp = torch.optim.Adam(model_mlp.parameters(), lr=learning_rate)\n",
        "    train_losses_mlp, train_accs_mlp, val_losses_mlp, val_accs_mlp, time_mlp = train_and_evaluate(model_mlp, trainloader, valloader, device, num_epochs, optimizer_mlp, criterion)\n",
        "\n",
        "    optimizer_kan = torch.optim.Adam(model_kan.parameters(), lr=learning_rate)\n",
        "    train_losses_kan, train_accs_kan, val_losses_kan, val_accs_kan, time_kan = train_and_evaluate(model_kan, trainloader, valloader, device, num_epochs, optimizer_kan, criterion)\n",
        "\n",
        "    single_df_mlp = pd.DataFrame({\n",
        "        'Epoch': [i for i in range(num_epochs)],\n",
        "        'Loss (t)': [i for i in train_losses_mlp],\n",
        "        'Loss (v)': [i for i in val_losses_mlp],\n",
        "        'Accuracy (t)': [i for i in train_accs_mlp],\n",
        "        'Accuracy (v)': [i for i in val_accs_mlp],\n",
        "        'Time': [i for i in time_mlp]\n",
        "        })\n",
        "\n",
        "    single_df_kan = pd.DataFrame({\n",
        "        'Epoch': [i for i in range(num_epochs)],\n",
        "        'Loss (t)': [i for i in train_losses_kan],\n",
        "        'Loss (v)': [i for i in val_losses_kan],\n",
        "        'Accuracy (t)': [i for i in train_accs_kan],\n",
        "        'Accuracy (v)': [i for i in val_accs_kan],\n",
        "        'Time': [i for i in time_kan]\n",
        "        })\n",
        "\n",
        "    means_mlp = {'Epoch': 'Mean', 'Time': single_df_mlp['Time'].mean()}\n",
        "    means_kan = {'Epoch': 'Mean', 'Time': single_df_kan['Time'].mean()}\n",
        "\n",
        "    num_params_mlp = {'Epoch': f'Params: {model_mlp.num_parameters}'}\n",
        "    num_params_kan = {'Epoch': f'Params: {model_kan.num_parameters}'}\n",
        "\n",
        "    single_df_mlp = pd.concat([single_df_mlp, pd.DataFrame([means_mlp])], ignore_index=True)\n",
        "    single_df_mlp = pd.concat([single_df_mlp, pd.DataFrame([num_params_mlp])], ignore_index=True)\n",
        "    single_df_mlp = pd.concat([single_df_mlp, separator], ignore_index=True)\n",
        "    single_df_kan = pd.concat([single_df_kan, pd.DataFrame([means_kan])], ignore_index=True)\n",
        "    single_df_kan = pd.concat([single_df_kan, pd.DataFrame([num_params_kan])], ignore_index=True)\n",
        "    single_df_kan = pd.concat([single_df_kan, separator], ignore_index=True)\n",
        "\n",
        "    df_mlp = pd.concat([df_mlp, single_df_mlp], ignore_index=True)\n",
        "    df_kan = pd.concat([df_kan, single_df_kan], ignore_index=True)"
      ]
    },
    {
      "cell_type": "code",
      "execution_count": 6,
      "id": "oIXChUGIlwGB",
      "metadata": {
        "id": "oIXChUGIlwGB"
      },
      "outputs": [],
      "source": [
        "#print(df_mlp)\n",
        "df_mlp.to_csv('results_mlp.csv', index = False)\n",
        "df_kan.to_csv('results_kan.csv', index = False)"
      ]
    },
    {
      "cell_type": "markdown",
      "id": "88wAkDGCDwOm",
      "metadata": {
        "id": "88wAkDGCDwOm"
      },
      "source": [
        "Plotting MLP"
      ]
    },
    {
      "cell_type": "code",
      "execution_count": 7,
      "id": "rCQ_ok1WDdOT",
      "metadata": {
        "colab": {
          "base_uri": "https://localhost:8080/",
          "height": 602
        },
        "id": "rCQ_ok1WDdOT",
        "outputId": "d6ff5b91-4589-4ff9-e6f9-f1fae755b88e"
      },
      "outputs": [
        {
          "name": "stderr",
          "output_type": "stream",
          "text": [
            "/tmp/ipykernel_8626/373705896.py:18: UserWarning: FigureCanvasAgg is non-interactive, and thus cannot be shown\n",
            "  fig.show()\n"
          ]
        },
        {
          "data": {
            "image/png": "[encoded data removed]",
            "text/plain": [
              "<Figure size 1200x600 with 2 Axes>"
            ]
          },
          "metadata": {},
          "output_type": "display_data"
        }
      ],
      "source": [
        "fig, [ax1, ax2] = plt.subplots(1, 2, figsize=(12, 6))\n",
        "\n",
        "ax1.plot(range(1, num_epochs+1), train_accs_mlp, label='Train accuracy')\n",
        "ax1.plot(range(1, num_epochs+1), val_accs_mlp, label='Validation accuracy')\n",
        "ax1.set_xlabel('Epochs')\n",
        "ax1.set_ylabel('Accuracy (%)')\n",
        "ax1.set_title('Accuracy')\n",
        "ax1.legend()\n",
        "\n",
        "ax2.plot(range(1, num_epochs+1), train_losses_mlp, label='Train loss')\n",
        "ax2.plot(range(1, num_epochs+1), val_losses_mlp, label='Validation loss')\n",
        "ax2.set_xlabel('Epochs')\n",
        "ax2.set_ylabel('Loss')\n",
        "ax2.set_title('Loss')\n",
        "ax2.legend()\n",
        "\n",
        "fig.suptitle('MLP with layers: (784,64,10) with ReLU activation function')\n",
        "fig.show()"
      ]
    },
    {
      "cell_type": "markdown",
      "id": "AbcvfYsqD0Qd",
      "metadata": {
        "id": "AbcvfYsqD0Qd"
      },
      "source": [
        "Plotting KAN"
      ]
    },
    {
      "cell_type": "code",
      "execution_count": 8,
      "id": "cm5xeTFOER6r",
      "metadata": {
        "colab": {
          "base_uri": "https://localhost:8080/",
          "height": 602
        },
        "id": "cm5xeTFOER6r",
        "outputId": "6185489e-1860-4c9a-a3e7-ba082373590a"
      },
      "outputs": [
        {
          "name": "stderr",
          "output_type": "stream",
          "text": [
            "/tmp/ipykernel_8626/1405184315.py:18: UserWarning: FigureCanvasAgg is non-interactive, and thus cannot be shown\n",
            "  fig.show()\n"
          ]
        },
        {
          "data": {
            "image/png": "[encoded data removed]",
            "text/plain": [
              "<Figure size 1200x600 with 2 Axes>"
            ]
          },
          "metadata": {},
          "output_type": "display_data"
        }
      ],
      "source": [
        "fig, [ax1, ax2] = plt.subplots(1, 2, figsize=(12, 6))\n",
        "\n",
        "ax1.plot(range(1, num_epochs+1), train_accs_kan, label='Train accuracy')\n",
        "ax1.plot(range(1, num_epochs+1), val_accs_kan, label='Validation accuracy')\n",
        "ax1.set_xlabel('Epochs')\n",
        "ax1.set_ylabel('Accuracy (%)')\n",
        "ax1.set_title('Accuracy')\n",
        "ax1.legend()\n",
        "\n",
        "ax2.plot(range(1, num_epochs+1), train_losses_kan, label='Train loss')\n",
        "ax2.plot(range(1, num_epochs+1), val_losses_kan, label='Validation loss')\n",
        "ax2.set_xlabel('Epochs')\n",
        "ax2.set_ylabel('Loss')\n",
        "ax2.set_title('Loss')\n",
        "ax2.legend()\n",
        "\n",
        "fig.suptitle('KAN with layers: (784, 64, 10) with control grid size = 3')\n",
        "fig.show()"
      ]
    }
  ],
  "metadata": {
    "accelerator": "GPU",
    "colab": {
      "gpuType": "T4",
      "provenance": []
    },
    "kernelspec": {
      "display_name": "Python 3",
      "name": "python3"
    },
    "language_info": {
      "codemirror_mode": {
        "name": "ipython",
        "version": 3
      },
      "file_extension": ".py",
      "mimetype": "text/x-python",
      "name": "python",
      "nbconvert_exporter": "python",
      "pygments_lexer": "ipython3",
      "version": "3.10.12"
    }
  },
  "nbformat": 4,
  "nbformat_minor": 5
}
