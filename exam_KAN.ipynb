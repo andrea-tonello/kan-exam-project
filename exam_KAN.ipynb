{
  "cells": [
    {
      "cell_type": "code",
      "execution_count": 1,
      "id": "9cb10b3e",
      "metadata": {
        "id": "9cb10b3e"
      },
      "outputs": [],
      "source": [
        "import torch\n",
        "import torch.nn as nn\n",
        "import torchvision\n",
        "import torchvision.transforms as transforms\n",
        "from torch.utils.data import DataLoader\n",
        "\n",
        "from efficientkan import KAN\n",
        "\n",
        "import numpy as np\n",
        "import pandas as pd\n",
        "from time import time\n",
        "import matplotlib.pyplot as plt\n",
        "from tqdm import tqdm"
      ]
    },
    {
      "cell_type": "code",
      "execution_count": 2,
      "id": "2277dd5f",
      "metadata": {
        "id": "2277dd5f"
      },
      "outputs": [],
      "source": [
        "# Load MNIST dataset\n",
        "\n",
        "transform = transforms.Compose([\n",
        "    torchvision.transforms.Resize(14),\n",
        "    transforms.ToTensor(),  # Convert images to PyTorch tensors and scale to [0,1]\n",
        "    transforms.Normalize((0.5,), (0.5,))  # Normalize to mean=0.5, std=0.5\n",
        "])\n",
        "\n",
        "trainset = torchvision.datasets.MNIST(root=\"./data\", train=True, download=True, transform=transform)\n",
        "valset = torchvision.datasets.MNIST(root=\"./data\", train=False, download=True, transform=transform)\n",
        "\n",
        "trainloader = DataLoader(trainset, batch_size=64, shuffle=True)\n",
        "valloader = DataLoader(valset, batch_size=64, shuffle=False)"
      ]
    },
    {
      "cell_type": "code",
      "execution_count": 3,
      "id": "03bbf654",
      "metadata": {},
      "outputs": [
        {
          "name": "stdout",
          "output_type": "stream",
          "text": [
            "Single image dimensions: torch.Size([28, 28])\n",
            "Image batch dimensions: torch.Size([64, 1, 14, 14])\n",
            "Image label dimensions: torch.Size([64])\n"
          ]
        }
      ],
      "source": [
        "# printing data shapes\n",
        "print(\"Single image dimensions:\", trainset.data[0].shape)\n",
        "for images, labels in trainloader:\n",
        "    print(\"Image batch dimensions:\", images.shape)\n",
        "    print(\"Image label dimensions:\", labels.shape)\n",
        "    break\n",
        "\n",
        "img_res = images.shape[3]"
      ]
    },
    {
      "cell_type": "code",
      "execution_count": 4,
      "id": "a13c9ac1",
      "metadata": {
        "id": "a13c9ac1"
      },
      "outputs": [],
      "source": [
        "class MyMLP(nn.Module):\n",
        "\n",
        "    def __init__(self, layers: list):\n",
        "        super(MyMLP, self).__init__()\n",
        "\n",
        "        to_sequential, self.num_parameters = self.build_layers_and_count_params(layers)\n",
        "        self.layers = nn.Sequential(*to_sequential)\n",
        "\n",
        "    def forward(self, x):\n",
        "        return self.layers(x)\n",
        "\n",
        "\n",
        "    # given a list of layer sizes, builds the respective linear layers with ReLU activation functions.\n",
        "    # Also returns the total number of parameters of the model.\n",
        "    def build_layers_and_count_params(self, layers):\n",
        "\n",
        "        to_sequential = []\n",
        "        num_parameters = 0\n",
        "\n",
        "        for i in range(len(layers) - 1):\n",
        "\n",
        "            to_sequential.append(nn.Linear(layers[i], layers[i+1]))\n",
        "            if i < len(layers)-2:\n",
        "                to_sequential.append(nn.ReLU())\n",
        "\n",
        "            num_parameters += layers[i]*layers[i+1] + layers[i+1]\n",
        "\n",
        "        return to_sequential, num_parameters\n",
        "\n",
        "\n",
        "\n",
        "\n",
        "class MyKAN(nn.Module):\n",
        "\n",
        "    def __init__(self, layers: list, grid_size):\n",
        "        super(MyKAN, self).__init__()\n",
        "\n",
        "        self.num_parameters = self.count_params(layers, grid_size)\n",
        "        self.layers = KAN(layers, grid_size=grid_size)\n",
        "\n",
        "\n",
        "    def forward(self, x):\n",
        "        return self.layers(x)\n",
        "\n",
        "\n",
        "    def count_params(self, layers, grid_size):\n",
        "\n",
        "        num_parameters = 0\n",
        "\n",
        "        for i in range(len(layers) - 1):\n",
        "            num_parameters += layers[i]*layers[i+1]\n",
        "\n",
        "        return num_parameters * grid_size"
      ]
    },
    {
      "cell_type": "code",
      "execution_count": 5,
      "id": "22d45072",
      "metadata": {
        "id": "22d45072"
      },
      "outputs": [],
      "source": [
        "def train_and_evaluate(model, trainloader, valloader, device, num_epochs, optimizer, criterion):\n",
        "\n",
        "    lr = optimizer.param_groups[0]['lr']\n",
        "    print(f'Training model \"{model.__class__.__name__}\" with device: {device} and parameters:' if device=='cpu' else f'Training model \"{model.__class__.__name__}\" with device: {device} ({torch.cuda.get_device_name()}) and parameters:')\n",
        "    print(f'\\tLearning rate: {lr}\\n\\tLoss function: {criterion}\\n\\tOptimizer: {optimizer.__class__.__name__}\\n')\n",
        "    print(f'Number of parameters: {model.num_parameters}\\n')\n",
        "\n",
        "    model.to(device)\n",
        "\n",
        "    train_losses = []\n",
        "    train_accs = []\n",
        "    val_losses = []\n",
        "    val_accs = []\n",
        "    times = []\n",
        "\n",
        "    for epoch in range(num_epochs):\n",
        "\n",
        "# Train\n",
        "        model.train()\n",
        "        train_loss = 0\n",
        "        train_acc = 0\n",
        "\n",
        "        start = time()\n",
        "\n",
        "        with tqdm(trainloader) as pbar:\n",
        "            for i, (images, labels) in enumerate(pbar):\n",
        "                images = images.view(-1, img_res*img_res).to(device)\n",
        "                optimizer.zero_grad()\n",
        "                output = model(images)\n",
        "\n",
        "                loss = criterion(output, labels.to(device))\n",
        "                loss.backward()\n",
        "                optimizer.step()\n",
        "                train_loss += loss.item()\n",
        "\n",
        "                accuracy = (output.argmax(dim=1) == labels.to(device)).float().mean()\n",
        "                train_acc += accuracy.item()\n",
        "\n",
        "        train_losses.append(train_loss / i)\n",
        "        train_accs.append(train_acc / i)\n",
        "\n",
        "        t = time()-start\n",
        "        times.append(t)\n",
        "\n",
        "        print(f\"Epoch [{epoch + 1}/{num_epochs}], Train Loss: {train_loss / i:.4f}, Train Accuracy: {train_acc / i:.4f}, Time: {t:.2f}s\")\n",
        "\n",
        "\n",
        "# Validation\n",
        "        model.eval()\n",
        "        val_loss = 0\n",
        "        val_acc = 0\n",
        "\n",
        "        with torch.no_grad():\n",
        "            for i, (images, labels) in enumerate(valloader):\n",
        "                images = images.view(-1, img_res*img_res).to(device)\n",
        "                output = model(images)\n",
        "\n",
        "                val_loss += criterion(output, labels.to(device)).item()\n",
        "                val_acc += ((output.argmax(dim=1) == labels.to(device)).float().mean().item())\n",
        "\n",
        "        val_losses.append(val_loss / i)\n",
        "        val_accs.append(val_acc / i)\n",
        "\n",
        "        print(f\"\\t      Valid Loss: {val_loss / i:.4f}, Valid Accuracy: {val_acc / i:.4f}\\n\")\n",
        "\n",
        "\n",
        "    return train_losses, train_accs, val_losses, val_accs, times"
      ]
    },
    {
      "cell_type": "code",
      "execution_count": 6,
      "id": "53208362",
      "metadata": {},
      "outputs": [],
      "source": [
        "def build_data_frame(model, num_epochs, train_losses, val_losses, train_accs, val_accs, time, separator):\n",
        "\n",
        "    df = pd.DataFrame({\n",
        "        'Epoch': [i for i in range(num_epochs)],\n",
        "        'Loss (t)': [i for i in train_losses],\n",
        "        'Loss (v)': [i for i in val_losses],\n",
        "        'Accuracy (t)': [i for i in train_accs],\n",
        "        'Accuracy (v)': [i for i in val_accs],\n",
        "        'Time': [i for i in time]\n",
        "        })\n",
        "    \n",
        "    df = pd.concat([df, pd.DataFrame([{'Epoch': 'Mean', 'Time': df['Time'].mean()}])], ignore_index=True)\n",
        "    df = pd.concat([df, pd.DataFrame([{'Epoch': f'Params: {model.num_parameters}'}])], ignore_index=True)\n",
        "    df = pd.concat([df, separator], ignore_index=True)\n",
        "\n",
        "    return df"
      ]
    },
    {
      "cell_type": "code",
      "execution_count": 7,
      "id": "12fe729d",
      "metadata": {
        "colab": {
          "base_uri": "https://localhost:8080/"
        },
        "id": "12fe729d",
        "outputId": "115a3f50-7f15-472a-d33a-3b363edc81d2"
      },
      "outputs": [
        {
          "name": "stdout",
          "output_type": "stream",
          "text": [
            "Training model \"MyMLP\" with device: cuda (AMD Radeon RX 7800 XT) and parameters:\n",
            "\tLearning rate: 0.001\n",
            "\tLoss function: CrossEntropyLoss()\n",
            "\tOptimizer: Adam\n",
            "\n",
            "Number of parameters: 26506\n",
            "\n"
          ]
        },
        {
          "name": "stderr",
          "output_type": "stream",
          "text": [
            "100%|██████████| 938/938 [00:08<00:00, 112.07it/s]\n"
          ]
        },
        {
          "name": "stdout",
          "output_type": "stream",
          "text": [
            "Epoch [1/10], Train Loss: 0.4952, Train Accuracy: 0.8625, Time: 8.37s\n",
            "\t      Valid Loss: 0.2977, Valid Accuracy: 0.9215\n",
            "\n"
          ]
        },
        {
          "name": "stderr",
          "output_type": "stream",
          "text": [
            "100%|██████████| 938/938 [00:07<00:00, 124.23it/s]\n"
          ]
        },
        {
          "name": "stdout",
          "output_type": "stream",
          "text": [
            "Epoch [2/10], Train Loss: 0.2666, Train Accuracy: 0.9215, Time: 7.55s\n",
            "\t      Valid Loss: 0.2099, Valid Accuracy: 0.9445\n",
            "\n"
          ]
        },
        {
          "name": "stderr",
          "output_type": "stream",
          "text": [
            "100%|██████████| 938/938 [00:07<00:00, 117.76it/s]\n"
          ]
        },
        {
          "name": "stdout",
          "output_type": "stream",
          "text": [
            "Epoch [3/10], Train Loss: 0.2005, Train Accuracy: 0.9423, Time: 7.97s\n",
            "\t      Valid Loss: 0.1758, Valid Accuracy: 0.9519\n",
            "\n"
          ]
        },
        {
          "name": "stderr",
          "output_type": "stream",
          "text": [
            "100%|██████████| 938/938 [00:07<00:00, 126.17it/s]\n"
          ]
        },
        {
          "name": "stdout",
          "output_type": "stream",
          "text": [
            "Epoch [4/10], Train Loss: 0.1610, Train Accuracy: 0.9538, Time: 7.44s\n",
            "\t      Valid Loss: 0.1325, Valid Accuracy: 0.9674\n",
            "\n"
          ]
        },
        {
          "name": "stderr",
          "output_type": "stream",
          "text": [
            "100%|██████████| 938/938 [00:07<00:00, 120.50it/s]\n"
          ]
        },
        {
          "name": "stdout",
          "output_type": "stream",
          "text": [
            "Epoch [5/10], Train Loss: 0.1375, Train Accuracy: 0.9607, Time: 7.79s\n",
            "\t      Valid Loss: 0.1327, Valid Accuracy: 0.9668\n",
            "\n"
          ]
        },
        {
          "name": "stderr",
          "output_type": "stream",
          "text": [
            "100%|██████████| 938/938 [00:07<00:00, 120.73it/s]\n"
          ]
        },
        {
          "name": "stdout",
          "output_type": "stream",
          "text": [
            "Epoch [6/10], Train Loss: 0.1211, Train Accuracy: 0.9653, Time: 7.77s\n",
            "\t      Valid Loss: 0.1151, Valid Accuracy: 0.9729\n",
            "\n"
          ]
        },
        {
          "name": "stderr",
          "output_type": "stream",
          "text": [
            "100%|██████████| 938/938 [00:07<00:00, 121.87it/s]\n"
          ]
        },
        {
          "name": "stdout",
          "output_type": "stream",
          "text": [
            "Epoch [7/10], Train Loss: 0.1100, Train Accuracy: 0.9683, Time: 7.70s\n",
            "\t      Valid Loss: 0.1068, Valid Accuracy: 0.9736\n",
            "\n"
          ]
        },
        {
          "name": "stderr",
          "output_type": "stream",
          "text": [
            "100%|██████████| 938/938 [00:07<00:00, 120.49it/s]\n"
          ]
        },
        {
          "name": "stdout",
          "output_type": "stream",
          "text": [
            "Epoch [8/10], Train Loss: 0.1000, Train Accuracy: 0.9704, Time: 7.79s\n",
            "\t      Valid Loss: 0.1032, Valid Accuracy: 0.9760\n",
            "\n"
          ]
        },
        {
          "name": "stderr",
          "output_type": "stream",
          "text": [
            "100%|██████████| 938/938 [00:07<00:00, 121.28it/s]\n"
          ]
        },
        {
          "name": "stdout",
          "output_type": "stream",
          "text": [
            "Epoch [9/10], Train Loss: 0.0925, Train Accuracy: 0.9726, Time: 7.74s\n",
            "\t      Valid Loss: 0.0998, Valid Accuracy: 0.9763\n",
            "\n"
          ]
        },
        {
          "name": "stderr",
          "output_type": "stream",
          "text": [
            "100%|██████████| 938/938 [00:07<00:00, 122.86it/s]\n"
          ]
        },
        {
          "name": "stdout",
          "output_type": "stream",
          "text": [
            "Epoch [10/10], Train Loss: 0.0861, Train Accuracy: 0.9743, Time: 7.64s\n",
            "\t      Valid Loss: 0.0904, Valid Accuracy: 0.9788\n",
            "\n",
            "Training model \"MyKAN\" with device: cuda (AMD Radeon RX 7800 XT) and parameters:\n",
            "\tLearning rate: 0.001\n",
            "\tLoss function: CrossEntropyLoss()\n",
            "\tOptimizer: Adam\n",
            "\n",
            "Number of parameters: 79104\n",
            "\n"
          ]
        },
        {
          "name": "stderr",
          "output_type": "stream",
          "text": [
            "100%|██████████| 938/938 [00:08<00:00, 109.49it/s]\n"
          ]
        },
        {
          "name": "stdout",
          "output_type": "stream",
          "text": [
            "Epoch [1/10], Train Loss: 0.4651, Train Accuracy: 0.8701, Time: 8.57s\n",
            "\t      Valid Loss: 0.2268, Valid Accuracy: 0.9401\n",
            "\n"
          ]
        },
        {
          "name": "stderr",
          "output_type": "stream",
          "text": [
            "100%|██████████| 938/938 [00:08<00:00, 107.11it/s]\n"
          ]
        },
        {
          "name": "stdout",
          "output_type": "stream",
          "text": [
            "Epoch [2/10], Train Loss: 0.1895, Train Accuracy: 0.9446, Time: 8.76s\n",
            "\t      Valid Loss: 0.1560, Valid Accuracy: 0.9593\n",
            "\n"
          ]
        },
        {
          "name": "stderr",
          "output_type": "stream",
          "text": [
            "100%|██████████| 938/938 [00:08<00:00, 108.82it/s]\n"
          ]
        },
        {
          "name": "stdout",
          "output_type": "stream",
          "text": [
            "Epoch [3/10], Train Loss: 0.1254, Train Accuracy: 0.9643, Time: 8.62s\n",
            "\t      Valid Loss: 0.1133, Valid Accuracy: 0.9732\n",
            "\n"
          ]
        },
        {
          "name": "stderr",
          "output_type": "stream",
          "text": [
            "100%|██████████| 938/938 [00:08<00:00, 110.44it/s]\n"
          ]
        },
        {
          "name": "stdout",
          "output_type": "stream",
          "text": [
            "Epoch [4/10], Train Loss: 0.0928, Train Accuracy: 0.9734, Time: 8.49s\n",
            "\t      Valid Loss: 0.0894, Valid Accuracy: 0.9777\n",
            "\n"
          ]
        },
        {
          "name": "stderr",
          "output_type": "stream",
          "text": [
            "100%|██████████| 938/938 [00:08<00:00, 107.81it/s]\n"
          ]
        },
        {
          "name": "stdout",
          "output_type": "stream",
          "text": [
            "Epoch [5/10], Train Loss: 0.0718, Train Accuracy: 0.9797, Time: 8.70s\n",
            "\t      Valid Loss: 0.0827, Valid Accuracy: 0.9794\n",
            "\n"
          ]
        },
        {
          "name": "stderr",
          "output_type": "stream",
          "text": [
            "100%|██████████| 938/938 [00:08<00:00, 105.17it/s]\n"
          ]
        },
        {
          "name": "stdout",
          "output_type": "stream",
          "text": [
            "Epoch [6/10], Train Loss: 0.0575, Train Accuracy: 0.9842, Time: 8.92s\n",
            "\t      Valid Loss: 0.0800, Valid Accuracy: 0.9812\n",
            "\n"
          ]
        },
        {
          "name": "stderr",
          "output_type": "stream",
          "text": [
            "100%|██████████| 938/938 [00:09<00:00, 102.64it/s]\n"
          ]
        },
        {
          "name": "stdout",
          "output_type": "stream",
          "text": [
            "Epoch [7/10], Train Loss: 0.0468, Train Accuracy: 0.9867, Time: 9.14s\n",
            "\t      Valid Loss: 0.0686, Valid Accuracy: 0.9843\n",
            "\n"
          ]
        },
        {
          "name": "stderr",
          "output_type": "stream",
          "text": [
            "100%|██████████| 938/938 [00:08<00:00, 105.93it/s]\n"
          ]
        },
        {
          "name": "stdout",
          "output_type": "stream",
          "text": [
            "Epoch [8/10], Train Loss: 0.0380, Train Accuracy: 0.9897, Time: 8.86s\n",
            "\t      Valid Loss: 0.0692, Valid Accuracy: 0.9836\n",
            "\n"
          ]
        },
        {
          "name": "stderr",
          "output_type": "stream",
          "text": [
            "100%|██████████| 938/938 [00:08<00:00, 105.06it/s]\n"
          ]
        },
        {
          "name": "stdout",
          "output_type": "stream",
          "text": [
            "Epoch [9/10], Train Loss: 0.0307, Train Accuracy: 0.9920, Time: 8.93s\n",
            "\t      Valid Loss: 0.0707, Valid Accuracy: 0.9850\n",
            "\n"
          ]
        },
        {
          "name": "stderr",
          "output_type": "stream",
          "text": [
            "100%|██████████| 938/938 [00:09<00:00, 102.47it/s]\n"
          ]
        },
        {
          "name": "stdout",
          "output_type": "stream",
          "text": [
            "Epoch [10/10], Train Loss: 0.0257, Train Accuracy: 0.9939, Time: 9.16s\n",
            "\t      Valid Loss: 0.0673, Valid Accuracy: 0.9861\n",
            "\n",
            "Training model \"MyMLP\" with device: cuda (AMD Radeon RX 7800 XT) and parameters:\n",
            "\tLearning rate: 0.001\n",
            "\tLoss function: CrossEntropyLoss()\n",
            "\tOptimizer: Adam\n",
            "\n",
            "Number of parameters: 13258\n",
            "\n"
          ]
        },
        {
          "name": "stderr",
          "output_type": "stream",
          "text": [
            "100%|██████████| 938/938 [00:07<00:00, 118.85it/s]\n"
          ]
        },
        {
          "name": "stdout",
          "output_type": "stream",
          "text": [
            "Epoch [1/10], Train Loss: 0.5599, Train Accuracy: 0.8487, Time: 7.89s\n",
            "\t      Valid Loss: 0.3191, Valid Accuracy: 0.9122\n",
            "\n"
          ]
        },
        {
          "name": "stderr",
          "output_type": "stream",
          "text": [
            "100%|██████████| 938/938 [00:08<00:00, 116.99it/s]\n"
          ]
        },
        {
          "name": "stdout",
          "output_type": "stream",
          "text": [
            "Epoch [2/10], Train Loss: 0.3094, Train Accuracy: 0.9109, Time: 8.02s\n",
            "\t      Valid Loss: 0.2647, Valid Accuracy: 0.9311\n",
            "\n"
          ]
        },
        {
          "name": "stderr",
          "output_type": "stream",
          "text": [
            "100%|██████████| 938/938 [00:07<00:00, 122.24it/s]\n"
          ]
        },
        {
          "name": "stdout",
          "output_type": "stream",
          "text": [
            "Epoch [3/10], Train Loss: 0.2566, Train Accuracy: 0.9260, Time: 7.67s\n",
            "\t      Valid Loss: 0.2222, Valid Accuracy: 0.9401\n",
            "\n"
          ]
        },
        {
          "name": "stderr",
          "output_type": "stream",
          "text": [
            "100%|██████████| 938/938 [00:07<00:00, 119.24it/s]\n"
          ]
        },
        {
          "name": "stdout",
          "output_type": "stream",
          "text": [
            "Epoch [4/10], Train Loss: 0.2183, Train Accuracy: 0.9367, Time: 7.87s\n",
            "\t      Valid Loss: 0.2087, Valid Accuracy: 0.9459\n",
            "\n"
          ]
        },
        {
          "name": "stderr",
          "output_type": "stream",
          "text": [
            "100%|██████████| 938/938 [00:07<00:00, 126.38it/s]\n"
          ]
        },
        {
          "name": "stdout",
          "output_type": "stream",
          "text": [
            "Epoch [5/10], Train Loss: 0.1929, Train Accuracy: 0.9440, Time: 7.42s\n",
            "\t      Valid Loss: 0.1725, Valid Accuracy: 0.9548\n",
            "\n"
          ]
        },
        {
          "name": "stderr",
          "output_type": "stream",
          "text": [
            "100%|██████████| 938/938 [00:07<00:00, 119.88it/s]\n"
          ]
        },
        {
          "name": "stdout",
          "output_type": "stream",
          "text": [
            "Epoch [6/10], Train Loss: 0.1709, Train Accuracy: 0.9513, Time: 7.83s\n",
            "\t      Valid Loss: 0.1526, Valid Accuracy: 0.9622\n",
            "\n"
          ]
        },
        {
          "name": "stderr",
          "output_type": "stream",
          "text": [
            "100%|██████████| 938/938 [00:07<00:00, 119.21it/s]\n"
          ]
        },
        {
          "name": "stdout",
          "output_type": "stream",
          "text": [
            "Epoch [7/10], Train Loss: 0.1532, Train Accuracy: 0.9559, Time: 7.87s\n",
            "\t      Valid Loss: 0.1401, Valid Accuracy: 0.9655\n",
            "\n"
          ]
        },
        {
          "name": "stderr",
          "output_type": "stream",
          "text": [
            "100%|██████████| 938/938 [00:07<00:00, 124.31it/s]\n"
          ]
        },
        {
          "name": "stdout",
          "output_type": "stream",
          "text": [
            "Epoch [8/10], Train Loss: 0.1416, Train Accuracy: 0.9594, Time: 7.55s\n",
            "\t      Valid Loss: 0.1294, Valid Accuracy: 0.9693\n",
            "\n"
          ]
        },
        {
          "name": "stderr",
          "output_type": "stream",
          "text": [
            "100%|██████████| 938/938 [00:07<00:00, 124.06it/s]\n"
          ]
        },
        {
          "name": "stdout",
          "output_type": "stream",
          "text": [
            "Epoch [9/10], Train Loss: 0.1315, Train Accuracy: 0.9623, Time: 7.56s\n",
            "\t      Valid Loss: 0.1236, Valid Accuracy: 0.9705\n",
            "\n"
          ]
        },
        {
          "name": "stderr",
          "output_type": "stream",
          "text": [
            "100%|██████████| 938/938 [00:07<00:00, 124.42it/s]\n"
          ]
        },
        {
          "name": "stdout",
          "output_type": "stream",
          "text": [
            "Epoch [10/10], Train Loss: 0.1232, Train Accuracy: 0.9641, Time: 7.54s\n",
            "\t      Valid Loss: 0.1237, Valid Accuracy: 0.9705\n",
            "\n",
            "Training model \"MyKAN\" with device: cuda (AMD Radeon RX 7800 XT) and parameters:\n",
            "\tLearning rate: 0.001\n",
            "\tLoss function: CrossEntropyLoss()\n",
            "\tOptimizer: Adam\n",
            "\n",
            "Number of parameters: 39552\n",
            "\n"
          ]
        },
        {
          "name": "stderr",
          "output_type": "stream",
          "text": [
            "100%|██████████| 938/938 [00:08<00:00, 109.00it/s]\n"
          ]
        },
        {
          "name": "stdout",
          "output_type": "stream",
          "text": [
            "Epoch [1/10], Train Loss: 0.5054, Train Accuracy: 0.8588, Time: 8.61s\n",
            "\t      Valid Loss: 0.2404, Valid Accuracy: 0.9374\n",
            "\n"
          ]
        },
        {
          "name": "stderr",
          "output_type": "stream",
          "text": [
            "100%|██████████| 938/938 [00:08<00:00, 108.16it/s]\n"
          ]
        },
        {
          "name": "stdout",
          "output_type": "stream",
          "text": [
            "Epoch [2/10], Train Loss: 0.2086, Train Accuracy: 0.9391, Time: 8.67s\n",
            "\t      Valid Loss: 0.1717, Valid Accuracy: 0.9563\n",
            "\n"
          ]
        },
        {
          "name": "stderr",
          "output_type": "stream",
          "text": [
            "100%|██████████| 938/938 [00:08<00:00, 106.64it/s]\n"
          ]
        },
        {
          "name": "stdout",
          "output_type": "stream",
          "text": [
            "Epoch [3/10], Train Loss: 0.1523, Train Accuracy: 0.9549, Time: 8.80s\n",
            "\t      Valid Loss: 0.1366, Valid Accuracy: 0.9673\n",
            "\n"
          ]
        },
        {
          "name": "stderr",
          "output_type": "stream",
          "text": [
            "100%|██████████| 938/938 [00:08<00:00, 110.25it/s]\n"
          ]
        },
        {
          "name": "stdout",
          "output_type": "stream",
          "text": [
            "Epoch [4/10], Train Loss: 0.1192, Train Accuracy: 0.9656, Time: 8.51s\n",
            "\t      Valid Loss: 0.1141, Valid Accuracy: 0.9727\n",
            "\n"
          ]
        },
        {
          "name": "stderr",
          "output_type": "stream",
          "text": [
            "100%|██████████| 938/938 [00:08<00:00, 107.47it/s]\n"
          ]
        },
        {
          "name": "stdout",
          "output_type": "stream",
          "text": [
            "Epoch [5/10], Train Loss: 0.0978, Train Accuracy: 0.9713, Time: 8.73s\n",
            "\t      Valid Loss: 0.1009, Valid Accuracy: 0.9769\n",
            "\n"
          ]
        },
        {
          "name": "stderr",
          "output_type": "stream",
          "text": [
            "100%|██████████| 938/938 [00:08<00:00, 106.24it/s]\n"
          ]
        },
        {
          "name": "stdout",
          "output_type": "stream",
          "text": [
            "Epoch [6/10], Train Loss: 0.0820, Train Accuracy: 0.9764, Time: 8.83s\n",
            "\t      Valid Loss: 0.0952, Valid Accuracy: 0.9781\n",
            "\n"
          ]
        },
        {
          "name": "stderr",
          "output_type": "stream",
          "text": [
            "100%|██████████| 938/938 [00:08<00:00, 107.26it/s]\n"
          ]
        },
        {
          "name": "stdout",
          "output_type": "stream",
          "text": [
            "Epoch [7/10], Train Loss: 0.0702, Train Accuracy: 0.9801, Time: 8.75s\n",
            "\t      Valid Loss: 0.0862, Valid Accuracy: 0.9795\n",
            "\n"
          ]
        },
        {
          "name": "stderr",
          "output_type": "stream",
          "text": [
            "100%|██████████| 938/938 [00:09<00:00, 102.29it/s]\n"
          ]
        },
        {
          "name": "stdout",
          "output_type": "stream",
          "text": [
            "Epoch [8/10], Train Loss: 0.0611, Train Accuracy: 0.9828, Time: 9.17s\n",
            "\t      Valid Loss: 0.0875, Valid Accuracy: 0.9794\n",
            "\n"
          ]
        },
        {
          "name": "stderr",
          "output_type": "stream",
          "text": [
            "100%|██████████| 938/938 [00:09<00:00, 103.37it/s]\n"
          ]
        },
        {
          "name": "stdout",
          "output_type": "stream",
          "text": [
            "Epoch [9/10], Train Loss: 0.0526, Train Accuracy: 0.9858, Time: 9.08s\n",
            "\t      Valid Loss: 0.0867, Valid Accuracy: 0.9811\n",
            "\n"
          ]
        },
        {
          "name": "stderr",
          "output_type": "stream",
          "text": [
            "100%|██████████| 938/938 [00:08<00:00, 108.87it/s]\n"
          ]
        },
        {
          "name": "stdout",
          "output_type": "stream",
          "text": [
            "Epoch [10/10], Train Loss: 0.0470, Train Accuracy: 0.9873, Time: 8.62s\n",
            "\t      Valid Loss: 0.0834, Valid Accuracy: 0.9804\n",
            "\n",
            "Training model \"MyMLP\" with device: cuda (AMD Radeon RX 7800 XT) and parameters:\n",
            "\tLearning rate: 0.001\n",
            "\tLoss function: CrossEntropyLoss()\n",
            "\tOptimizer: Adam\n",
            "\n",
            "Number of parameters: 2080\n",
            "\n"
          ]
        },
        {
          "name": "stderr",
          "output_type": "stream",
          "text": [
            "100%|██████████| 938/938 [00:07<00:00, 121.87it/s]\n"
          ]
        },
        {
          "name": "stdout",
          "output_type": "stream",
          "text": [
            "Epoch [1/10], Train Loss: 1.1275, Train Accuracy: 0.6425, Time: 7.70s\n",
            "\t      Valid Loss: 0.6401, Valid Accuracy: 0.8060\n",
            "\n"
          ]
        },
        {
          "name": "stderr",
          "output_type": "stream",
          "text": [
            "100%|██████████| 938/938 [00:07<00:00, 127.81it/s]\n"
          ]
        },
        {
          "name": "stdout",
          "output_type": "stream",
          "text": [
            "Epoch [2/10], Train Loss: 0.5797, Train Accuracy: 0.8244, Time: 7.34s\n",
            "\t      Valid Loss: 0.5042, Valid Accuracy: 0.8502\n",
            "\n"
          ]
        },
        {
          "name": "stderr",
          "output_type": "stream",
          "text": [
            "100%|██████████| 938/938 [00:07<00:00, 126.92it/s]\n"
          ]
        },
        {
          "name": "stdout",
          "output_type": "stream",
          "text": [
            "Epoch [3/10], Train Loss: 0.5002, Train Accuracy: 0.8507, Time: 7.39s\n",
            "\t      Valid Loss: 0.4601, Valid Accuracy: 0.8658\n",
            "\n"
          ]
        },
        {
          "name": "stderr",
          "output_type": "stream",
          "text": [
            "100%|██████████| 938/938 [00:07<00:00, 121.98it/s]\n"
          ]
        },
        {
          "name": "stdout",
          "output_type": "stream",
          "text": [
            "Epoch [4/10], Train Loss: 0.4690, Train Accuracy: 0.8620, Time: 7.69s\n",
            "\t      Valid Loss: 0.4372, Valid Accuracy: 0.8732\n",
            "\n"
          ]
        },
        {
          "name": "stderr",
          "output_type": "stream",
          "text": [
            "100%|██████████| 938/938 [00:07<00:00, 120.59it/s]\n"
          ]
        },
        {
          "name": "stdout",
          "output_type": "stream",
          "text": [
            "Epoch [5/10], Train Loss: 0.4502, Train Accuracy: 0.8684, Time: 7.78s\n",
            "\t      Valid Loss: 0.4262, Valid Accuracy: 0.8768\n",
            "\n"
          ]
        },
        {
          "name": "stderr",
          "output_type": "stream",
          "text": [
            "100%|██████████| 938/938 [00:07<00:00, 120.93it/s]\n"
          ]
        },
        {
          "name": "stdout",
          "output_type": "stream",
          "text": [
            "Epoch [6/10], Train Loss: 0.4375, Train Accuracy: 0.8723, Time: 7.76s\n",
            "\t      Valid Loss: 0.4162, Valid Accuracy: 0.8820\n",
            "\n"
          ]
        },
        {
          "name": "stderr",
          "output_type": "stream",
          "text": [
            "100%|██████████| 938/938 [00:07<00:00, 120.94it/s]\n"
          ]
        },
        {
          "name": "stdout",
          "output_type": "stream",
          "text": [
            "Epoch [7/10], Train Loss: 0.4287, Train Accuracy: 0.8752, Time: 7.76s\n",
            "\t      Valid Loss: 0.4118, Valid Accuracy: 0.8836\n",
            "\n"
          ]
        },
        {
          "name": "stderr",
          "output_type": "stream",
          "text": [
            "100%|██████████| 938/938 [00:07<00:00, 122.55it/s]\n"
          ]
        },
        {
          "name": "stdout",
          "output_type": "stream",
          "text": [
            "Epoch [8/10], Train Loss: 0.4217, Train Accuracy: 0.8770, Time: 7.66s\n",
            "\t      Valid Loss: 0.4022, Valid Accuracy: 0.8888\n",
            "\n"
          ]
        },
        {
          "name": "stderr",
          "output_type": "stream",
          "text": [
            "100%|██████████| 938/938 [00:07<00:00, 122.30it/s]\n"
          ]
        },
        {
          "name": "stdout",
          "output_type": "stream",
          "text": [
            "Epoch [9/10], Train Loss: 0.4173, Train Accuracy: 0.8775, Time: 7.67s\n",
            "\t      Valid Loss: 0.4016, Valid Accuracy: 0.8882\n",
            "\n"
          ]
        },
        {
          "name": "stderr",
          "output_type": "stream",
          "text": [
            "100%|██████████| 938/938 [00:07<00:00, 119.91it/s]\n"
          ]
        },
        {
          "name": "stdout",
          "output_type": "stream",
          "text": [
            "Epoch [10/10], Train Loss: 0.4117, Train Accuracy: 0.8801, Time: 7.82s\n",
            "\t      Valid Loss: 0.3986, Valid Accuracy: 0.8864\n",
            "\n",
            "Training model \"MyKAN\" with device: cuda (AMD Radeon RX 7800 XT) and parameters:\n",
            "\tLearning rate: 0.001\n",
            "\tLoss function: CrossEntropyLoss()\n",
            "\tOptimizer: Adam\n",
            "\n",
            "Number of parameters: 6180\n",
            "\n"
          ]
        },
        {
          "name": "stderr",
          "output_type": "stream",
          "text": [
            "100%|██████████| 938/938 [00:09<00:00, 103.93it/s]\n"
          ]
        },
        {
          "name": "stdout",
          "output_type": "stream",
          "text": [
            "Epoch [1/10], Train Loss: 0.7514, Train Accuracy: 0.7832, Time: 9.03s\n",
            "\t      Valid Loss: 0.3295, Valid Accuracy: 0.9111\n",
            "\n"
          ]
        },
        {
          "name": "stderr",
          "output_type": "stream",
          "text": [
            "100%|██████████| 938/938 [00:08<00:00, 107.79it/s]\n"
          ]
        },
        {
          "name": "stdout",
          "output_type": "stream",
          "text": [
            "Epoch [2/10], Train Loss: 0.2914, Train Accuracy: 0.9176, Time: 8.70s\n",
            "\t      Valid Loss: 0.2643, Valid Accuracy: 0.9288\n",
            "\n"
          ]
        },
        {
          "name": "stderr",
          "output_type": "stream",
          "text": [
            "100%|██████████| 938/938 [00:08<00:00, 106.87it/s]\n"
          ]
        },
        {
          "name": "stdout",
          "output_type": "stream",
          "text": [
            "Epoch [3/10], Train Loss: 0.2454, Train Accuracy: 0.9284, Time: 8.78s\n",
            "\t      Valid Loss: 0.2334, Valid Accuracy: 0.9416\n",
            "\n"
          ]
        },
        {
          "name": "stderr",
          "output_type": "stream",
          "text": [
            "100%|██████████| 938/938 [00:08<00:00, 109.95it/s]\n"
          ]
        },
        {
          "name": "stdout",
          "output_type": "stream",
          "text": [
            "Epoch [4/10], Train Loss: 0.2184, Train Accuracy: 0.9362, Time: 8.53s\n",
            "\t      Valid Loss: 0.2126, Valid Accuracy: 0.9448\n",
            "\n"
          ]
        },
        {
          "name": "stderr",
          "output_type": "stream",
          "text": [
            "100%|██████████| 938/938 [00:08<00:00, 108.11it/s]\n"
          ]
        },
        {
          "name": "stdout",
          "output_type": "stream",
          "text": [
            "Epoch [5/10], Train Loss: 0.2018, Train Accuracy: 0.9410, Time: 8.68s\n",
            "\t      Valid Loss: 0.1973, Valid Accuracy: 0.9489\n",
            "\n"
          ]
        },
        {
          "name": "stderr",
          "output_type": "stream",
          "text": [
            "100%|██████████| 938/938 [00:08<00:00, 109.18it/s]\n"
          ]
        },
        {
          "name": "stdout",
          "output_type": "stream",
          "text": [
            "Epoch [6/10], Train Loss: 0.1894, Train Accuracy: 0.9450, Time: 8.59s\n",
            "\t      Valid Loss: 0.1942, Valid Accuracy: 0.9479\n",
            "\n"
          ]
        },
        {
          "name": "stderr",
          "output_type": "stream",
          "text": [
            "100%|██████████| 938/938 [00:08<00:00, 104.46it/s]\n"
          ]
        },
        {
          "name": "stdout",
          "output_type": "stream",
          "text": [
            "Epoch [7/10], Train Loss: 0.1796, Train Accuracy: 0.9475, Time: 8.98s\n",
            "\t      Valid Loss: 0.1867, Valid Accuracy: 0.9512\n",
            "\n"
          ]
        },
        {
          "name": "stderr",
          "output_type": "stream",
          "text": [
            "100%|██████████| 938/938 [00:09<00:00, 103.18it/s]\n"
          ]
        },
        {
          "name": "stdout",
          "output_type": "stream",
          "text": [
            "Epoch [8/10], Train Loss: 0.1720, Train Accuracy: 0.9494, Time: 9.09s\n",
            "\t      Valid Loss: 0.1836, Valid Accuracy: 0.9528\n",
            "\n"
          ]
        },
        {
          "name": "stderr",
          "output_type": "stream",
          "text": [
            "100%|██████████| 938/938 [00:09<00:00, 101.14it/s]\n"
          ]
        },
        {
          "name": "stdout",
          "output_type": "stream",
          "text": [
            "Epoch [9/10], Train Loss: 0.1649, Train Accuracy: 0.9519, Time: 9.28s\n",
            "\t      Valid Loss: 0.1798, Valid Accuracy: 0.9539\n",
            "\n"
          ]
        },
        {
          "name": "stderr",
          "output_type": "stream",
          "text": [
            "100%|██████████| 938/938 [00:09<00:00, 103.62it/s]\n"
          ]
        },
        {
          "name": "stdout",
          "output_type": "stream",
          "text": [
            "Epoch [10/10], Train Loss: 0.1606, Train Accuracy: 0.9526, Time: 9.05s\n",
            "\t      Valid Loss: 0.1748, Valid Accuracy: 0.9546\n",
            "\n",
            "Training model \"MyMLP\" with device: cuda (AMD Radeon RX 7800 XT) and parameters:\n",
            "\tLearning rate: 0.001\n",
            "\tLoss function: CrossEntropyLoss()\n",
            "\tOptimizer: Adam\n",
            "\n",
            "Number of parameters: 1045\n",
            "\n"
          ]
        },
        {
          "name": "stderr",
          "output_type": "stream",
          "text": [
            "100%|██████████| 938/938 [00:07<00:00, 119.86it/s]\n"
          ]
        },
        {
          "name": "stdout",
          "output_type": "stream",
          "text": [
            "Epoch [1/10], Train Loss: 1.5489, Train Accuracy: 0.4522, Time: 7.83s\n",
            "\t      Valid Loss: 1.1642, Valid Accuracy: 0.6364\n",
            "\n"
          ]
        },
        {
          "name": "stderr",
          "output_type": "stream",
          "text": [
            "100%|██████████| 938/938 [00:07<00:00, 118.64it/s]\n"
          ]
        },
        {
          "name": "stdout",
          "output_type": "stream",
          "text": [
            "Epoch [2/10], Train Loss: 1.0414, Train Accuracy: 0.6643, Time: 7.91s\n",
            "\t      Valid Loss: 0.9421, Valid Accuracy: 0.6963\n",
            "\n"
          ]
        },
        {
          "name": "stderr",
          "output_type": "stream",
          "text": [
            "100%|██████████| 938/938 [00:07<00:00, 120.14it/s]\n"
          ]
        },
        {
          "name": "stdout",
          "output_type": "stream",
          "text": [
            "Epoch [3/10], Train Loss: 0.9101, Train Accuracy: 0.6979, Time: 7.81s\n",
            "\t      Valid Loss: 0.8634, Valid Accuracy: 0.7180\n",
            "\n"
          ]
        },
        {
          "name": "stderr",
          "output_type": "stream",
          "text": [
            "100%|██████████| 938/938 [00:07<00:00, 118.87it/s]\n"
          ]
        },
        {
          "name": "stdout",
          "output_type": "stream",
          "text": [
            "Epoch [4/10], Train Loss: 0.8528, Train Accuracy: 0.7148, Time: 7.89s\n",
            "\t      Valid Loss: 0.8203, Valid Accuracy: 0.7299\n",
            "\n"
          ]
        },
        {
          "name": "stderr",
          "output_type": "stream",
          "text": [
            "100%|██████████| 938/938 [00:07<00:00, 119.17it/s]\n"
          ]
        },
        {
          "name": "stdout",
          "output_type": "stream",
          "text": [
            "Epoch [5/10], Train Loss: 0.8214, Train Accuracy: 0.7252, Time: 7.87s\n",
            "\t      Valid Loss: 0.8008, Valid Accuracy: 0.7379\n",
            "\n"
          ]
        },
        {
          "name": "stderr",
          "output_type": "stream",
          "text": [
            "100%|██████████| 938/938 [00:07<00:00, 118.97it/s]\n"
          ]
        },
        {
          "name": "stdout",
          "output_type": "stream",
          "text": [
            "Epoch [6/10], Train Loss: 0.7990, Train Accuracy: 0.7373, Time: 7.89s\n",
            "\t      Valid Loss: 0.7790, Valid Accuracy: 0.7526\n",
            "\n"
          ]
        },
        {
          "name": "stderr",
          "output_type": "stream",
          "text": [
            "100%|██████████| 938/938 [00:07<00:00, 119.42it/s]\n"
          ]
        },
        {
          "name": "stdout",
          "output_type": "stream",
          "text": [
            "Epoch [7/10], Train Loss: 0.7819, Train Accuracy: 0.7476, Time: 7.86s\n",
            "\t      Valid Loss: 0.7660, Valid Accuracy: 0.7566\n",
            "\n"
          ]
        },
        {
          "name": "stderr",
          "output_type": "stream",
          "text": [
            "100%|██████████| 938/938 [00:07<00:00, 119.93it/s]\n"
          ]
        },
        {
          "name": "stdout",
          "output_type": "stream",
          "text": [
            "Epoch [8/10], Train Loss: 0.7679, Train Accuracy: 0.7555, Time: 7.82s\n",
            "\t      Valid Loss: 0.7496, Valid Accuracy: 0.7728\n",
            "\n"
          ]
        },
        {
          "name": "stderr",
          "output_type": "stream",
          "text": [
            "100%|██████████| 938/938 [00:07<00:00, 118.83it/s]\n"
          ]
        },
        {
          "name": "stdout",
          "output_type": "stream",
          "text": [
            "Epoch [9/10], Train Loss: 0.7540, Train Accuracy: 0.7645, Time: 7.90s\n",
            "\t      Valid Loss: 0.7376, Valid Accuracy: 0.7818\n",
            "\n"
          ]
        },
        {
          "name": "stderr",
          "output_type": "stream",
          "text": [
            "100%|██████████| 938/938 [00:07<00:00, 120.40it/s]\n"
          ]
        },
        {
          "name": "stdout",
          "output_type": "stream",
          "text": [
            "Epoch [10/10], Train Loss: 0.7414, Train Accuracy: 0.7699, Time: 7.79s\n",
            "\t      Valid Loss: 0.7277, Valid Accuracy: 0.7849\n",
            "\n",
            "Training model \"MyKAN\" with device: cuda (AMD Radeon RX 7800 XT) and parameters:\n",
            "\tLearning rate: 0.001\n",
            "\tLoss function: CrossEntropyLoss()\n",
            "\tOptimizer: Adam\n",
            "\n",
            "Number of parameters: 3090\n",
            "\n"
          ]
        },
        {
          "name": "stderr",
          "output_type": "stream",
          "text": [
            "100%|██████████| 938/938 [00:09<00:00, 104.18it/s]\n"
          ]
        },
        {
          "name": "stdout",
          "output_type": "stream",
          "text": [
            "Epoch [1/10], Train Loss: 1.0485, Train Accuracy: 0.7025, Time: 9.00s\n",
            "\t      Valid Loss: 0.5043, Valid Accuracy: 0.8751\n",
            "\n"
          ]
        },
        {
          "name": "stderr",
          "output_type": "stream",
          "text": [
            "100%|██████████| 938/938 [00:08<00:00, 106.04it/s]\n"
          ]
        },
        {
          "name": "stdout",
          "output_type": "stream",
          "text": [
            "Epoch [2/10], Train Loss: 0.4381, Train Accuracy: 0.8802, Time: 8.85s\n",
            "\t      Valid Loss: 0.3774, Valid Accuracy: 0.9038\n",
            "\n"
          ]
        },
        {
          "name": "stderr",
          "output_type": "stream",
          "text": [
            "100%|██████████| 938/938 [00:08<00:00, 105.97it/s]\n"
          ]
        },
        {
          "name": "stdout",
          "output_type": "stream",
          "text": [
            "Epoch [3/10], Train Loss: 0.3630, Train Accuracy: 0.8983, Time: 8.85s\n",
            "\t      Valid Loss: 0.3397, Valid Accuracy: 0.9126\n",
            "\n"
          ]
        },
        {
          "name": "stderr",
          "output_type": "stream",
          "text": [
            "100%|██████████| 938/938 [00:09<00:00, 104.05it/s]\n"
          ]
        },
        {
          "name": "stdout",
          "output_type": "stream",
          "text": [
            "Epoch [4/10], Train Loss: 0.3288, Train Accuracy: 0.9065, Time: 9.02s\n",
            "\t      Valid Loss: 0.3156, Valid Accuracy: 0.9172\n",
            "\n"
          ]
        },
        {
          "name": "stderr",
          "output_type": "stream",
          "text": [
            "100%|██████████| 938/938 [00:08<00:00, 108.08it/s]\n"
          ]
        },
        {
          "name": "stdout",
          "output_type": "stream",
          "text": [
            "Epoch [5/10], Train Loss: 0.3066, Train Accuracy: 0.9125, Time: 8.68s\n",
            "\t      Valid Loss: 0.3061, Valid Accuracy: 0.9196\n",
            "\n"
          ]
        },
        {
          "name": "stderr",
          "output_type": "stream",
          "text": [
            "100%|██████████| 938/938 [00:08<00:00, 108.92it/s]\n"
          ]
        },
        {
          "name": "stdout",
          "output_type": "stream",
          "text": [
            "Epoch [6/10], Train Loss: 0.2918, Train Accuracy: 0.9159, Time: 8.61s\n",
            "\t      Valid Loss: 0.3087, Valid Accuracy: 0.9187\n",
            "\n"
          ]
        },
        {
          "name": "stderr",
          "output_type": "stream",
          "text": [
            "100%|██████████| 938/938 [00:08<00:00, 104.65it/s]\n"
          ]
        },
        {
          "name": "stdout",
          "output_type": "stream",
          "text": [
            "Epoch [7/10], Train Loss: 0.2810, Train Accuracy: 0.9193, Time: 8.96s\n",
            "\t      Valid Loss: 0.2920, Valid Accuracy: 0.9233\n",
            "\n"
          ]
        },
        {
          "name": "stderr",
          "output_type": "stream",
          "text": [
            "100%|██████████| 938/938 [00:09<00:00, 104.06it/s]\n"
          ]
        },
        {
          "name": "stdout",
          "output_type": "stream",
          "text": [
            "Epoch [8/10], Train Loss: 0.2705, Train Accuracy: 0.9220, Time: 9.02s\n",
            "\t      Valid Loss: 0.2778, Valid Accuracy: 0.9290\n",
            "\n"
          ]
        },
        {
          "name": "stderr",
          "output_type": "stream",
          "text": [
            "100%|██████████| 938/938 [00:08<00:00, 105.91it/s]\n"
          ]
        },
        {
          "name": "stdout",
          "output_type": "stream",
          "text": [
            "Epoch [9/10], Train Loss: 0.2627, Train Accuracy: 0.9246, Time: 8.86s\n",
            "\t      Valid Loss: 0.2818, Valid Accuracy: 0.9285\n",
            "\n"
          ]
        },
        {
          "name": "stderr",
          "output_type": "stream",
          "text": [
            "100%|██████████| 938/938 [00:08<00:00, 107.96it/s]\n"
          ]
        },
        {
          "name": "stdout",
          "output_type": "stream",
          "text": [
            "Epoch [10/10], Train Loss: 0.2568, Train Accuracy: 0.9262, Time: 8.69s\n",
            "\t      Valid Loss: 0.2658, Valid Accuracy: 0.9315\n",
            "\n",
            "Training model \"MyMLP\" with device: cuda (AMD Radeon RX 7800 XT) and parameters:\n",
            "\tLearning rate: 0.001\n",
            "\tLoss function: CrossEntropyLoss()\n",
            "\tOptimizer: Adam\n",
            "\n",
            "Number of parameters: 2190\n",
            "\n"
          ]
        },
        {
          "name": "stderr",
          "output_type": "stream",
          "text": [
            "100%|██████████| 938/938 [00:07<00:00, 125.61it/s]\n"
          ]
        },
        {
          "name": "stdout",
          "output_type": "stream",
          "text": [
            "Epoch [1/10], Train Loss: 1.0550, Train Accuracy: 0.6567, Time: 7.47s\n",
            "\t      Valid Loss: 0.5796, Valid Accuracy: 0.8330\n",
            "\n"
          ]
        },
        {
          "name": "stderr",
          "output_type": "stream",
          "text": [
            "100%|██████████| 938/938 [00:07<00:00, 119.26it/s]\n"
          ]
        },
        {
          "name": "stdout",
          "output_type": "stream",
          "text": [
            "Epoch [2/10], Train Loss: 0.5039, Train Accuracy: 0.8531, Time: 7.87s\n",
            "\t      Valid Loss: 0.4324, Valid Accuracy: 0.8780\n",
            "\n"
          ]
        },
        {
          "name": "stderr",
          "output_type": "stream",
          "text": [
            "100%|██████████| 938/938 [00:07<00:00, 120.26it/s]\n"
          ]
        },
        {
          "name": "stdout",
          "output_type": "stream",
          "text": [
            "Epoch [3/10], Train Loss: 0.4327, Train Accuracy: 0.8764, Time: 7.80s\n",
            "\t      Valid Loss: 0.4040, Valid Accuracy: 0.8919\n",
            "\n"
          ]
        },
        {
          "name": "stderr",
          "output_type": "stream",
          "text": [
            "100%|██████████| 938/938 [00:07<00:00, 120.64it/s]\n"
          ]
        },
        {
          "name": "stdout",
          "output_type": "stream",
          "text": [
            "Epoch [4/10], Train Loss: 0.4041, Train Accuracy: 0.8847, Time: 7.78s\n",
            "\t      Valid Loss: 0.3775, Valid Accuracy: 0.8961\n",
            "\n"
          ]
        },
        {
          "name": "stderr",
          "output_type": "stream",
          "text": [
            "100%|██████████| 938/938 [00:07<00:00, 123.22it/s]\n"
          ]
        },
        {
          "name": "stdout",
          "output_type": "stream",
          "text": [
            "Epoch [5/10], Train Loss: 0.3853, Train Accuracy: 0.8900, Time: 7.61s\n",
            "\t      Valid Loss: 0.3694, Valid Accuracy: 0.9002\n",
            "\n"
          ]
        },
        {
          "name": "stderr",
          "output_type": "stream",
          "text": [
            "100%|██████████| 938/938 [00:07<00:00, 118.17it/s]\n"
          ]
        },
        {
          "name": "stdout",
          "output_type": "stream",
          "text": [
            "Epoch [6/10], Train Loss: 0.3712, Train Accuracy: 0.8935, Time: 7.94s\n",
            "\t      Valid Loss: 0.3550, Valid Accuracy: 0.9055\n",
            "\n"
          ]
        },
        {
          "name": "stderr",
          "output_type": "stream",
          "text": [
            "100%|██████████| 938/938 [00:07<00:00, 123.35it/s]\n"
          ]
        },
        {
          "name": "stdout",
          "output_type": "stream",
          "text": [
            "Epoch [7/10], Train Loss: 0.3610, Train Accuracy: 0.8960, Time: 7.61s\n",
            "\t      Valid Loss: 0.3391, Valid Accuracy: 0.9097\n",
            "\n"
          ]
        },
        {
          "name": "stderr",
          "output_type": "stream",
          "text": [
            "100%|██████████| 938/938 [00:07<00:00, 119.43it/s]\n"
          ]
        },
        {
          "name": "stdout",
          "output_type": "stream",
          "text": [
            "Epoch [8/10], Train Loss: 0.3528, Train Accuracy: 0.8987, Time: 7.86s\n",
            "\t      Valid Loss: 0.3495, Valid Accuracy: 0.9047\n",
            "\n"
          ]
        },
        {
          "name": "stderr",
          "output_type": "stream",
          "text": [
            "100%|██████████| 938/938 [00:07<00:00, 118.21it/s]\n"
          ]
        },
        {
          "name": "stdout",
          "output_type": "stream",
          "text": [
            "Epoch [9/10], Train Loss: 0.3490, Train Accuracy: 0.8991, Time: 7.94s\n",
            "\t      Valid Loss: 0.3397, Valid Accuracy: 0.9101\n",
            "\n"
          ]
        },
        {
          "name": "stderr",
          "output_type": "stream",
          "text": [
            "100%|██████████| 938/938 [00:07<00:00, 120.63it/s]\n"
          ]
        },
        {
          "name": "stdout",
          "output_type": "stream",
          "text": [
            "Epoch [10/10], Train Loss: 0.3413, Train Accuracy: 0.9009, Time: 7.78s\n",
            "\t      Valid Loss: 0.3325, Valid Accuracy: 0.9104\n",
            "\n",
            "Training model \"MyKAN\" with device: cuda (AMD Radeon RX 7800 XT) and parameters:\n",
            "\tLearning rate: 0.001\n",
            "\tLoss function: CrossEntropyLoss()\n",
            "\tOptimizer: Adam\n",
            "\n",
            "Number of parameters: 6480\n",
            "\n"
          ]
        },
        {
          "name": "stderr",
          "output_type": "stream",
          "text": [
            "100%|██████████| 938/938 [00:09<00:00, 95.62it/s]\n"
          ]
        },
        {
          "name": "stdout",
          "output_type": "stream",
          "text": [
            "Epoch [1/10], Train Loss: 0.8277, Train Accuracy: 0.7373, Time: 9.81s\n",
            "\t      Valid Loss: 0.3529, Valid Accuracy: 0.9073\n",
            "\n"
          ]
        },
        {
          "name": "stderr",
          "output_type": "stream",
          "text": [
            "100%|██████████| 938/938 [00:09<00:00, 94.52it/s]\n"
          ]
        },
        {
          "name": "stdout",
          "output_type": "stream",
          "text": [
            "Epoch [2/10], Train Loss: 0.3135, Train Accuracy: 0.9105, Time: 9.92s\n",
            "\t      Valid Loss: 0.2657, Valid Accuracy: 0.9293\n",
            "\n"
          ]
        },
        {
          "name": "stderr",
          "output_type": "stream",
          "text": [
            "100%|██████████| 938/938 [00:09<00:00, 97.46it/s]\n"
          ]
        },
        {
          "name": "stdout",
          "output_type": "stream",
          "text": [
            "Epoch [3/10], Train Loss: 0.2520, Train Accuracy: 0.9267, Time: 9.63s\n",
            "\t      Valid Loss: 0.2409, Valid Accuracy: 0.9366\n",
            "\n"
          ]
        },
        {
          "name": "stderr",
          "output_type": "stream",
          "text": [
            "100%|██████████| 938/938 [00:09<00:00, 95.17it/s]\n"
          ]
        },
        {
          "name": "stdout",
          "output_type": "stream",
          "text": [
            "Epoch [4/10], Train Loss: 0.2211, Train Accuracy: 0.9349, Time: 9.86s\n",
            "\t      Valid Loss: 0.2114, Valid Accuracy: 0.9445\n",
            "\n"
          ]
        },
        {
          "name": "stderr",
          "output_type": "stream",
          "text": [
            "100%|██████████| 938/938 [00:09<00:00, 95.59it/s]\n"
          ]
        },
        {
          "name": "stdout",
          "output_type": "stream",
          "text": [
            "Epoch [5/10], Train Loss: 0.2016, Train Accuracy: 0.9407, Time: 9.81s\n",
            "\t      Valid Loss: 0.2056, Valid Accuracy: 0.9462\n",
            "\n"
          ]
        },
        {
          "name": "stderr",
          "output_type": "stream",
          "text": [
            "100%|██████████| 938/938 [00:09<00:00, 94.14it/s]\n"
          ]
        },
        {
          "name": "stdout",
          "output_type": "stream",
          "text": [
            "Epoch [6/10], Train Loss: 0.1882, Train Accuracy: 0.9451, Time: 9.96s\n",
            "\t      Valid Loss: 0.1948, Valid Accuracy: 0.9490\n",
            "\n"
          ]
        },
        {
          "name": "stderr",
          "output_type": "stream",
          "text": [
            "100%|██████████| 938/938 [00:09<00:00, 99.04it/s]\n"
          ]
        },
        {
          "name": "stdout",
          "output_type": "stream",
          "text": [
            "Epoch [7/10], Train Loss: 0.1769, Train Accuracy: 0.9477, Time: 9.47s\n",
            "\t      Valid Loss: 0.1847, Valid Accuracy: 0.9522\n",
            "\n"
          ]
        },
        {
          "name": "stderr",
          "output_type": "stream",
          "text": [
            "100%|██████████| 938/938 [00:10<00:00, 93.35it/s]\n"
          ]
        },
        {
          "name": "stdout",
          "output_type": "stream",
          "text": [
            "Epoch [8/10], Train Loss: 0.1676, Train Accuracy: 0.9510, Time: 10.05s\n",
            "\t      Valid Loss: 0.1770, Valid Accuracy: 0.9559\n",
            "\n"
          ]
        },
        {
          "name": "stderr",
          "output_type": "stream",
          "text": [
            "100%|██████████| 938/938 [00:09<00:00, 94.48it/s]\n"
          ]
        },
        {
          "name": "stdout",
          "output_type": "stream",
          "text": [
            "Epoch [9/10], Train Loss: 0.1594, Train Accuracy: 0.9533, Time: 9.93s\n",
            "\t      Valid Loss: 0.1776, Valid Accuracy: 0.9546\n",
            "\n"
          ]
        },
        {
          "name": "stderr",
          "output_type": "stream",
          "text": [
            "100%|██████████| 938/938 [00:09<00:00, 95.76it/s]\n"
          ]
        },
        {
          "name": "stdout",
          "output_type": "stream",
          "text": [
            "Epoch [10/10], Train Loss: 0.1522, Train Accuracy: 0.9554, Time: 9.80s\n",
            "\t      Valid Loss: 0.1780, Valid Accuracy: 0.9546\n",
            "\n",
            "Training model \"MyMLP\" with device: cuda (AMD Radeon RX 7800 XT) and parameters:\n",
            "\tLearning rate: 0.001\n",
            "\tLoss function: CrossEntropyLoss()\n",
            "\tOptimizer: Adam\n",
            "\n",
            "Number of parameters: 1075\n",
            "\n"
          ]
        },
        {
          "name": "stderr",
          "output_type": "stream",
          "text": [
            "100%|██████████| 938/938 [00:08<00:00, 116.33it/s]\n"
          ]
        },
        {
          "name": "stdout",
          "output_type": "stream",
          "text": [
            "Epoch [1/10], Train Loss: 1.2953, Train Accuracy: 0.5591, Time: 8.06s\n",
            "\t      Valid Loss: 0.8872, Valid Accuracy: 0.7162\n",
            "\n"
          ]
        },
        {
          "name": "stderr",
          "output_type": "stream",
          "text": [
            "100%|██████████| 938/938 [00:08<00:00, 116.25it/s]\n"
          ]
        },
        {
          "name": "stdout",
          "output_type": "stream",
          "text": [
            "Epoch [2/10], Train Loss: 0.6983, Train Accuracy: 0.7838, Time: 8.07s\n",
            "\t      Valid Loss: 0.5943, Valid Accuracy: 0.8263\n",
            "\n"
          ]
        },
        {
          "name": "stderr",
          "output_type": "stream",
          "text": [
            "100%|██████████| 938/938 [00:08<00:00, 115.70it/s]\n"
          ]
        },
        {
          "name": "stdout",
          "output_type": "stream",
          "text": [
            "Epoch [3/10], Train Loss: 0.5644, Train Accuracy: 0.8312, Time: 8.11s\n",
            "\t      Valid Loss: 0.5286, Valid Accuracy: 0.8481\n",
            "\n"
          ]
        },
        {
          "name": "stderr",
          "output_type": "stream",
          "text": [
            "100%|██████████| 938/938 [00:07<00:00, 119.42it/s]\n"
          ]
        },
        {
          "name": "stdout",
          "output_type": "stream",
          "text": [
            "Epoch [4/10], Train Loss: 0.5215, Train Accuracy: 0.8470, Time: 7.86s\n",
            "\t      Valid Loss: 0.4990, Valid Accuracy: 0.8590\n",
            "\n"
          ]
        },
        {
          "name": "stderr",
          "output_type": "stream",
          "text": [
            "100%|██████████| 938/938 [00:07<00:00, 123.01it/s]\n"
          ]
        },
        {
          "name": "stdout",
          "output_type": "stream",
          "text": [
            "Epoch [5/10], Train Loss: 0.4921, Train Accuracy: 0.8568, Time: 7.63s\n",
            "\t      Valid Loss: 0.4738, Valid Accuracy: 0.8686\n",
            "\n"
          ]
        },
        {
          "name": "stderr",
          "output_type": "stream",
          "text": [
            "100%|██████████| 938/938 [00:07<00:00, 124.48it/s]\n"
          ]
        },
        {
          "name": "stdout",
          "output_type": "stream",
          "text": [
            "Epoch [6/10], Train Loss: 0.4723, Train Accuracy: 0.8636, Time: 7.54s\n",
            "\t      Valid Loss: 0.4674, Valid Accuracy: 0.8751\n",
            "\n"
          ]
        },
        {
          "name": "stderr",
          "output_type": "stream",
          "text": [
            "100%|██████████| 938/938 [00:07<00:00, 124.57it/s]\n"
          ]
        },
        {
          "name": "stdout",
          "output_type": "stream",
          "text": [
            "Epoch [7/10], Train Loss: 0.4579, Train Accuracy: 0.8679, Time: 7.53s\n",
            "\t      Valid Loss: 0.4472, Valid Accuracy: 0.8805\n",
            "\n"
          ]
        },
        {
          "name": "stderr",
          "output_type": "stream",
          "text": [
            "100%|██████████| 938/938 [00:07<00:00, 123.22it/s]\n"
          ]
        },
        {
          "name": "stdout",
          "output_type": "stream",
          "text": [
            "Epoch [8/10], Train Loss: 0.4470, Train Accuracy: 0.8734, Time: 7.61s\n",
            "\t      Valid Loss: 0.4680, Valid Accuracy: 0.8663\n",
            "\n"
          ]
        },
        {
          "name": "stderr",
          "output_type": "stream",
          "text": [
            "100%|██████████| 938/938 [00:07<00:00, 118.17it/s]\n"
          ]
        },
        {
          "name": "stdout",
          "output_type": "stream",
          "text": [
            "Epoch [9/10], Train Loss: 0.4389, Train Accuracy: 0.8747, Time: 7.94s\n",
            "\t      Valid Loss: 0.4480, Valid Accuracy: 0.8778\n",
            "\n"
          ]
        },
        {
          "name": "stderr",
          "output_type": "stream",
          "text": [
            "100%|██████████| 938/938 [00:08<00:00, 116.43it/s]\n"
          ]
        },
        {
          "name": "stdout",
          "output_type": "stream",
          "text": [
            "Epoch [10/10], Train Loss: 0.4316, Train Accuracy: 0.8767, Time: 8.06s\n",
            "\t      Valid Loss: 0.4241, Valid Accuracy: 0.8850\n",
            "\n",
            "Training model \"MyKAN\" with device: cuda (AMD Radeon RX 7800 XT) and parameters:\n",
            "\tLearning rate: 0.001\n",
            "\tLoss function: CrossEntropyLoss()\n",
            "\tOptimizer: Adam\n",
            "\n",
            "Number of parameters: 3165\n",
            "\n"
          ]
        },
        {
          "name": "stderr",
          "output_type": "stream",
          "text": [
            "100%|██████████| 938/938 [00:09<00:00, 99.10it/s]\n"
          ]
        },
        {
          "name": "stdout",
          "output_type": "stream",
          "text": [
            "Epoch [1/10], Train Loss: 1.2632, Train Accuracy: 0.5888, Time: 9.47s\n",
            "\t      Valid Loss: 0.6166, Valid Accuracy: 0.8291\n",
            "\n"
          ]
        },
        {
          "name": "stderr",
          "output_type": "stream",
          "text": [
            "100%|██████████| 938/938 [00:09<00:00, 98.93it/s]\n"
          ]
        },
        {
          "name": "stdout",
          "output_type": "stream",
          "text": [
            "Epoch [2/10], Train Loss: 0.5170, Train Accuracy: 0.8500, Time: 9.48s\n",
            "\t      Valid Loss: 0.4404, Valid Accuracy: 0.8767\n",
            "\n"
          ]
        },
        {
          "name": "stderr",
          "output_type": "stream",
          "text": [
            "100%|██████████| 938/938 [00:09<00:00, 98.23it/s]\n"
          ]
        },
        {
          "name": "stdout",
          "output_type": "stream",
          "text": [
            "Epoch [3/10], Train Loss: 0.4167, Train Accuracy: 0.8790, Time: 9.55s\n",
            "\t      Valid Loss: 0.3810, Valid Accuracy: 0.8947\n",
            "\n"
          ]
        },
        {
          "name": "stderr",
          "output_type": "stream",
          "text": [
            "100%|██████████| 938/938 [00:09<00:00, 98.98it/s]\n"
          ]
        },
        {
          "name": "stdout",
          "output_type": "stream",
          "text": [
            "Epoch [4/10], Train Loss: 0.3732, Train Accuracy: 0.8910, Time: 9.48s\n",
            "\t      Valid Loss: 0.3518, Valid Accuracy: 0.9054\n",
            "\n"
          ]
        },
        {
          "name": "stderr",
          "output_type": "stream",
          "text": [
            "100%|██████████| 938/938 [00:09<00:00, 99.49it/s]\n"
          ]
        },
        {
          "name": "stdout",
          "output_type": "stream",
          "text": [
            "Epoch [5/10], Train Loss: 0.3414, Train Accuracy: 0.9004, Time: 9.43s\n",
            "\t      Valid Loss: 0.3297, Valid Accuracy: 0.9091\n",
            "\n"
          ]
        },
        {
          "name": "stderr",
          "output_type": "stream",
          "text": [
            "100%|██████████| 938/938 [00:09<00:00, 95.99it/s]\n"
          ]
        },
        {
          "name": "stdout",
          "output_type": "stream",
          "text": [
            "Epoch [6/10], Train Loss: 0.3166, Train Accuracy: 0.9069, Time: 9.77s\n",
            "\t      Valid Loss: 0.3062, Valid Accuracy: 0.9169\n",
            "\n"
          ]
        },
        {
          "name": "stderr",
          "output_type": "stream",
          "text": [
            "100%|██████████| 938/938 [00:09<00:00, 94.24it/s]\n"
          ]
        },
        {
          "name": "stdout",
          "output_type": "stream",
          "text": [
            "Epoch [7/10], Train Loss: 0.2960, Train Accuracy: 0.9139, Time: 9.95s\n",
            "\t      Valid Loss: 0.2839, Valid Accuracy: 0.9235\n",
            "\n"
          ]
        },
        {
          "name": "stderr",
          "output_type": "stream",
          "text": [
            "100%|██████████| 938/938 [00:09<00:00, 96.48it/s]\n"
          ]
        },
        {
          "name": "stdout",
          "output_type": "stream",
          "text": [
            "Epoch [8/10], Train Loss: 0.2789, Train Accuracy: 0.9189, Time: 9.72s\n",
            "\t      Valid Loss: 0.2844, Valid Accuracy: 0.9223\n",
            "\n"
          ]
        },
        {
          "name": "stderr",
          "output_type": "stream",
          "text": [
            "100%|██████████| 938/938 [00:09<00:00, 97.23it/s]\n"
          ]
        },
        {
          "name": "stdout",
          "output_type": "stream",
          "text": [
            "Epoch [9/10], Train Loss: 0.2684, Train Accuracy: 0.9216, Time: 9.65s\n",
            "\t      Valid Loss: 0.2671, Valid Accuracy: 0.9265\n",
            "\n"
          ]
        },
        {
          "name": "stderr",
          "output_type": "stream",
          "text": [
            "100%|██████████| 938/938 [00:09<00:00, 96.49it/s]\n"
          ]
        },
        {
          "name": "stdout",
          "output_type": "stream",
          "text": [
            "Epoch [10/10], Train Loss: 0.2583, Train Accuracy: 0.9241, Time: 9.72s\n",
            "\t      Valid Loss: 0.2667, Valid Accuracy: 0.9270\n",
            "\n"
          ]
        }
      ],
      "source": [
        "# Define models and parameters\n",
        "\n",
        "model_list_mlp = [\n",
        "    MyMLP([img_res*img_res, 128, 10]),\n",
        "    MyMLP([img_res*img_res, 64, 10]),\n",
        "    MyMLP([img_res*img_res, 10, 10]),\n",
        "    MyMLP([img_res*img_res, 5, 10]),\n",
        "    MyMLP([img_res*img_res, 10, 10, 10]),\n",
        "    MyMLP([img_res*img_res, 5, 5, 10]),\n",
        "    ]\n",
        "model_list_kan = [\n",
        "    MyKAN([img_res*img_res, 128, 10], grid_size=3),\n",
        "    MyKAN([img_res*img_res, 64, 10], grid_size=3),\n",
        "    MyKAN([img_res*img_res, 10, 10], grid_size=3),\n",
        "    MyKAN([img_res*img_res, 5, 10], grid_size=3),\n",
        "    MyKAN([img_res*img_res, 10, 10, 10], grid_size=3),\n",
        "    MyKAN([img_res*img_res, 5, 5, 10], grid_size=3)\n",
        "    ]\n",
        "\n",
        "device = torch.device(\"cuda\" if torch.cuda.is_available() else \"cpu\")\n",
        "#device = 'cpu'\n",
        "\n",
        "num_epochs = 10\n",
        "learning_rate = 0.001\n",
        "criterion = nn.CrossEntropyLoss()\n",
        "\n",
        "df_mlp = pd.DataFrame(columns=['Epoch', 'Loss (t)', 'Loss (v)', 'Accuracy (t)', 'Accuracy (v)', 'Time'])\n",
        "df_kan = pd.DataFrame(columns=['Epoch', 'Loss (t)', 'Loss (v)', 'Accuracy (t)', 'Accuracy (v)', 'Time'])\n",
        "separator = pd.DataFrame({'Epoch' : ['---'], 'Loss (t)' : ['---'], 'Loss (v)': ['---'], 'Accuracy (t)': ['---'], 'Accuracy (v)': ['---'], 'Time': ['---']})\n",
        "\n",
        "for model_mlp, model_kan in zip(model_list_mlp, model_list_kan):\n",
        "\n",
        "    optimizer_mlp = torch.optim.Adam(model_mlp.parameters(), lr=learning_rate)\n",
        "    train_losses_mlp, train_accs_mlp, val_losses_mlp, val_accs_mlp, time_mlp = train_and_evaluate(model_mlp, trainloader, valloader, device, num_epochs, optimizer_mlp, criterion)\n",
        "\n",
        "    optimizer_kan = torch.optim.Adam(model_kan.parameters(), lr=learning_rate)\n",
        "    train_losses_kan, train_accs_kan, val_losses_kan, val_accs_kan, time_kan = train_and_evaluate(model_kan, trainloader, valloader, device, num_epochs, optimizer_kan, criterion)\n",
        "\n",
        "    single_df_mlp = pd.DataFrame({\n",
        "        'Epoch': [i for i in range(num_epochs)],\n",
        "        'Loss (t)': [i for i in train_losses_mlp],\n",
        "        'Loss (v)': [i for i in val_losses_mlp],\n",
        "        'Accuracy (t)': [i for i in train_accs_mlp],\n",
        "        'Accuracy (v)': [i for i in val_accs_mlp],\n",
        "        'Time': [i for i in time_mlp]\n",
        "        })\n",
        "\n",
        "    single_df_kan = pd.DataFrame({\n",
        "        'Epoch': [i for i in range(num_epochs)],\n",
        "        'Loss (t)': [i for i in train_losses_kan],\n",
        "        'Loss (v)': [i for i in val_losses_kan],\n",
        "        'Accuracy (t)': [i for i in train_accs_kan],\n",
        "        'Accuracy (v)': [i for i in val_accs_kan],\n",
        "        'Time': [i for i in time_kan]\n",
        "        })\n",
        "\n",
        "    means_mlp = {'Epoch': 'Mean', 'Time': single_df_mlp['Time'].mean()}\n",
        "    means_kan = {'Epoch': 'Mean', 'Time': single_df_kan['Time'].mean()}\n",
        "\n",
        "    num_params_mlp = {'Epoch': f'Params: {model_mlp.num_parameters}'}\n",
        "    num_params_kan = {'Epoch': f'Params: {model_kan.num_parameters}'}\n",
        "\n",
        "    single_df_mlp = pd.concat([single_df_mlp, pd.DataFrame([means_mlp])], ignore_index=True)\n",
        "    single_df_mlp = pd.concat([single_df_mlp, pd.DataFrame([num_params_mlp])], ignore_index=True)\n",
        "    single_df_mlp = pd.concat([single_df_mlp, separator], ignore_index=True)\n",
        "    single_df_kan = pd.concat([single_df_kan, pd.DataFrame([means_kan])], ignore_index=True)\n",
        "    single_df_kan = pd.concat([single_df_kan, pd.DataFrame([num_params_kan])], ignore_index=True)\n",
        "    single_df_kan = pd.concat([single_df_kan, separator], ignore_index=True)\n",
        "\n",
        "    df_mlp = pd.concat([df_mlp, single_df_mlp], ignore_index=True)\n",
        "    df_kan = pd.concat([df_kan, single_df_kan], ignore_index=True)"
      ]
    },
    {
      "cell_type": "code",
      "execution_count": 8,
      "id": "oIXChUGIlwGB",
      "metadata": {
        "id": "oIXChUGIlwGB"
      },
      "outputs": [],
      "source": [
        "#print(df_mlp)\n",
        "df_mlp.to_csv('results_mlp.csv', index = False)\n",
        "df_kan.to_csv('results_kan.csv', index = False)"
      ]
    },
    {
      "cell_type": "markdown",
      "id": "88wAkDGCDwOm",
      "metadata": {
        "id": "88wAkDGCDwOm"
      },
      "source": [
        "Plotting MLP"
      ]
    },
    {
      "cell_type": "code",
      "execution_count": 9,
      "id": "rCQ_ok1WDdOT",
      "metadata": {
        "colab": {
          "base_uri": "https://localhost:8080/",
          "height": 602
        },
        "id": "rCQ_ok1WDdOT",
        "outputId": "d6ff5b91-4589-4ff9-e6f9-f1fae755b88e"
      },
      "outputs": [
        {
          "name": "stderr",
          "output_type": "stream",
          "text": [
            "/tmp/ipykernel_7212/373705896.py:18: UserWarning: FigureCanvasAgg is non-interactive, and thus cannot be shown\n",
            "  fig.show()\n"
          ]
        },
        {
          "data": {
            "image/png": "[encoded data removed]",
            "text/plain": [
              "<Figure size 1200x600 with 2 Axes>"
            ]
          },
          "metadata": {},
          "output_type": "display_data"
        }
      ],
      "source": [
        "fig, [ax1, ax2] = plt.subplots(1, 2, figsize=(12, 6))\n",
        "\n",
        "ax1.plot(range(1, num_epochs+1), train_accs_mlp, label='Train accuracy')\n",
        "ax1.plot(range(1, num_epochs+1), val_accs_mlp, label='Validation accuracy')\n",
        "ax1.set_xlabel('Epochs')\n",
        "ax1.set_ylabel('Accuracy (%)')\n",
        "ax1.set_title('Accuracy')\n",
        "ax1.legend()\n",
        "\n",
        "ax2.plot(range(1, num_epochs+1), train_losses_mlp, label='Train loss')\n",
        "ax2.plot(range(1, num_epochs+1), val_losses_mlp, label='Validation loss')\n",
        "ax2.set_xlabel('Epochs')\n",
        "ax2.set_ylabel('Loss')\n",
        "ax2.set_title('Loss')\n",
        "ax2.legend()\n",
        "\n",
        "fig.suptitle('MLP with layers: (784,64,10) with ReLU activation function')\n",
        "fig.show()"
      ]
    },
    {
      "cell_type": "markdown",
      "id": "AbcvfYsqD0Qd",
      "metadata": {
        "id": "AbcvfYsqD0Qd"
      },
      "source": [
        "Plotting KAN"
      ]
    },
    {
      "cell_type": "code",
      "execution_count": 10,
      "id": "cm5xeTFOER6r",
      "metadata": {
        "colab": {
          "base_uri": "https://localhost:8080/",
          "height": 602
        },
        "id": "cm5xeTFOER6r",
        "outputId": "6185489e-1860-4c9a-a3e7-ba082373590a"
      },
      "outputs": [
        {
          "name": "stderr",
          "output_type": "stream",
          "text": [
            "/tmp/ipykernel_7212/1405184315.py:18: UserWarning: FigureCanvasAgg is non-interactive, and thus cannot be shown\n",
            "  fig.show()\n"
          ]
        },
        {
          "data": {
            "image/png": "[encoded data removed]",
            "text/plain": [
              "<Figure size 1200x600 with 2 Axes>"
            ]
          },
          "metadata": {},
          "output_type": "display_data"
        }
      ],
      "source": [
        "fig, [ax1, ax2] = plt.subplots(1, 2, figsize=(12, 6))\n",
        "\n",
        "ax1.plot(range(1, num_epochs+1), train_accs_kan, label='Train accuracy')\n",
        "ax1.plot(range(1, num_epochs+1), val_accs_kan, label='Validation accuracy')\n",
        "ax1.set_xlabel('Epochs')\n",
        "ax1.set_ylabel('Accuracy (%)')\n",
        "ax1.set_title('Accuracy')\n",
        "ax1.legend()\n",
        "\n",
        "ax2.plot(range(1, num_epochs+1), train_losses_kan, label='Train loss')\n",
        "ax2.plot(range(1, num_epochs+1), val_losses_kan, label='Validation loss')\n",
        "ax2.set_xlabel('Epochs')\n",
        "ax2.set_ylabel('Loss')\n",
        "ax2.set_title('Loss')\n",
        "ax2.legend()\n",
        "\n",
        "fig.suptitle('KAN with layers: (784, 64, 10) with control grid size = 3')\n",
        "fig.show()"
      ]
    }
  ],
  "metadata": {
    "accelerator": "GPU",
    "colab": {
      "gpuType": "T4",
      "provenance": []
    },
    "kernelspec": {
      "display_name": "Python 3",
      "name": "python3"
    },
    "language_info": {
      "codemirror_mode": {
        "name": "ipython",
        "version": 3
      },
      "file_extension": ".py",
      "mimetype": "text/x-python",
      "name": "python",
      "nbconvert_exporter": "python",
      "pygments_lexer": "ipython3",
      "version": "3.10.12"
    }
  },
  "nbformat": 4,
  "nbformat_minor": 5
}
