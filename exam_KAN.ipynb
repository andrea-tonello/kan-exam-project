{
  "cells": [
    {
      "cell_type": "code",
      "execution_count": 1,
      "id": "9cb10b3e",
      "metadata": {
        "id": "9cb10b3e"
      },
      "outputs": [],
      "source": [
        "import torch\n",
        "import torch.nn as nn\n",
        "import torchvision\n",
        "import torchvision.transforms as transforms\n",
        "from torch.utils.data import DataLoader\n",
        "\n",
        "from efficientkan import KAN\n",
        "\n",
        "import numpy as np\n",
        "import pandas as pd\n",
        "from time import time\n",
        "import matplotlib.pyplot as plt\n",
        "from tqdm import tqdm"
      ]
    },
    {
      "cell_type": "code",
      "execution_count": 2,
      "id": "2277dd5f",
      "metadata": {
        "id": "2277dd5f"
      },
      "outputs": [],
      "source": [
        "# Load MNIST dataset\n",
        "\n",
        "transform = transforms.Compose([\n",
        "    #torchvision.transforms.Resize(14),      # Resize the image\n",
        "    transforms.ToTensor(),                  # Convert images to PyTorch tensors and scale to [0,1]\n",
        "    transforms.Normalize((0.5,), (0.5,))    # Normalize to mean=0.5, std=0.5\n",
        "])\n",
        "\n",
        "trainset = torchvision.datasets.MNIST(root=\"./data\", train=True, download=True, transform=transform)\n",
        "valset = torchvision.datasets.MNIST(root=\"./data\", train=False, download=True, transform=transform)\n",
        "\n",
        "trainloader = DataLoader(trainset, batch_size=64, shuffle=True)\n",
        "valloader = DataLoader(valset, batch_size=64, shuffle=False)"
      ]
    },
    {
      "cell_type": "code",
      "execution_count": 3,
      "id": "03bbf654",
      "metadata": {},
      "outputs": [
        {
          "name": "stdout",
          "output_type": "stream",
          "text": [
            "Single image dimensions: torch.Size([28, 28])\n",
            "Image batch dimensions: torch.Size([64, 1, 28, 28])\n",
            "Image label dimensions: torch.Size([64])\n"
          ]
        }
      ],
      "source": [
        "# printing data shapes\n",
        "print(\"Single image dimensions:\", trainset.data[0].shape)\n",
        "for images, labels in trainloader:\n",
        "    print(\"Image batch dimensions:\", images.shape)\n",
        "    print(\"Image label dimensions:\", labels.shape)\n",
        "    break\n",
        "\n",
        "img_res = images.shape[3]"
      ]
    },
    {
      "cell_type": "code",
      "execution_count": 4,
      "id": "a13c9ac1",
      "metadata": {
        "id": "a13c9ac1"
      },
      "outputs": [],
      "source": [
        "class MyMLP(nn.Module):\n",
        "\n",
        "    def __init__(self, layers: list):\n",
        "        super(MyMLP, self).__init__()\n",
        "\n",
        "        self.layers = layers\n",
        "        to_sequential, self.num_parameters = self.build_layers_and_count_params(layers)\n",
        "        self.build_layers = nn.Sequential(*to_sequential)\n",
        "\n",
        "    def forward(self, x):\n",
        "        return self.build_layers(x)\n",
        "\n",
        "\n",
        "    # given a list of layer sizes, builds the respective linear layers with ReLU activation functions.\n",
        "    # Also returns the total number of parameters of the model.\n",
        "    def build_layers_and_count_params(self, layers):\n",
        "\n",
        "        to_sequential = []\n",
        "        num_parameters = 0\n",
        "\n",
        "        for i in range(len(layers) - 1):\n",
        "\n",
        "            to_sequential.append(nn.Linear(layers[i], layers[i+1]))\n",
        "            if i < len(layers)-2:\n",
        "                to_sequential.append(nn.ReLU())\n",
        "\n",
        "            num_parameters += layers[i]*layers[i+1] + layers[i+1]\n",
        "\n",
        "        return to_sequential, num_parameters\n",
        "\n",
        "\n",
        "\n",
        "\n",
        "class MyKAN(nn.Module):\n",
        "\n",
        "    def __init__(self, layers: list, grid_size):\n",
        "        super(MyKAN, self).__init__()\n",
        "\n",
        "        self.layers = layers\n",
        "        self.num_parameters = self.count_params(layers, grid_size)\n",
        "        self.build_layers = KAN(layers, grid_size=grid_size)\n",
        "\n",
        "\n",
        "    def forward(self, x):\n",
        "        return self.build_layers(x)\n",
        "\n",
        "\n",
        "    def count_params(self, layers, grid_size):\n",
        "\n",
        "        num_parameters = 0\n",
        "\n",
        "        for i in range(len(layers) - 1):\n",
        "            num_parameters += layers[i]*layers[i+1]\n",
        "\n",
        "        return num_parameters * grid_size"
      ]
    },
    {
      "cell_type": "code",
      "execution_count": 5,
      "id": "22d45072",
      "metadata": {
        "id": "22d45072"
      },
      "outputs": [],
      "source": [
        "def train_and_evaluate(model, trainloader, valloader, device, num_epochs, optimizer, criterion):\n",
        "\n",
        "    lr = optimizer.param_groups[0]['lr']\n",
        "    print(f'Training model \"{model.__class__.__name__}\" {model.layers} with device: {device} and parameters:' if device=='cpu' else f'Training model \"{model.__class__.__name__}\" {model.layers} with device: {device} ({torch.cuda.get_device_name()}) and parameters:')\n",
        "    print(f'\\tLearning rate: {lr}\\n\\tLoss function: {criterion}\\n\\tOptimizer: {optimizer.__class__.__name__}\\n')\n",
        "    print(f'Number of parameters: {model.num_parameters}\\n')\n",
        "\n",
        "    model.to(device)\n",
        "\n",
        "    train_losses = []\n",
        "    train_accs = []\n",
        "    val_losses = []\n",
        "    val_accs = []\n",
        "    times = []\n",
        "\n",
        "    for epoch in range(num_epochs):\n",
        "\n",
        "# Train\n",
        "        model.train()\n",
        "        train_loss = 0\n",
        "        train_acc = 0\n",
        "\n",
        "        start = time()\n",
        "\n",
        "        with tqdm(trainloader) as pbar:\n",
        "            for i, (images, labels) in enumerate(pbar):\n",
        "                images = images.view(-1, img_res*img_res).to(device)\n",
        "                optimizer.zero_grad()\n",
        "                output = model(images)\n",
        "\n",
        "                loss = criterion(output, labels.to(device))\n",
        "                loss.backward()\n",
        "                optimizer.step()\n",
        "                train_loss += loss.item()\n",
        "\n",
        "                accuracy = (output.argmax(dim=1) == labels.to(device)).float().mean()\n",
        "                train_acc += accuracy.item()\n",
        "\n",
        "        train_losses.append(train_loss / i)\n",
        "        train_accs.append(train_acc / i)\n",
        "\n",
        "        t = time()-start\n",
        "        times.append(t)\n",
        "\n",
        "        print(f\"Epoch [{epoch + 1}/{num_epochs}], Train Loss: {train_loss / i:.4f}, Train Accuracy: {train_acc / i:.4f}, Time: {t:.2f}s\")\n",
        "\n",
        "\n",
        "# Validation\n",
        "        model.eval()\n",
        "        val_loss = 0\n",
        "        val_acc = 0\n",
        "\n",
        "        with torch.no_grad():\n",
        "            for i, (images, labels) in enumerate(valloader):\n",
        "                images = images.view(-1, img_res*img_res).to(device)\n",
        "                output = model(images)\n",
        "\n",
        "                val_loss += criterion(output, labels.to(device)).item()\n",
        "                val_acc += ((output.argmax(dim=1) == labels.to(device)).float().mean().item())\n",
        "\n",
        "        val_losses.append(val_loss / i)\n",
        "        val_accs.append(val_acc / i)\n",
        "\n",
        "        print(f\"\\t     Valid Loss: {val_loss / i:.4f}, Valid Accuracy: {val_acc / i:.4f}\\n\")\n",
        "\n",
        "\n",
        "    return train_losses, train_accs, val_losses, val_accs, times"
      ]
    },
    {
      "cell_type": "code",
      "execution_count": 6,
      "id": "53208362",
      "metadata": {},
      "outputs": [],
      "source": [
        "def build_data_frame(model, num_epochs, train_losses, train_accs, val_losses, val_accs, time, separator):\n",
        "\n",
        "    df = pd.DataFrame({\n",
        "        'Epoch': [i for i in range(num_epochs)],\n",
        "        'Loss (t)': [i for i in train_losses],\n",
        "        'Loss (v)': [i for i in val_losses],\n",
        "        'Accuracy (t)': [i for i in train_accs],\n",
        "        'Accuracy (v)': [i for i in val_accs],\n",
        "        'Time': [i for i in time]\n",
        "        })\n",
        "    \n",
        "    df = pd.concat([df, pd.DataFrame([{'Epoch': 'Mean', 'Time': df['Time'].mean()}])], ignore_index=True)\n",
        "    df = pd.concat([df, pd.DataFrame([{'Epoch': f'Params: {model.num_parameters}'}])], ignore_index=True)\n",
        "    df = pd.concat([df, separator], ignore_index=True)\n",
        "\n",
        "    return df"
      ]
    },
    {
      "cell_type": "code",
      "execution_count": 7,
      "id": "12fe729d",
      "metadata": {
        "colab": {
          "base_uri": "https://localhost:8080/"
        },
        "id": "12fe729d",
        "outputId": "115a3f50-7f15-472a-d33a-3b363edc81d2"
      },
      "outputs": [
        {
          "name": "stdout",
          "output_type": "stream",
          "text": [
            "Training model \"MyMLP\" ([784, 128, 10]) with device: cuda (AMD Radeon RX 7800 XT) and parameters:\n",
            "\tLearning rate: 0.001\n",
            "\tLoss function: CrossEntropyLoss()\n",
            "\tOptimizer: Adam\n",
            "\n",
            "Number of parameters: 101770\n",
            "\n"
          ]
        },
        {
          "name": "stderr",
          "output_type": "stream",
          "text": [
            "100%|██████████| 938/938 [00:06<00:00, 137.09it/s]\n"
          ]
        },
        {
          "name": "stdout",
          "output_type": "stream",
          "text": [
            "Epoch [1/10], Train Loss: 0.3927, Train Accuracy: 0.8869, Time: 6.84s\n",
            "\t     Valid Loss: 0.2509, Valid Accuracy: 0.9358\n",
            "\n"
          ]
        },
        {
          "name": "stderr",
          "output_type": "stream",
          "text": [
            "100%|██████████| 938/938 [00:06<00:00, 148.65it/s]\n"
          ]
        },
        {
          "name": "stdout",
          "output_type": "stream",
          "text": [
            "Epoch [2/10], Train Loss: 0.2067, Train Accuracy: 0.9413, Time: 6.31s\n",
            "\t     Valid Loss: 0.1870, Valid Accuracy: 0.9475\n",
            "\n"
          ]
        },
        {
          "name": "stderr",
          "output_type": "stream",
          "text": [
            "100%|██████████| 938/938 [00:06<00:00, 144.56it/s]\n"
          ]
        },
        {
          "name": "stdout",
          "output_type": "stream",
          "text": [
            "Epoch [3/10], Train Loss: 0.1462, Train Accuracy: 0.9582, Time: 6.49s\n",
            "\t     Valid Loss: 0.1363, Valid Accuracy: 0.9639\n",
            "\n"
          ]
        },
        {
          "name": "stderr",
          "output_type": "stream",
          "text": [
            "100%|██████████| 938/938 [00:06<00:00, 146.92it/s]\n"
          ]
        },
        {
          "name": "stdout",
          "output_type": "stream",
          "text": [
            "Epoch [4/10], Train Loss: 0.1179, Train Accuracy: 0.9659, Time: 6.39s\n",
            "\t     Valid Loss: 0.1195, Valid Accuracy: 0.9707\n",
            "\n"
          ]
        },
        {
          "name": "stderr",
          "output_type": "stream",
          "text": [
            "100%|██████████| 938/938 [00:06<00:00, 150.61it/s]\n"
          ]
        },
        {
          "name": "stdout",
          "output_type": "stream",
          "text": [
            "Epoch [5/10], Train Loss: 0.0983, Train Accuracy: 0.9707, Time: 6.23s\n",
            "\t     Valid Loss: 0.1163, Valid Accuracy: 0.9726\n",
            "\n"
          ]
        },
        {
          "name": "stderr",
          "output_type": "stream",
          "text": [
            "100%|██████████| 938/938 [00:06<00:00, 147.50it/s]\n"
          ]
        },
        {
          "name": "stdout",
          "output_type": "stream",
          "text": [
            "Epoch [6/10], Train Loss: 0.0868, Train Accuracy: 0.9749, Time: 6.36s\n",
            "\t     Valid Loss: 0.0983, Valid Accuracy: 0.9771\n",
            "\n"
          ]
        },
        {
          "name": "stderr",
          "output_type": "stream",
          "text": [
            "100%|██████████| 938/938 [00:06<00:00, 141.96it/s]\n"
          ]
        },
        {
          "name": "stdout",
          "output_type": "stream",
          "text": [
            "Epoch [7/10], Train Loss: 0.0773, Train Accuracy: 0.9773, Time: 6.61s\n",
            "\t     Valid Loss: 0.1108, Valid Accuracy: 0.9728\n",
            "\n"
          ]
        },
        {
          "name": "stderr",
          "output_type": "stream",
          "text": [
            "100%|██████████| 938/938 [00:06<00:00, 149.99it/s]\n"
          ]
        },
        {
          "name": "stdout",
          "output_type": "stream",
          "text": [
            "Epoch [8/10], Train Loss: 0.0706, Train Accuracy: 0.9790, Time: 6.25s\n",
            "\t     Valid Loss: 0.1080, Valid Accuracy: 0.9745\n",
            "\n"
          ]
        },
        {
          "name": "stderr",
          "output_type": "stream",
          "text": [
            "100%|██████████| 938/938 [00:06<00:00, 146.75it/s]\n"
          ]
        },
        {
          "name": "stdout",
          "output_type": "stream",
          "text": [
            "Epoch [9/10], Train Loss: 0.0634, Train Accuracy: 0.9810, Time: 6.39s\n",
            "\t     Valid Loss: 0.1001, Valid Accuracy: 0.9770\n",
            "\n"
          ]
        },
        {
          "name": "stderr",
          "output_type": "stream",
          "text": [
            "100%|██████████| 938/938 [00:06<00:00, 150.04it/s]\n"
          ]
        },
        {
          "name": "stdout",
          "output_type": "stream",
          "text": [
            "Epoch [10/10], Train Loss: 0.0592, Train Accuracy: 0.9819, Time: 6.25s\n",
            "\t     Valid Loss: 0.1058, Valid Accuracy: 0.9770\n",
            "\n",
            "Training model \"MyKAN\" ([784, 128, 10]) with device: cuda (AMD Radeon RX 7800 XT) and parameters:\n",
            "\tLearning rate: 0.001\n",
            "\tLoss function: CrossEntropyLoss()\n",
            "\tOptimizer: Adam\n",
            "\n",
            "Number of parameters: 508160\n",
            "\n"
          ]
        },
        {
          "name": "stderr",
          "output_type": "stream",
          "text": [
            "100%|██████████| 938/938 [00:07<00:00, 126.06it/s]\n"
          ]
        },
        {
          "name": "stdout",
          "output_type": "stream",
          "text": [
            "Epoch [1/10], Train Loss: 0.3606, Train Accuracy: 0.8959, Time: 7.44s\n",
            "\t     Valid Loss: 0.2098, Valid Accuracy: 0.9445\n",
            "\n"
          ]
        },
        {
          "name": "stderr",
          "output_type": "stream",
          "text": [
            "100%|██████████| 938/938 [00:07<00:00, 125.65it/s]\n"
          ]
        },
        {
          "name": "stdout",
          "output_type": "stream",
          "text": [
            "Epoch [2/10], Train Loss: 0.1578, Train Accuracy: 0.9551, Time: 7.47s\n",
            "\t     Valid Loss: 0.1310, Valid Accuracy: 0.9685\n",
            "\n"
          ]
        },
        {
          "name": "stderr",
          "output_type": "stream",
          "text": [
            "100%|██████████| 938/938 [00:07<00:00, 126.51it/s]\n"
          ]
        },
        {
          "name": "stdout",
          "output_type": "stream",
          "text": [
            "Epoch [3/10], Train Loss: 0.1002, Train Accuracy: 0.9715, Time: 7.42s\n",
            "\t     Valid Loss: 0.1053, Valid Accuracy: 0.9735\n",
            "\n"
          ]
        },
        {
          "name": "stderr",
          "output_type": "stream",
          "text": [
            "100%|██████████| 938/938 [00:07<00:00, 126.71it/s]\n"
          ]
        },
        {
          "name": "stdout",
          "output_type": "stream",
          "text": [
            "Epoch [4/10], Train Loss: 0.0709, Train Accuracy: 0.9798, Time: 7.40s\n",
            "\t     Valid Loss: 0.0935, Valid Accuracy: 0.9771\n",
            "\n"
          ]
        },
        {
          "name": "stderr",
          "output_type": "stream",
          "text": [
            "100%|██████████| 938/938 [00:07<00:00, 126.52it/s]\n"
          ]
        },
        {
          "name": "stdout",
          "output_type": "stream",
          "text": [
            "Epoch [5/10], Train Loss: 0.0506, Train Accuracy: 0.9863, Time: 7.41s\n",
            "\t     Valid Loss: 0.0959, Valid Accuracy: 0.9771\n",
            "\n"
          ]
        },
        {
          "name": "stderr",
          "output_type": "stream",
          "text": [
            "100%|██████████| 938/938 [00:07<00:00, 121.75it/s]\n"
          ]
        },
        {
          "name": "stdout",
          "output_type": "stream",
          "text": [
            "Epoch [6/10], Train Loss: 0.0383, Train Accuracy: 0.9899, Time: 7.71s\n",
            "\t     Valid Loss: 0.0790, Valid Accuracy: 0.9823\n",
            "\n"
          ]
        },
        {
          "name": "stderr",
          "output_type": "stream",
          "text": [
            "100%|██████████| 938/938 [00:07<00:00, 125.99it/s]\n"
          ]
        },
        {
          "name": "stdout",
          "output_type": "stream",
          "text": [
            "Epoch [7/10], Train Loss: 0.0286, Train Accuracy: 0.9924, Time: 7.45s\n",
            "\t     Valid Loss: 0.0887, Valid Accuracy: 0.9798\n",
            "\n"
          ]
        },
        {
          "name": "stderr",
          "output_type": "stream",
          "text": [
            "100%|██████████| 938/938 [00:07<00:00, 125.78it/s]\n"
          ]
        },
        {
          "name": "stdout",
          "output_type": "stream",
          "text": [
            "Epoch [8/10], Train Loss: 0.0211, Train Accuracy: 0.9947, Time: 7.46s\n",
            "\t     Valid Loss: 0.0844, Valid Accuracy: 0.9816\n",
            "\n"
          ]
        },
        {
          "name": "stderr",
          "output_type": "stream",
          "text": [
            "100%|██████████| 938/938 [00:07<00:00, 126.57it/s]\n"
          ]
        },
        {
          "name": "stdout",
          "output_type": "stream",
          "text": [
            "Epoch [9/10], Train Loss: 0.0160, Train Accuracy: 0.9964, Time: 7.41s\n",
            "\t     Valid Loss: 0.0876, Valid Accuracy: 0.9824\n",
            "\n"
          ]
        },
        {
          "name": "stderr",
          "output_type": "stream",
          "text": [
            "100%|██████████| 938/938 [00:07<00:00, 126.64it/s]\n"
          ]
        },
        {
          "name": "stdout",
          "output_type": "stream",
          "text": [
            "Epoch [10/10], Train Loss: 0.0127, Train Accuracy: 0.9973, Time: 7.41s\n",
            "\t     Valid Loss: 0.1146, Valid Accuracy: 0.9767\n",
            "\n",
            "Training model \"MyMLP\" ([784, 64, 10]) with device: cuda (AMD Radeon RX 7800 XT) and parameters:\n",
            "\tLearning rate: 0.001\n",
            "\tLoss function: CrossEntropyLoss()\n",
            "\tOptimizer: Adam\n",
            "\n",
            "Number of parameters: 50890\n",
            "\n"
          ]
        },
        {
          "name": "stderr",
          "output_type": "stream",
          "text": [
            "100%|██████████| 938/938 [00:06<00:00, 151.11it/s]\n"
          ]
        },
        {
          "name": "stdout",
          "output_type": "stream",
          "text": [
            "Epoch [1/10], Train Loss: 0.4252, Train Accuracy: 0.8801, Time: 6.21s\n",
            "\t     Valid Loss: 0.2762, Valid Accuracy: 0.9236\n",
            "\n"
          ]
        },
        {
          "name": "stderr",
          "output_type": "stream",
          "text": [
            "100%|██████████| 938/938 [00:06<00:00, 150.44it/s]\n"
          ]
        },
        {
          "name": "stdout",
          "output_type": "stream",
          "text": [
            "Epoch [2/10], Train Loss: 0.2458, Train Accuracy: 0.9294, Time: 6.24s\n",
            "\t     Valid Loss: 0.1963, Valid Accuracy: 0.9464\n",
            "\n"
          ]
        },
        {
          "name": "stderr",
          "output_type": "stream",
          "text": [
            "100%|██████████| 938/938 [00:06<00:00, 150.20it/s]\n"
          ]
        },
        {
          "name": "stdout",
          "output_type": "stream",
          "text": [
            "Epoch [3/10], Train Loss: 0.1852, Train Accuracy: 0.9469, Time: 6.25s\n",
            "\t     Valid Loss: 0.1787, Valid Accuracy: 0.9475\n",
            "\n"
          ]
        },
        {
          "name": "stderr",
          "output_type": "stream",
          "text": [
            "100%|██████████| 938/938 [00:06<00:00, 145.17it/s]\n"
          ]
        },
        {
          "name": "stdout",
          "output_type": "stream",
          "text": [
            "Epoch [4/10], Train Loss: 0.1527, Train Accuracy: 0.9555, Time: 6.46s\n",
            "\t     Valid Loss: 0.1661, Valid Accuracy: 0.9565\n",
            "\n"
          ]
        },
        {
          "name": "stderr",
          "output_type": "stream",
          "text": [
            "100%|██████████| 938/938 [00:06<00:00, 149.16it/s]\n"
          ]
        },
        {
          "name": "stdout",
          "output_type": "stream",
          "text": [
            "Epoch [5/10], Train Loss: 0.1300, Train Accuracy: 0.9619, Time: 6.29s\n",
            "\t     Valid Loss: 0.1323, Valid Accuracy: 0.9660\n",
            "\n"
          ]
        },
        {
          "name": "stderr",
          "output_type": "stream",
          "text": [
            "100%|██████████| 938/938 [00:06<00:00, 150.55it/s]\n"
          ]
        },
        {
          "name": "stdout",
          "output_type": "stream",
          "text": [
            "Epoch [6/10], Train Loss: 0.1175, Train Accuracy: 0.9659, Time: 6.23s\n",
            "\t     Valid Loss: 0.1376, Valid Accuracy: 0.9654\n",
            "\n"
          ]
        },
        {
          "name": "stderr",
          "output_type": "stream",
          "text": [
            "100%|██████████| 938/938 [00:06<00:00, 146.90it/s]\n"
          ]
        },
        {
          "name": "stdout",
          "output_type": "stream",
          "text": [
            "Epoch [7/10], Train Loss: 0.1061, Train Accuracy: 0.9685, Time: 6.39s\n",
            "\t     Valid Loss: 0.1227, Valid Accuracy: 0.9699\n",
            "\n"
          ]
        },
        {
          "name": "stderr",
          "output_type": "stream",
          "text": [
            "100%|██████████| 938/938 [00:06<00:00, 150.82it/s]\n"
          ]
        },
        {
          "name": "stdout",
          "output_type": "stream",
          "text": [
            "Epoch [8/10], Train Loss: 0.0985, Train Accuracy: 0.9705, Time: 6.22s\n",
            "\t     Valid Loss: 0.1240, Valid Accuracy: 0.9676\n",
            "\n"
          ]
        },
        {
          "name": "stderr",
          "output_type": "stream",
          "text": [
            "100%|██████████| 938/938 [00:06<00:00, 149.11it/s]\n"
          ]
        },
        {
          "name": "stdout",
          "output_type": "stream",
          "text": [
            "Epoch [9/10], Train Loss: 0.0920, Train Accuracy: 0.9733, Time: 6.29s\n",
            "\t     Valid Loss: 0.1145, Valid Accuracy: 0.9728\n",
            "\n"
          ]
        },
        {
          "name": "stderr",
          "output_type": "stream",
          "text": [
            "100%|██████████| 938/938 [00:06<00:00, 151.25it/s]\n"
          ]
        },
        {
          "name": "stdout",
          "output_type": "stream",
          "text": [
            "Epoch [10/10], Train Loss: 0.0862, Train Accuracy: 0.9749, Time: 6.20s\n",
            "\t     Valid Loss: 0.1169, Valid Accuracy: 0.9734\n",
            "\n",
            "Training model \"MyKAN\" ([784, 64, 10]) with device: cuda (AMD Radeon RX 7800 XT) and parameters:\n",
            "\tLearning rate: 0.001\n",
            "\tLoss function: CrossEntropyLoss()\n",
            "\tOptimizer: Adam\n",
            "\n",
            "Number of parameters: 254080\n",
            "\n"
          ]
        },
        {
          "name": "stderr",
          "output_type": "stream",
          "text": [
            "100%|██████████| 938/938 [00:07<00:00, 126.02it/s]\n"
          ]
        },
        {
          "name": "stdout",
          "output_type": "stream",
          "text": [
            "Epoch [1/10], Train Loss: 0.3937, Train Accuracy: 0.8880, Time: 7.44s\n",
            "\t     Valid Loss: 0.2165, Valid Accuracy: 0.9438\n",
            "\n"
          ]
        },
        {
          "name": "stderr",
          "output_type": "stream",
          "text": [
            "100%|██████████| 938/938 [00:07<00:00, 124.56it/s]\n"
          ]
        },
        {
          "name": "stdout",
          "output_type": "stream",
          "text": [
            "Epoch [2/10], Train Loss: 0.1799, Train Accuracy: 0.9491, Time: 7.53s\n",
            "\t     Valid Loss: 0.1412, Valid Accuracy: 0.9651\n",
            "\n"
          ]
        },
        {
          "name": "stderr",
          "output_type": "stream",
          "text": [
            "100%|██████████| 938/938 [00:07<00:00, 125.80it/s]\n"
          ]
        },
        {
          "name": "stdout",
          "output_type": "stream",
          "text": [
            "Epoch [3/10], Train Loss: 0.1191, Train Accuracy: 0.9664, Time: 7.46s\n",
            "\t     Valid Loss: 0.1295, Valid Accuracy: 0.9693\n",
            "\n"
          ]
        },
        {
          "name": "stderr",
          "output_type": "stream",
          "text": [
            "100%|██████████| 938/938 [00:07<00:00, 125.44it/s]\n"
          ]
        },
        {
          "name": "stdout",
          "output_type": "stream",
          "text": [
            "Epoch [4/10], Train Loss: 0.0876, Train Accuracy: 0.9750, Time: 7.48s\n",
            "\t     Valid Loss: 0.1013, Valid Accuracy: 0.9756\n",
            "\n"
          ]
        },
        {
          "name": "stderr",
          "output_type": "stream",
          "text": [
            "100%|██████████| 938/938 [00:07<00:00, 126.13it/s]\n"
          ]
        },
        {
          "name": "stdout",
          "output_type": "stream",
          "text": [
            "Epoch [5/10], Train Loss: 0.0655, Train Accuracy: 0.9821, Time: 7.44s\n",
            "\t     Valid Loss: 0.1024, Valid Accuracy: 0.9752\n",
            "\n"
          ]
        },
        {
          "name": "stderr",
          "output_type": "stream",
          "text": [
            "100%|██████████| 938/938 [00:07<00:00, 123.74it/s]\n"
          ]
        },
        {
          "name": "stdout",
          "output_type": "stream",
          "text": [
            "Epoch [6/10], Train Loss: 0.0515, Train Accuracy: 0.9855, Time: 7.58s\n",
            "\t     Valid Loss: 0.1021, Valid Accuracy: 0.9756\n",
            "\n"
          ]
        },
        {
          "name": "stderr",
          "output_type": "stream",
          "text": [
            "100%|██████████| 938/938 [00:07<00:00, 124.65it/s]\n"
          ]
        },
        {
          "name": "stdout",
          "output_type": "stream",
          "text": [
            "Epoch [7/10], Train Loss: 0.0399, Train Accuracy: 0.9893, Time: 7.53s\n",
            "\t     Valid Loss: 0.1056, Valid Accuracy: 0.9755\n",
            "\n"
          ]
        },
        {
          "name": "stderr",
          "output_type": "stream",
          "text": [
            "100%|██████████| 938/938 [00:07<00:00, 126.06it/s]\n"
          ]
        },
        {
          "name": "stdout",
          "output_type": "stream",
          "text": [
            "Epoch [8/10], Train Loss: 0.0313, Train Accuracy: 0.9920, Time: 7.44s\n",
            "\t     Valid Loss: 0.0924, Valid Accuracy: 0.9790\n",
            "\n"
          ]
        },
        {
          "name": "stderr",
          "output_type": "stream",
          "text": [
            "100%|██████████| 938/938 [00:07<00:00, 126.00it/s]\n"
          ]
        },
        {
          "name": "stdout",
          "output_type": "stream",
          "text": [
            "Epoch [9/10], Train Loss: 0.0236, Train Accuracy: 0.9945, Time: 7.45s\n",
            "\t     Valid Loss: 0.1109, Valid Accuracy: 0.9767\n",
            "\n"
          ]
        },
        {
          "name": "stderr",
          "output_type": "stream",
          "text": [
            "100%|██████████| 938/938 [00:07<00:00, 126.24it/s]\n"
          ]
        },
        {
          "name": "stdout",
          "output_type": "stream",
          "text": [
            "Epoch [10/10], Train Loss: 0.0185, Train Accuracy: 0.9961, Time: 7.43s\n",
            "\t     Valid Loss: 0.1162, Valid Accuracy: 0.9743\n",
            "\n",
            "Training model \"MyMLP\" ([784, 15, 10]) with device: cuda (AMD Radeon RX 7800 XT) and parameters:\n",
            "\tLearning rate: 0.001\n",
            "\tLoss function: CrossEntropyLoss()\n",
            "\tOptimizer: Adam\n",
            "\n",
            "Number of parameters: 11935\n",
            "\n"
          ]
        },
        {
          "name": "stderr",
          "output_type": "stream",
          "text": [
            "100%|██████████| 938/938 [00:06<00:00, 148.17it/s]\n"
          ]
        },
        {
          "name": "stdout",
          "output_type": "stream",
          "text": [
            "Epoch [1/10], Train Loss: 0.7770, Train Accuracy: 0.7570, Time: 6.33s\n",
            "\t     Valid Loss: 0.4641, Valid Accuracy: 0.8733\n",
            "\n"
          ]
        },
        {
          "name": "stderr",
          "output_type": "stream",
          "text": [
            "100%|██████████| 938/938 [00:06<00:00, 149.39it/s]\n"
          ]
        },
        {
          "name": "stdout",
          "output_type": "stream",
          "text": [
            "Epoch [2/10], Train Loss: 0.4300, Train Accuracy: 0.8743, Time: 6.28s\n",
            "\t     Valid Loss: 0.3939, Valid Accuracy: 0.8939\n",
            "\n"
          ]
        },
        {
          "name": "stderr",
          "output_type": "stream",
          "text": [
            "100%|██████████| 938/938 [00:06<00:00, 149.52it/s]\n"
          ]
        },
        {
          "name": "stdout",
          "output_type": "stream",
          "text": [
            "Epoch [3/10], Train Loss: 0.3889, Train Accuracy: 0.8874, Time: 6.27s\n",
            "\t     Valid Loss: 0.3626, Valid Accuracy: 0.9047\n",
            "\n"
          ]
        },
        {
          "name": "stderr",
          "output_type": "stream",
          "text": [
            "100%|██████████| 938/938 [00:06<00:00, 149.64it/s]\n"
          ]
        },
        {
          "name": "stdout",
          "output_type": "stream",
          "text": [
            "Epoch [4/10], Train Loss: 0.3714, Train Accuracy: 0.8944, Time: 6.27s\n",
            "\t     Valid Loss: 0.3555, Valid Accuracy: 0.9062\n",
            "\n"
          ]
        },
        {
          "name": "stderr",
          "output_type": "stream",
          "text": [
            "100%|██████████| 938/938 [00:06<00:00, 146.96it/s]\n"
          ]
        },
        {
          "name": "stdout",
          "output_type": "stream",
          "text": [
            "Epoch [5/10], Train Loss: 0.3594, Train Accuracy: 0.8974, Time: 6.38s\n",
            "\t     Valid Loss: 0.3532, Valid Accuracy: 0.9066\n",
            "\n"
          ]
        },
        {
          "name": "stderr",
          "output_type": "stream",
          "text": [
            "100%|██████████| 938/938 [00:06<00:00, 148.05it/s]\n"
          ]
        },
        {
          "name": "stdout",
          "output_type": "stream",
          "text": [
            "Epoch [6/10], Train Loss: 0.3521, Train Accuracy: 0.9000, Time: 6.34s\n",
            "\t     Valid Loss: 0.3410, Valid Accuracy: 0.9073\n",
            "\n"
          ]
        },
        {
          "name": "stderr",
          "output_type": "stream",
          "text": [
            "100%|██████████| 938/938 [00:06<00:00, 150.33it/s]\n"
          ]
        },
        {
          "name": "stdout",
          "output_type": "stream",
          "text": [
            "Epoch [7/10], Train Loss: 0.3465, Train Accuracy: 0.9012, Time: 6.24s\n",
            "\t     Valid Loss: 0.3317, Valid Accuracy: 0.9109\n",
            "\n"
          ]
        },
        {
          "name": "stderr",
          "output_type": "stream",
          "text": [
            "100%|██████████| 938/938 [00:06<00:00, 150.26it/s]\n"
          ]
        },
        {
          "name": "stdout",
          "output_type": "stream",
          "text": [
            "Epoch [8/10], Train Loss: 0.3378, Train Accuracy: 0.9040, Time: 6.24s\n",
            "\t     Valid Loss: 0.3269, Valid Accuracy: 0.9133\n",
            "\n"
          ]
        },
        {
          "name": "stderr",
          "output_type": "stream",
          "text": [
            "100%|██████████| 938/938 [00:06<00:00, 142.86it/s]\n"
          ]
        },
        {
          "name": "stdout",
          "output_type": "stream",
          "text": [
            "Epoch [9/10], Train Loss: 0.3366, Train Accuracy: 0.9038, Time: 6.57s\n",
            "\t     Valid Loss: 0.3282, Valid Accuracy: 0.9090\n",
            "\n"
          ]
        },
        {
          "name": "stderr",
          "output_type": "stream",
          "text": [
            "100%|██████████| 938/938 [00:06<00:00, 144.40it/s]\n"
          ]
        },
        {
          "name": "stdout",
          "output_type": "stream",
          "text": [
            "Epoch [10/10], Train Loss: 0.3315, Train Accuracy: 0.9066, Time: 6.50s\n",
            "\t     Valid Loss: 0.3365, Valid Accuracy: 0.9047\n",
            "\n",
            "Training model \"MyKAN\" ([784, 10, 10]) with device: cuda (AMD Radeon RX 7800 XT) and parameters:\n",
            "\tLearning rate: 0.001\n",
            "\tLoss function: CrossEntropyLoss()\n",
            "\tOptimizer: Adam\n",
            "\n",
            "Number of parameters: 39700\n",
            "\n"
          ]
        },
        {
          "name": "stderr",
          "output_type": "stream",
          "text": [
            "100%|██████████| 938/938 [00:07<00:00, 124.14it/s]\n"
          ]
        },
        {
          "name": "stdout",
          "output_type": "stream",
          "text": [
            "Epoch [1/10], Train Loss: 0.5408, Train Accuracy: 0.8498, Time: 7.56s\n",
            "\t     Valid Loss: 0.2961, Valid Accuracy: 0.9212\n",
            "\n"
          ]
        },
        {
          "name": "stderr",
          "output_type": "stream",
          "text": [
            "100%|██████████| 938/938 [00:07<00:00, 125.19it/s]\n"
          ]
        },
        {
          "name": "stdout",
          "output_type": "stream",
          "text": [
            "Epoch [2/10], Train Loss: 0.2797, Train Accuracy: 0.9204, Time: 7.49s\n",
            "\t     Valid Loss: 0.2532, Valid Accuracy: 0.9349\n",
            "\n"
          ]
        },
        {
          "name": "stderr",
          "output_type": "stream",
          "text": [
            "100%|██████████| 938/938 [00:07<00:00, 125.53it/s]\n"
          ]
        },
        {
          "name": "stdout",
          "output_type": "stream",
          "text": [
            "Epoch [3/10], Train Loss: 0.2429, Train Accuracy: 0.9316, Time: 7.47s\n",
            "\t     Valid Loss: 0.2442, Valid Accuracy: 0.9368\n",
            "\n"
          ]
        },
        {
          "name": "stderr",
          "output_type": "stream",
          "text": [
            "100%|██████████| 938/938 [00:07<00:00, 124.44it/s]\n"
          ]
        },
        {
          "name": "stdout",
          "output_type": "stream",
          "text": [
            "Epoch [4/10], Train Loss: 0.2197, Train Accuracy: 0.9390, Time: 7.54s\n",
            "\t     Valid Loss: 0.2308, Valid Accuracy: 0.9417\n",
            "\n"
          ]
        },
        {
          "name": "stderr",
          "output_type": "stream",
          "text": [
            "100%|██████████| 938/938 [00:07<00:00, 126.07it/s]\n"
          ]
        },
        {
          "name": "stdout",
          "output_type": "stream",
          "text": [
            "Epoch [5/10], Train Loss: 0.2032, Train Accuracy: 0.9440, Time: 7.44s\n",
            "\t     Valid Loss: 0.2191, Valid Accuracy: 0.9443\n",
            "\n"
          ]
        },
        {
          "name": "stderr",
          "output_type": "stream",
          "text": [
            "100%|██████████| 938/938 [00:07<00:00, 123.80it/s]\n"
          ]
        },
        {
          "name": "stdout",
          "output_type": "stream",
          "text": [
            "Epoch [6/10], Train Loss: 0.1902, Train Accuracy: 0.9461, Time: 7.58s\n",
            "\t     Valid Loss: 0.2149, Valid Accuracy: 0.9447\n",
            "\n"
          ]
        },
        {
          "name": "stderr",
          "output_type": "stream",
          "text": [
            "100%|██████████| 938/938 [00:07<00:00, 125.97it/s]\n"
          ]
        },
        {
          "name": "stdout",
          "output_type": "stream",
          "text": [
            "Epoch [7/10], Train Loss: 0.1821, Train Accuracy: 0.9493, Time: 7.45s\n",
            "\t     Valid Loss: 0.2251, Valid Accuracy: 0.9410\n",
            "\n"
          ]
        },
        {
          "name": "stderr",
          "output_type": "stream",
          "text": [
            "100%|██████████| 938/938 [00:07<00:00, 126.52it/s]\n"
          ]
        },
        {
          "name": "stdout",
          "output_type": "stream",
          "text": [
            "Epoch [8/10], Train Loss: 0.1702, Train Accuracy: 0.9521, Time: 7.42s\n",
            "\t     Valid Loss: 0.2208, Valid Accuracy: 0.9418\n",
            "\n"
          ]
        },
        {
          "name": "stderr",
          "output_type": "stream",
          "text": [
            "100%|██████████| 938/938 [00:07<00:00, 126.93it/s]\n"
          ]
        },
        {
          "name": "stdout",
          "output_type": "stream",
          "text": [
            "Epoch [9/10], Train Loss: 0.1613, Train Accuracy: 0.9544, Time: 7.39s\n",
            "\t     Valid Loss: 0.2192, Valid Accuracy: 0.9445\n",
            "\n"
          ]
        },
        {
          "name": "stderr",
          "output_type": "stream",
          "text": [
            "100%|██████████| 938/938 [00:07<00:00, 126.65it/s]\n"
          ]
        },
        {
          "name": "stdout",
          "output_type": "stream",
          "text": [
            "Epoch [10/10], Train Loss: 0.1546, Train Accuracy: 0.9560, Time: 7.41s\n",
            "\t     Valid Loss: 0.2177, Valid Accuracy: 0.9447\n",
            "\n",
            "Training model \"MyMLP\" ([784, 5, 10]) with device: cuda (AMD Radeon RX 7800 XT) and parameters:\n",
            "\tLearning rate: 0.001\n",
            "\tLoss function: CrossEntropyLoss()\n",
            "\tOptimizer: Adam\n",
            "\n",
            "Number of parameters: 3985\n",
            "\n"
          ]
        },
        {
          "name": "stderr",
          "output_type": "stream",
          "text": [
            "100%|██████████| 938/938 [00:06<00:00, 145.58it/s]\n"
          ]
        },
        {
          "name": "stdout",
          "output_type": "stream",
          "text": [
            "Epoch [1/10], Train Loss: 1.9893, Train Accuracy: 0.2133, Time: 6.44s\n",
            "\t     Valid Loss: 1.8897, Valid Accuracy: 0.2487\n",
            "\n"
          ]
        },
        {
          "name": "stderr",
          "output_type": "stream",
          "text": [
            "100%|██████████| 938/938 [00:06<00:00, 150.11it/s]\n"
          ]
        },
        {
          "name": "stdout",
          "output_type": "stream",
          "text": [
            "Epoch [2/10], Train Loss: 1.8394, Train Accuracy: 0.2545, Time: 6.25s\n",
            "\t     Valid Loss: 1.8089, Valid Accuracy: 0.2735\n",
            "\n"
          ]
        },
        {
          "name": "stderr",
          "output_type": "stream",
          "text": [
            "100%|██████████| 938/938 [00:06<00:00, 149.71it/s]\n"
          ]
        },
        {
          "name": "stdout",
          "output_type": "stream",
          "text": [
            "Epoch [3/10], Train Loss: 1.7894, Train Accuracy: 0.2741, Time: 6.27s\n",
            "\t     Valid Loss: 1.7779, Valid Accuracy: 0.2921\n",
            "\n"
          ]
        },
        {
          "name": "stderr",
          "output_type": "stream",
          "text": [
            "100%|██████████| 938/938 [00:06<00:00, 150.74it/s]\n"
          ]
        },
        {
          "name": "stdout",
          "output_type": "stream",
          "text": [
            "Epoch [4/10], Train Loss: 1.7633, Train Accuracy: 0.2883, Time: 6.22s\n",
            "\t     Valid Loss: 1.7549, Valid Accuracy: 0.2914\n",
            "\n"
          ]
        },
        {
          "name": "stderr",
          "output_type": "stream",
          "text": [
            "100%|██████████| 938/938 [00:06<00:00, 149.21it/s]\n"
          ]
        },
        {
          "name": "stdout",
          "output_type": "stream",
          "text": [
            "Epoch [5/10], Train Loss: 1.7452, Train Accuracy: 0.3015, Time: 6.29s\n",
            "\t     Valid Loss: 1.7368, Valid Accuracy: 0.3165\n",
            "\n"
          ]
        },
        {
          "name": "stderr",
          "output_type": "stream",
          "text": [
            "100%|██████████| 938/938 [00:06<00:00, 150.11it/s]\n"
          ]
        },
        {
          "name": "stdout",
          "output_type": "stream",
          "text": [
            "Epoch [6/10], Train Loss: 1.7305, Train Accuracy: 0.3116, Time: 6.25s\n",
            "\t     Valid Loss: 1.7223, Valid Accuracy: 0.3272\n",
            "\n"
          ]
        },
        {
          "name": "stderr",
          "output_type": "stream",
          "text": [
            "100%|██████████| 938/938 [00:06<00:00, 151.02it/s]\n"
          ]
        },
        {
          "name": "stdout",
          "output_type": "stream",
          "text": [
            "Epoch [7/10], Train Loss: 1.7164, Train Accuracy: 0.3223, Time: 6.21s\n",
            "\t     Valid Loss: 1.7054, Valid Accuracy: 0.3318\n",
            "\n"
          ]
        },
        {
          "name": "stderr",
          "output_type": "stream",
          "text": [
            "100%|██████████| 938/938 [00:06<00:00, 151.22it/s]\n"
          ]
        },
        {
          "name": "stdout",
          "output_type": "stream",
          "text": [
            "Epoch [8/10], Train Loss: 1.7031, Train Accuracy: 0.3256, Time: 6.20s\n",
            "\t     Valid Loss: 1.6912, Valid Accuracy: 0.3342\n",
            "\n"
          ]
        },
        {
          "name": "stderr",
          "output_type": "stream",
          "text": [
            "100%|██████████| 938/938 [00:06<00:00, 146.50it/s]\n"
          ]
        },
        {
          "name": "stdout",
          "output_type": "stream",
          "text": [
            "Epoch [9/10], Train Loss: 1.6917, Train Accuracy: 0.3299, Time: 6.40s\n",
            "\t     Valid Loss: 1.6802, Valid Accuracy: 0.3336\n",
            "\n"
          ]
        },
        {
          "name": "stderr",
          "output_type": "stream",
          "text": [
            "100%|██████████| 938/938 [00:06<00:00, 144.65it/s]\n"
          ]
        },
        {
          "name": "stdout",
          "output_type": "stream",
          "text": [
            "Epoch [10/10], Train Loss: 1.6822, Train Accuracy: 0.3335, Time: 6.49s\n",
            "\t     Valid Loss: 1.6808, Valid Accuracy: 0.3297\n",
            "\n",
            "Training model \"MyKAN\" ([784, 5, 10]) with device: cuda (AMD Radeon RX 7800 XT) and parameters:\n",
            "\tLearning rate: 0.001\n",
            "\tLoss function: CrossEntropyLoss()\n",
            "\tOptimizer: Adam\n",
            "\n",
            "Number of parameters: 19850\n",
            "\n"
          ]
        },
        {
          "name": "stderr",
          "output_type": "stream",
          "text": [
            "100%|██████████| 938/938 [00:07<00:00, 128.07it/s]\n"
          ]
        },
        {
          "name": "stdout",
          "output_type": "stream",
          "text": [
            "Epoch [1/10], Train Loss: 0.8578, Train Accuracy: 0.7455, Time: 7.33s\n",
            "\t     Valid Loss: 0.5171, Valid Accuracy: 0.8656\n",
            "\n"
          ]
        },
        {
          "name": "stderr",
          "output_type": "stream",
          "text": [
            "100%|██████████| 938/938 [00:07<00:00, 128.38it/s]\n"
          ]
        },
        {
          "name": "stdout",
          "output_type": "stream",
          "text": [
            "Epoch [2/10], Train Loss: 0.4789, Train Accuracy: 0.8692, Time: 7.31s\n",
            "\t     Valid Loss: 0.4344, Valid Accuracy: 0.8878\n",
            "\n"
          ]
        },
        {
          "name": "stderr",
          "output_type": "stream",
          "text": [
            "100%|██████████| 938/938 [00:07<00:00, 123.92it/s]\n"
          ]
        },
        {
          "name": "stdout",
          "output_type": "stream",
          "text": [
            "Epoch [3/10], Train Loss: 0.4127, Train Accuracy: 0.8864, Time: 7.57s\n",
            "\t     Valid Loss: 0.4107, Valid Accuracy: 0.8925\n",
            "\n"
          ]
        },
        {
          "name": "stderr",
          "output_type": "stream",
          "text": [
            "100%|██████████| 938/938 [00:07<00:00, 126.59it/s]\n"
          ]
        },
        {
          "name": "stdout",
          "output_type": "stream",
          "text": [
            "Epoch [4/10], Train Loss: 0.3787, Train Accuracy: 0.8948, Time: 7.41s\n",
            "\t     Valid Loss: 0.3881, Valid Accuracy: 0.9004\n",
            "\n"
          ]
        },
        {
          "name": "stderr",
          "output_type": "stream",
          "text": [
            "100%|██████████| 938/938 [00:07<00:00, 127.00it/s]\n"
          ]
        },
        {
          "name": "stdout",
          "output_type": "stream",
          "text": [
            "Epoch [5/10], Train Loss: 0.3576, Train Accuracy: 0.8995, Time: 7.39s\n",
            "\t     Valid Loss: 0.3745, Valid Accuracy: 0.9028\n",
            "\n"
          ]
        },
        {
          "name": "stderr",
          "output_type": "stream",
          "text": [
            "100%|██████████| 938/938 [00:07<00:00, 126.81it/s]\n"
          ]
        },
        {
          "name": "stdout",
          "output_type": "stream",
          "text": [
            "Epoch [6/10], Train Loss: 0.3437, Train Accuracy: 0.9043, Time: 7.40s\n",
            "\t     Valid Loss: 0.3713, Valid Accuracy: 0.9037\n",
            "\n"
          ]
        },
        {
          "name": "stderr",
          "output_type": "stream",
          "text": [
            "100%|██████████| 938/938 [00:07<00:00, 126.94it/s]\n"
          ]
        },
        {
          "name": "stdout",
          "output_type": "stream",
          "text": [
            "Epoch [7/10], Train Loss: 0.3304, Train Accuracy: 0.9075, Time: 7.39s\n",
            "\t     Valid Loss: 0.3776, Valid Accuracy: 0.8946\n",
            "\n"
          ]
        },
        {
          "name": "stderr",
          "output_type": "stream",
          "text": [
            "100%|██████████| 938/938 [00:07<00:00, 125.77it/s]\n"
          ]
        },
        {
          "name": "stdout",
          "output_type": "stream",
          "text": [
            "Epoch [8/10], Train Loss: 0.3204, Train Accuracy: 0.9103, Time: 7.46s\n",
            "\t     Valid Loss: 0.3612, Valid Accuracy: 0.9036\n",
            "\n"
          ]
        },
        {
          "name": "stderr",
          "output_type": "stream",
          "text": [
            "100%|██████████| 938/938 [00:07<00:00, 126.86it/s]\n"
          ]
        },
        {
          "name": "stdout",
          "output_type": "stream",
          "text": [
            "Epoch [9/10], Train Loss: 0.3127, Train Accuracy: 0.9124, Time: 7.40s\n",
            "\t     Valid Loss: 0.3722, Valid Accuracy: 0.9018\n",
            "\n"
          ]
        },
        {
          "name": "stderr",
          "output_type": "stream",
          "text": [
            "100%|██████████| 938/938 [00:07<00:00, 124.26it/s]\n"
          ]
        },
        {
          "name": "stdout",
          "output_type": "stream",
          "text": [
            "Epoch [10/10], Train Loss: 0.3026, Train Accuracy: 0.9144, Time: 7.55s\n",
            "\t     Valid Loss: 0.3489, Valid Accuracy: 0.9075\n",
            "\n",
            "Training model \"MyMLP\" ([784, 10, 10, 10]) with device: cuda (AMD Radeon RX 7800 XT) and parameters:\n",
            "\tLearning rate: 0.001\n",
            "\tLoss function: CrossEntropyLoss()\n",
            "\tOptimizer: Adam\n",
            "\n",
            "Number of parameters: 8070\n",
            "\n"
          ]
        },
        {
          "name": "stderr",
          "output_type": "stream",
          "text": [
            "100%|██████████| 938/938 [00:06<00:00, 147.28it/s]\n"
          ]
        },
        {
          "name": "stdout",
          "output_type": "stream",
          "text": [
            "Epoch [1/10], Train Loss: 0.8967, Train Accuracy: 0.7026, Time: 6.37s\n",
            "\t     Valid Loss: 0.5516, Valid Accuracy: 0.8425\n",
            "\n"
          ]
        },
        {
          "name": "stderr",
          "output_type": "stream",
          "text": [
            "100%|██████████| 938/938 [00:06<00:00, 148.26it/s]\n"
          ]
        },
        {
          "name": "stdout",
          "output_type": "stream",
          "text": [
            "Epoch [2/10], Train Loss: 0.5358, Train Accuracy: 0.8375, Time: 6.33s\n",
            "\t     Valid Loss: 0.4934, Valid Accuracy: 0.8602\n",
            "\n"
          ]
        },
        {
          "name": "stderr",
          "output_type": "stream",
          "text": [
            "100%|██████████| 938/938 [00:06<00:00, 148.36it/s]\n"
          ]
        },
        {
          "name": "stdout",
          "output_type": "stream",
          "text": [
            "Epoch [3/10], Train Loss: 0.4830, Train Accuracy: 0.8559, Time: 6.32s\n",
            "\t     Valid Loss: 0.4531, Valid Accuracy: 0.8743\n",
            "\n"
          ]
        },
        {
          "name": "stderr",
          "output_type": "stream",
          "text": [
            "100%|██████████| 938/938 [00:06<00:00, 148.94it/s]\n"
          ]
        },
        {
          "name": "stdout",
          "output_type": "stream",
          "text": [
            "Epoch [4/10], Train Loss: 0.4459, Train Accuracy: 0.8689, Time: 6.30s\n",
            "\t     Valid Loss: 0.4107, Valid Accuracy: 0.8844\n",
            "\n"
          ]
        },
        {
          "name": "stderr",
          "output_type": "stream",
          "text": [
            "100%|██████████| 938/938 [00:06<00:00, 146.66it/s]\n"
          ]
        },
        {
          "name": "stdout",
          "output_type": "stream",
          "text": [
            "Epoch [5/10], Train Loss: 0.4222, Train Accuracy: 0.8763, Time: 6.40s\n",
            "\t     Valid Loss: 0.4045, Valid Accuracy: 0.8885\n",
            "\n"
          ]
        },
        {
          "name": "stderr",
          "output_type": "stream",
          "text": [
            "100%|██████████| 938/938 [00:06<00:00, 146.56it/s]\n"
          ]
        },
        {
          "name": "stdout",
          "output_type": "stream",
          "text": [
            "Epoch [6/10], Train Loss: 0.4042, Train Accuracy: 0.8818, Time: 6.40s\n",
            "\t     Valid Loss: 0.3793, Valid Accuracy: 0.8934\n",
            "\n"
          ]
        },
        {
          "name": "stderr",
          "output_type": "stream",
          "text": [
            "100%|██████████| 938/938 [00:06<00:00, 148.60it/s]\n"
          ]
        },
        {
          "name": "stdout",
          "output_type": "stream",
          "text": [
            "Epoch [7/10], Train Loss: 0.3912, Train Accuracy: 0.8876, Time: 6.31s\n",
            "\t     Valid Loss: 0.3666, Valid Accuracy: 0.8969\n",
            "\n"
          ]
        },
        {
          "name": "stderr",
          "output_type": "stream",
          "text": [
            "100%|██████████| 938/938 [00:06<00:00, 148.41it/s]\n"
          ]
        },
        {
          "name": "stdout",
          "output_type": "stream",
          "text": [
            "Epoch [8/10], Train Loss: 0.3816, Train Accuracy: 0.8913, Time: 6.32s\n",
            "\t     Valid Loss: 0.3632, Valid Accuracy: 0.8972\n",
            "\n"
          ]
        },
        {
          "name": "stderr",
          "output_type": "stream",
          "text": [
            "100%|██████████| 938/938 [00:06<00:00, 147.78it/s]\n"
          ]
        },
        {
          "name": "stdout",
          "output_type": "stream",
          "text": [
            "Epoch [9/10], Train Loss: 0.3730, Train Accuracy: 0.8932, Time: 6.35s\n",
            "\t     Valid Loss: 0.3639, Valid Accuracy: 0.8971\n",
            "\n"
          ]
        },
        {
          "name": "stderr",
          "output_type": "stream",
          "text": [
            "100%|██████████| 938/938 [00:06<00:00, 148.68it/s]\n"
          ]
        },
        {
          "name": "stdout",
          "output_type": "stream",
          "text": [
            "Epoch [10/10], Train Loss: 0.3662, Train Accuracy: 0.8951, Time: 6.31s\n",
            "\t     Valid Loss: 0.3581, Valid Accuracy: 0.9024\n",
            "\n",
            "Training model \"MyKAN\" ([784, 10, 10, 10]) with device: cuda (AMD Radeon RX 7800 XT) and parameters:\n",
            "\tLearning rate: 0.001\n",
            "\tLoss function: CrossEntropyLoss()\n",
            "\tOptimizer: Adam\n",
            "\n",
            "Number of parameters: 40200\n",
            "\n"
          ]
        },
        {
          "name": "stderr",
          "output_type": "stream",
          "text": [
            "100%|██████████| 938/938 [00:08<00:00, 109.57it/s]\n"
          ]
        },
        {
          "name": "stdout",
          "output_type": "stream",
          "text": [
            "Epoch [1/10], Train Loss: 0.6471, Train Accuracy: 0.8035, Time: 8.56s\n",
            "\t     Valid Loss: 0.3270, Valid Accuracy: 0.9113\n",
            "\n"
          ]
        },
        {
          "name": "stderr",
          "output_type": "stream",
          "text": [
            "100%|██████████| 938/938 [00:08<00:00, 111.57it/s]\n"
          ]
        },
        {
          "name": "stdout",
          "output_type": "stream",
          "text": [
            "Epoch [2/10], Train Loss: 0.2965, Train Accuracy: 0.9143, Time: 8.41s\n",
            "\t     Valid Loss: 0.2655, Valid Accuracy: 0.9322\n",
            "\n"
          ]
        },
        {
          "name": "stderr",
          "output_type": "stream",
          "text": [
            "100%|██████████| 938/938 [00:08<00:00, 112.40it/s]\n"
          ]
        },
        {
          "name": "stdout",
          "output_type": "stream",
          "text": [
            "Epoch [3/10], Train Loss: 0.2507, Train Accuracy: 0.9287, Time: 8.35s\n",
            "\t     Valid Loss: 0.2473, Valid Accuracy: 0.9356\n",
            "\n"
          ]
        },
        {
          "name": "stderr",
          "output_type": "stream",
          "text": [
            "100%|██████████| 938/938 [00:08<00:00, 113.25it/s]\n"
          ]
        },
        {
          "name": "stdout",
          "output_type": "stream",
          "text": [
            "Epoch [4/10], Train Loss: 0.2261, Train Accuracy: 0.9358, Time: 8.28s\n",
            "\t     Valid Loss: 0.2282, Valid Accuracy: 0.9405\n",
            "\n"
          ]
        },
        {
          "name": "stderr",
          "output_type": "stream",
          "text": [
            "100%|██████████| 938/938 [00:08<00:00, 111.88it/s]\n"
          ]
        },
        {
          "name": "stdout",
          "output_type": "stream",
          "text": [
            "Epoch [5/10], Train Loss: 0.2099, Train Accuracy: 0.9418, Time: 8.39s\n",
            "\t     Valid Loss: 0.2482, Valid Accuracy: 0.9325\n",
            "\n"
          ]
        },
        {
          "name": "stderr",
          "output_type": "stream",
          "text": [
            "100%|██████████| 938/938 [00:08<00:00, 112.70it/s]\n"
          ]
        },
        {
          "name": "stdout",
          "output_type": "stream",
          "text": [
            "Epoch [6/10], Train Loss: 0.1970, Train Accuracy: 0.9446, Time: 8.32s\n",
            "\t     Valid Loss: 0.2166, Valid Accuracy: 0.9433\n",
            "\n"
          ]
        },
        {
          "name": "stderr",
          "output_type": "stream",
          "text": [
            "100%|██████████| 938/938 [00:08<00:00, 112.39it/s]\n"
          ]
        },
        {
          "name": "stdout",
          "output_type": "stream",
          "text": [
            "Epoch [7/10], Train Loss: 0.1854, Train Accuracy: 0.9481, Time: 8.35s\n",
            "\t     Valid Loss: 0.2259, Valid Accuracy: 0.9425\n",
            "\n"
          ]
        },
        {
          "name": "stderr",
          "output_type": "stream",
          "text": [
            "100%|██████████| 938/938 [00:08<00:00, 111.64it/s]\n"
          ]
        },
        {
          "name": "stdout",
          "output_type": "stream",
          "text": [
            "Epoch [8/10], Train Loss: 0.1773, Train Accuracy: 0.9504, Time: 8.40s\n",
            "\t     Valid Loss: 0.2132, Valid Accuracy: 0.9427\n",
            "\n"
          ]
        },
        {
          "name": "stderr",
          "output_type": "stream",
          "text": [
            "100%|██████████| 938/938 [00:08<00:00, 112.66it/s]\n"
          ]
        },
        {
          "name": "stdout",
          "output_type": "stream",
          "text": [
            "Epoch [9/10], Train Loss: 0.1691, Train Accuracy: 0.9523, Time: 8.33s\n",
            "\t     Valid Loss: 0.2156, Valid Accuracy: 0.9419\n",
            "\n"
          ]
        },
        {
          "name": "stderr",
          "output_type": "stream",
          "text": [
            "100%|██████████| 938/938 [00:08<00:00, 111.11it/s]\n"
          ]
        },
        {
          "name": "stdout",
          "output_type": "stream",
          "text": [
            "Epoch [10/10], Train Loss: 0.1610, Train Accuracy: 0.9536, Time: 8.44s\n",
            "\t     Valid Loss: 0.2124, Valid Accuracy: 0.9439\n",
            "\n",
            "Training model \"MyMLP\" ([784, 5, 5, 10]) with device: cuda (AMD Radeon RX 7800 XT) and parameters:\n",
            "\tLearning rate: 0.001\n",
            "\tLoss function: CrossEntropyLoss()\n",
            "\tOptimizer: Adam\n",
            "\n",
            "Number of parameters: 4015\n",
            "\n"
          ]
        },
        {
          "name": "stderr",
          "output_type": "stream",
          "text": [
            "100%|██████████| 938/938 [00:06<00:00, 148.19it/s]\n"
          ]
        },
        {
          "name": "stdout",
          "output_type": "stream",
          "text": [
            "Epoch [1/10], Train Loss: 1.3323, Train Accuracy: 0.5301, Time: 6.33s\n",
            "\t     Valid Loss: 0.7576, Valid Accuracy: 0.7657\n",
            "\n"
          ]
        },
        {
          "name": "stderr",
          "output_type": "stream",
          "text": [
            "100%|██████████| 938/938 [00:06<00:00, 139.37it/s]\n"
          ]
        },
        {
          "name": "stdout",
          "output_type": "stream",
          "text": [
            "Epoch [2/10], Train Loss: 0.7034, Train Accuracy: 0.7779, Time: 6.73s\n",
            "\t     Valid Loss: 0.6741, Valid Accuracy: 0.7916\n",
            "\n"
          ]
        },
        {
          "name": "stderr",
          "output_type": "stream",
          "text": [
            "100%|██████████| 938/938 [00:06<00:00, 144.22it/s]\n"
          ]
        },
        {
          "name": "stdout",
          "output_type": "stream",
          "text": [
            "Epoch [3/10], Train Loss: 0.6149, Train Accuracy: 0.8124, Time: 6.51s\n",
            "\t     Valid Loss: 0.5730, Valid Accuracy: 0.8328\n",
            "\n"
          ]
        },
        {
          "name": "stderr",
          "output_type": "stream",
          "text": [
            "100%|██████████| 938/938 [00:06<00:00, 146.49it/s]\n"
          ]
        },
        {
          "name": "stdout",
          "output_type": "stream",
          "text": [
            "Epoch [4/10], Train Loss: 0.5631, Train Accuracy: 0.8338, Time: 6.40s\n",
            "\t     Valid Loss: 0.5430, Valid Accuracy: 0.8460\n",
            "\n"
          ]
        },
        {
          "name": "stderr",
          "output_type": "stream",
          "text": [
            "100%|██████████| 938/938 [00:06<00:00, 147.73it/s]\n"
          ]
        },
        {
          "name": "stdout",
          "output_type": "stream",
          "text": [
            "Epoch [5/10], Train Loss: 0.5366, Train Accuracy: 0.8430, Time: 6.35s\n",
            "\t     Valid Loss: 0.5405, Valid Accuracy: 0.8506\n",
            "\n"
          ]
        },
        {
          "name": "stderr",
          "output_type": "stream",
          "text": [
            "100%|██████████| 938/938 [00:06<00:00, 148.40it/s]\n"
          ]
        },
        {
          "name": "stdout",
          "output_type": "stream",
          "text": [
            "Epoch [6/10], Train Loss: 0.5187, Train Accuracy: 0.8492, Time: 6.32s\n",
            "\t     Valid Loss: 0.5063, Valid Accuracy: 0.8578\n",
            "\n"
          ]
        },
        {
          "name": "stderr",
          "output_type": "stream",
          "text": [
            "100%|██████████| 938/938 [00:06<00:00, 147.27it/s]\n"
          ]
        },
        {
          "name": "stdout",
          "output_type": "stream",
          "text": [
            "Epoch [7/10], Train Loss: 0.5042, Train Accuracy: 0.8544, Time: 6.37s\n",
            "\t     Valid Loss: 0.5053, Valid Accuracy: 0.8569\n",
            "\n"
          ]
        },
        {
          "name": "stderr",
          "output_type": "stream",
          "text": [
            "100%|██████████| 938/938 [00:06<00:00, 144.37it/s]\n"
          ]
        },
        {
          "name": "stdout",
          "output_type": "stream",
          "text": [
            "Epoch [8/10], Train Loss: 0.4940, Train Accuracy: 0.8591, Time: 6.50s\n",
            "\t     Valid Loss: 0.5001, Valid Accuracy: 0.8574\n",
            "\n"
          ]
        },
        {
          "name": "stderr",
          "output_type": "stream",
          "text": [
            "100%|██████████| 938/938 [00:06<00:00, 146.34it/s]\n"
          ]
        },
        {
          "name": "stdout",
          "output_type": "stream",
          "text": [
            "Epoch [9/10], Train Loss: 0.4870, Train Accuracy: 0.8603, Time: 6.41s\n",
            "\t     Valid Loss: 0.4909, Valid Accuracy: 0.8625\n",
            "\n"
          ]
        },
        {
          "name": "stderr",
          "output_type": "stream",
          "text": [
            "100%|██████████| 938/938 [00:06<00:00, 144.04it/s]\n"
          ]
        },
        {
          "name": "stdout",
          "output_type": "stream",
          "text": [
            "Epoch [10/10], Train Loss: 0.4816, Train Accuracy: 0.8612, Time: 6.51s\n",
            "\t     Valid Loss: 0.4754, Valid Accuracy: 0.8674\n",
            "\n",
            "Training model \"MyKAN\" ([784, 5, 5, 10]) with device: cuda (AMD Radeon RX 7800 XT) and parameters:\n",
            "\tLearning rate: 0.001\n",
            "\tLoss function: CrossEntropyLoss()\n",
            "\tOptimizer: Adam\n",
            "\n",
            "Number of parameters: 19975\n",
            "\n"
          ]
        },
        {
          "name": "stderr",
          "output_type": "stream",
          "text": [
            "100%|██████████| 938/938 [00:08<00:00, 110.30it/s]\n"
          ]
        },
        {
          "name": "stdout",
          "output_type": "stream",
          "text": [
            "Epoch [1/10], Train Loss: 1.0667, Train Accuracy: 0.6274, Time: 8.51s\n",
            "\t     Valid Loss: 0.6722, Valid Accuracy: 0.7978\n",
            "\n"
          ]
        },
        {
          "name": "stderr",
          "output_type": "stream",
          "text": [
            "100%|██████████| 938/938 [00:08<00:00, 111.40it/s]\n"
          ]
        },
        {
          "name": "stdout",
          "output_type": "stream",
          "text": [
            "Epoch [2/10], Train Loss: 0.5841, Train Accuracy: 0.8243, Time: 8.42s\n",
            "\t     Valid Loss: 0.5260, Valid Accuracy: 0.8510\n",
            "\n"
          ]
        },
        {
          "name": "stderr",
          "output_type": "stream",
          "text": [
            "100%|██████████| 938/938 [00:08<00:00, 109.97it/s]\n"
          ]
        },
        {
          "name": "stdout",
          "output_type": "stream",
          "text": [
            "Epoch [3/10], Train Loss: 0.4780, Train Accuracy: 0.8604, Time: 8.53s\n",
            "\t     Valid Loss: 0.4613, Valid Accuracy: 0.8672\n",
            "\n"
          ]
        },
        {
          "name": "stderr",
          "output_type": "stream",
          "text": [
            "100%|██████████| 938/938 [00:08<00:00, 110.40it/s]\n"
          ]
        },
        {
          "name": "stdout",
          "output_type": "stream",
          "text": [
            "Epoch [4/10], Train Loss: 0.4127, Train Accuracy: 0.8811, Time: 8.50s\n",
            "\t     Valid Loss: 0.4115, Valid Accuracy: 0.8851\n",
            "\n"
          ]
        },
        {
          "name": "stderr",
          "output_type": "stream",
          "text": [
            "100%|██████████| 938/938 [00:08<00:00, 111.26it/s]\n"
          ]
        },
        {
          "name": "stdout",
          "output_type": "stream",
          "text": [
            "Epoch [5/10], Train Loss: 0.3676, Train Accuracy: 0.8946, Time: 8.43s\n",
            "\t     Valid Loss: 0.3766, Valid Accuracy: 0.8958\n",
            "\n"
          ]
        },
        {
          "name": "stderr",
          "output_type": "stream",
          "text": [
            "100%|██████████| 938/938 [00:08<00:00, 111.93it/s]\n"
          ]
        },
        {
          "name": "stdout",
          "output_type": "stream",
          "text": [
            "Epoch [6/10], Train Loss: 0.3402, Train Accuracy: 0.9028, Time: 8.38s\n",
            "\t     Valid Loss: 0.3536, Valid Accuracy: 0.9011\n",
            "\n"
          ]
        },
        {
          "name": "stderr",
          "output_type": "stream",
          "text": [
            "100%|██████████| 938/938 [00:08<00:00, 109.70it/s]\n"
          ]
        },
        {
          "name": "stdout",
          "output_type": "stream",
          "text": [
            "Epoch [7/10], Train Loss: 0.3217, Train Accuracy: 0.9067, Time: 8.55s\n",
            "\t     Valid Loss: 0.3316, Valid Accuracy: 0.9084\n",
            "\n"
          ]
        },
        {
          "name": "stderr",
          "output_type": "stream",
          "text": [
            "100%|██████████| 938/938 [00:08<00:00, 110.53it/s]\n"
          ]
        },
        {
          "name": "stdout",
          "output_type": "stream",
          "text": [
            "Epoch [8/10], Train Loss: 0.3083, Train Accuracy: 0.9113, Time: 8.49s\n",
            "\t     Valid Loss: 0.3401, Valid Accuracy: 0.9037\n",
            "\n"
          ]
        },
        {
          "name": "stderr",
          "output_type": "stream",
          "text": [
            "100%|██████████| 938/938 [00:08<00:00, 111.25it/s]\n"
          ]
        },
        {
          "name": "stdout",
          "output_type": "stream",
          "text": [
            "Epoch [9/10], Train Loss: 0.2988, Train Accuracy: 0.9128, Time: 8.43s\n",
            "\t     Valid Loss: 0.3438, Valid Accuracy: 0.9010\n",
            "\n"
          ]
        },
        {
          "name": "stderr",
          "output_type": "stream",
          "text": [
            "100%|██████████| 938/938 [00:08<00:00, 111.88it/s]\n"
          ]
        },
        {
          "name": "stdout",
          "output_type": "stream",
          "text": [
            "Epoch [10/10], Train Loss: 0.2886, Train Accuracy: 0.9166, Time: 8.39s\n",
            "\t     Valid Loss: 0.3296, Valid Accuracy: 0.9091\n",
            "\n"
          ]
        }
      ],
      "source": [
        "# Define models and parameters\n",
        "\n",
        "model_list_mlp = [\n",
        "    MyMLP([img_res*img_res, 128, 10]),\n",
        "    MyMLP([img_res*img_res, 64, 10]),\n",
        "    MyMLP([img_res*img_res, 15, 10]),\n",
        "    MyMLP([img_res*img_res, 5, 10]),\n",
        "    MyMLP([img_res*img_res, 10, 10, 10]),\n",
        "    MyMLP([img_res*img_res, 5, 5, 10]),\n",
        "    ]\n",
        "model_list_kan = [\n",
        "    MyKAN([img_res*img_res, 128, 10], grid_size=5),\n",
        "    MyKAN([img_res*img_res, 64, 10], grid_size=5),\n",
        "    MyKAN([img_res*img_res, 10, 10], grid_size=5),\n",
        "    MyKAN([img_res*img_res, 5, 10], grid_size=5),\n",
        "    MyKAN([img_res*img_res, 10, 10, 10], grid_size=5),\n",
        "    MyKAN([img_res*img_res, 5, 5, 10], grid_size=5)\n",
        "    ]\n",
        "\n",
        "device = torch.device(\"cuda\" if torch.cuda.is_available() else \"cpu\")\n",
        "#device = 'cpu'\n",
        "\n",
        "num_epochs = 10\n",
        "learning_rate = 0.001\n",
        "criterion = nn.CrossEntropyLoss()\n",
        "\n",
        "df_mlp = pd.DataFrame(columns=['Epoch', 'Loss (t)', 'Loss (v)', 'Accuracy (t)', 'Accuracy (v)', 'Time'])\n",
        "df_kan = pd.DataFrame(columns=['Epoch', 'Loss (t)', 'Loss (v)', 'Accuracy (t)', 'Accuracy (v)', 'Time'])\n",
        "separator = pd.DataFrame({'Epoch' : ['---'], 'Loss (t)' : ['---'], 'Loss (v)': ['---'], 'Accuracy (t)': ['---'], 'Accuracy (v)': ['---'], 'Time': ['---']})\n",
        "\n",
        "for model_mlp, model_kan in zip(model_list_mlp, model_list_kan):\n",
        "\n",
        "    optimizer_mlp = torch.optim.Adam(model_mlp.parameters(), lr=learning_rate)\n",
        "    train_losses_mlp, train_accs_mlp, val_losses_mlp, val_accs_mlp, time_mlp = train_and_evaluate(model_mlp, trainloader, valloader, device, num_epochs, optimizer_mlp, criterion)\n",
        "\n",
        "    optimizer_kan = torch.optim.Adam(model_kan.parameters(), lr=learning_rate)\n",
        "    train_losses_kan, train_accs_kan, val_losses_kan, val_accs_kan, time_kan = train_and_evaluate(model_kan, trainloader, valloader, device, num_epochs, optimizer_kan, criterion)\n",
        "\n",
        "    single_df_mlp = build_data_frame(model_mlp, num_epochs, train_losses_mlp, train_accs_mlp, val_losses_mlp, val_accs_mlp, time_mlp, separator)\n",
        "    single_df_kan = build_data_frame(model_kan, num_epochs, train_losses_kan, train_accs_kan, val_losses_kan, val_accs_kan, time_kan, separator)\n",
        "\n",
        "    df_mlp = pd.concat([df_mlp, single_df_mlp], ignore_index=True)\n",
        "    df_kan = pd.concat([df_kan, single_df_kan], ignore_index=True)"
      ]
    },
    {
      "cell_type": "code",
      "execution_count": 8,
      "id": "oIXChUGIlwGB",
      "metadata": {
        "id": "oIXChUGIlwGB"
      },
      "outputs": [],
      "source": [
        "#print(df_mlp)\n",
        "df_mlp.to_csv('results_mlp.csv', index = False)\n",
        "df_kan.to_csv('results_kan.csv', index = False)"
      ]
    },
    {
      "cell_type": "markdown",
      "id": "88wAkDGCDwOm",
      "metadata": {
        "id": "88wAkDGCDwOm"
      },
      "source": [
        "Plotting MLP"
      ]
    },
    {
      "cell_type": "code",
      "execution_count": 9,
      "id": "rCQ_ok1WDdOT",
      "metadata": {
        "colab": {
          "base_uri": "https://localhost:8080/",
          "height": 602
        },
        "id": "rCQ_ok1WDdOT",
        "outputId": "d6ff5b91-4589-4ff9-e6f9-f1fae755b88e"
      },
      "outputs": [
        {
          "name": "stderr",
          "output_type": "stream",
          "text": [
            "/tmp/ipykernel_7982/373705896.py:18: UserWarning: FigureCanvasAgg is non-interactive, and thus cannot be shown\n",
            "  fig.show()\n"
          ]
        },
        {
          "data": {
            "image/png": "[encoded data removed]",
            "text/plain": [
              "<Figure size 1200x600 with 2 Axes>"
            ]
          },
          "metadata": {},
          "output_type": "display_data"
        }
      ],
      "source": [
        "fig, [ax1, ax2] = plt.subplots(1, 2, figsize=(12, 6))\n",
        "\n",
        "ax1.plot(range(1, num_epochs+1), train_accs_mlp, label='Train accuracy')\n",
        "ax1.plot(range(1, num_epochs+1), val_accs_mlp, label='Validation accuracy')\n",
        "ax1.set_xlabel('Epochs')\n",
        "ax1.set_ylabel('Accuracy (%)')\n",
        "ax1.set_title('Accuracy')\n",
        "ax1.legend()\n",
        "\n",
        "ax2.plot(range(1, num_epochs+1), train_losses_mlp, label='Train loss')\n",
        "ax2.plot(range(1, num_epochs+1), val_losses_mlp, label='Validation loss')\n",
        "ax2.set_xlabel('Epochs')\n",
        "ax2.set_ylabel('Loss')\n",
        "ax2.set_title('Loss')\n",
        "ax2.legend()\n",
        "\n",
        "fig.suptitle('MLP with layers: (784,64,10) with ReLU activation function')\n",
        "fig.show()"
      ]
    },
    {
      "cell_type": "markdown",
      "id": "AbcvfYsqD0Qd",
      "metadata": {
        "id": "AbcvfYsqD0Qd"
      },
      "source": [
        "Plotting KAN"
      ]
    },
    {
      "cell_type": "code",
      "execution_count": 10,
      "id": "cm5xeTFOER6r",
      "metadata": {
        "colab": {
          "base_uri": "https://localhost:8080/",
          "height": 602
        },
        "id": "cm5xeTFOER6r",
        "outputId": "6185489e-1860-4c9a-a3e7-ba082373590a"
      },
      "outputs": [
        {
          "name": "stderr",
          "output_type": "stream",
          "text": [
            "/tmp/ipykernel_7982/1405184315.py:18: UserWarning: FigureCanvasAgg is non-interactive, and thus cannot be shown\n",
            "  fig.show()\n"
          ]
        },
        {
          "data": {
            "image/png": "[encoded data removed]",
            "text/plain": [
              "<Figure size 1200x600 with 2 Axes>"
            ]
          },
          "metadata": {},
          "output_type": "display_data"
        }
      ],
      "source": [
        "fig, [ax1, ax2] = plt.subplots(1, 2, figsize=(12, 6))\n",
        "\n",
        "ax1.plot(range(1, num_epochs+1), train_accs_kan, label='Train accuracy')\n",
        "ax1.plot(range(1, num_epochs+1), val_accs_kan, label='Validation accuracy')\n",
        "ax1.set_xlabel('Epochs')\n",
        "ax1.set_ylabel('Accuracy (%)')\n",
        "ax1.set_title('Accuracy')\n",
        "ax1.legend()\n",
        "\n",
        "ax2.plot(range(1, num_epochs+1), train_losses_kan, label='Train loss')\n",
        "ax2.plot(range(1, num_epochs+1), val_losses_kan, label='Validation loss')\n",
        "ax2.set_xlabel('Epochs')\n",
        "ax2.set_ylabel('Loss')\n",
        "ax2.set_title('Loss')\n",
        "ax2.legend()\n",
        "\n",
        "fig.suptitle('KAN with layers: (784, 64, 10) with control grid size = 3')\n",
        "fig.show()"
      ]
    }
  ],
  "metadata": {
    "accelerator": "GPU",
    "colab": {
      "gpuType": "T4",
      "provenance": []
    },
    "kernelspec": {
      "display_name": "Python 3",
      "name": "python3"
    },
    "language_info": {
      "codemirror_mode": {
        "name": "ipython",
        "version": 3
      },
      "file_extension": ".py",
      "mimetype": "text/x-python",
      "name": "python",
      "nbconvert_exporter": "python",
      "pygments_lexer": "ipython3",
      "version": "3.10.12"
    }
  },
  "nbformat": 4,
  "nbformat_minor": 5
}
