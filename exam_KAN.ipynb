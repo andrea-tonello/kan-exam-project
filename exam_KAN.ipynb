{
  "cells": [
    {
      "cell_type": "code",
      "execution_count": 1,
      "id": "9cb10b3e",
      "metadata": {
        "id": "9cb10b3e"
      },
      "outputs": [],
      "source": [
        "import torch\n",
        "import torch.nn as nn\n",
        "import torchvision\n",
        "import torchvision.transforms as transforms\n",
        "from torch.utils.data import DataLoader\n",
        "\n",
        "from efficientkan import KAN\n",
        "\n",
        "import numpy as np\n",
        "import pandas as pd\n",
        "from time import time\n",
        "import matplotlib.pyplot as plt\n",
        "from tqdm import tqdm"
      ]
    },
    {
      "cell_type": "code",
      "execution_count": 2,
      "id": "2277dd5f",
      "metadata": {
        "id": "2277dd5f"
      },
      "outputs": [],
      "source": [
        "# Load MNIST dataset\n",
        "\n",
        "transform = transforms.Compose([\n",
        "    #torchvision.transforms.Resize(14),      # Resize the image\n",
        "    transforms.ToTensor(),                  # Convert images to PyTorch tensors and scale to [0,1]\n",
        "    transforms.Normalize((0.5,), (0.5,))    # Normalize to mean=0.5, std=0.5\n",
        "])\n",
        "\n",
        "trainset = torchvision.datasets.MNIST(root=\"./data\", train=True, download=True, transform=transform)\n",
        "valset = torchvision.datasets.MNIST(root=\"./data\", train=False, download=True, transform=transform)\n",
        "\n",
        "trainloader = DataLoader(trainset, batch_size=64, shuffle=True)\n",
        "valloader = DataLoader(valset, batch_size=64, shuffle=False)"
      ]
    },
    {
      "cell_type": "code",
      "execution_count": 3,
      "id": "03bbf654",
      "metadata": {},
      "outputs": [
        {
          "name": "stdout",
          "output_type": "stream",
          "text": [
            "Single image dimensions: torch.Size([28, 28])\n",
            "Image batch dimensions: torch.Size([64, 1, 28, 28])\n",
            "Image label dimensions: torch.Size([64])\n"
          ]
        }
      ],
      "source": [
        "# printing data shapes\n",
        "print(\"Single image dimensions:\", trainset.data[0].shape)\n",
        "for images, labels in trainloader:\n",
        "    print(\"Image batch dimensions:\", images.shape)\n",
        "    print(\"Image label dimensions:\", labels.shape)\n",
        "    break\n",
        "\n",
        "img_res = images.shape[3]"
      ]
    },
    {
      "cell_type": "code",
      "execution_count": 4,
      "id": "a13c9ac1",
      "metadata": {
        "id": "a13c9ac1"
      },
      "outputs": [],
      "source": [
        "class MyMLP(nn.Module):\n",
        "\n",
        "    def __init__(self, layers: list):\n",
        "        super(MyMLP, self).__init__()\n",
        "\n",
        "        self.layers = layers\n",
        "        to_sequential, self.num_parameters = self.build_layers_and_count_params(layers)\n",
        "        self.build_layers = nn.Sequential(*to_sequential)\n",
        "\n",
        "    def forward(self, x):\n",
        "        return self.build_layers(x)\n",
        "\n",
        "\n",
        "    # given a list of layer sizes, builds the respective linear layers with ReLU activation functions.\n",
        "    # Also returns the total number of parameters of the model.\n",
        "    def build_layers_and_count_params(self, layers):\n",
        "\n",
        "        to_sequential = []\n",
        "        num_parameters = 0\n",
        "\n",
        "        for i in range(len(layers) - 1):\n",
        "\n",
        "            to_sequential.append(nn.Linear(layers[i], layers[i+1]))\n",
        "            if i < len(layers)-2:\n",
        "                to_sequential.append(nn.ReLU())\n",
        "\n",
        "            num_parameters += layers[i]*layers[i+1] + layers[i+1]\n",
        "\n",
        "        return to_sequential, num_parameters\n",
        "\n",
        "\n",
        "\n",
        "\n",
        "class MyKAN(nn.Module):\n",
        "\n",
        "    def __init__(self, layers: list, grid_size):\n",
        "        super(MyKAN, self).__init__()\n",
        "\n",
        "        self.layers = layers\n",
        "        self.num_parameters = self.count_params(layers, grid_size)\n",
        "        self.build_layers = KAN(layers, grid_size=grid_size)\n",
        "\n",
        "\n",
        "    def forward(self, x):\n",
        "        return self.build_layers(x)\n",
        "\n",
        "\n",
        "    def count_params(self, layers, grid_size):\n",
        "\n",
        "        num_parameters = 0\n",
        "\n",
        "        for i in range(len(layers) - 1):\n",
        "            num_parameters += layers[i]*layers[i+1]\n",
        "\n",
        "        return num_parameters * grid_size"
      ]
    },
    {
      "cell_type": "code",
      "execution_count": 5,
      "id": "22d45072",
      "metadata": {
        "id": "22d45072"
      },
      "outputs": [],
      "source": [
        "def train_and_evaluate(model, trainloader, valloader, device, num_epochs, optimizer, criterion):\n",
        "\n",
        "    lr = optimizer.param_groups[0]['lr']\n",
        "    print(f'Training model \"{model.__class__.__name__}\" {model.layers} with device: {device} and parameters:' if device=='cpu' else f'Training model \"{model.__class__.__name__}\" {model.layers} with device: {device} ({torch.cuda.get_device_name()}) and parameters:')\n",
        "    print(f'\\tLearning rate: {lr}\\n\\tLoss function: {criterion}\\n\\tOptimizer: {optimizer.__class__.__name__}\\n')\n",
        "    print(f'Number of parameters: {model.num_parameters}\\n')\n",
        "\n",
        "    model.to(device)\n",
        "\n",
        "    train_losses = []\n",
        "    train_accs = []\n",
        "    val_losses = []\n",
        "    val_accs = []\n",
        "    times = []\n",
        "\n",
        "    for epoch in range(num_epochs):\n",
        "\n",
        "# Train\n",
        "        model.train()\n",
        "        train_loss = 0\n",
        "        train_acc = 0\n",
        "\n",
        "        start = time()\n",
        "\n",
        "        with tqdm(trainloader) as pbar:\n",
        "            for i, (images, labels) in enumerate(pbar):\n",
        "                images = images.view(-1, img_res*img_res).to(device)\n",
        "                optimizer.zero_grad()\n",
        "                output = model(images)\n",
        "\n",
        "                loss = criterion(output, labels.to(device))\n",
        "                loss.backward()\n",
        "                optimizer.step()\n",
        "                train_loss += loss.item()\n",
        "\n",
        "                accuracy = (output.argmax(dim=1) == labels.to(device)).float().mean()\n",
        "                train_acc += accuracy.item()\n",
        "\n",
        "        train_losses.append(train_loss / i)\n",
        "        train_accs.append(train_acc / i)\n",
        "\n",
        "        t = time()-start\n",
        "        times.append(t)\n",
        "\n",
        "        print(f\"Epoch [{epoch + 1}/{num_epochs}], Train Loss: {train_loss / i:.4f}, Train Accuracy: {train_acc / i:.4f}, Time: {t:.2f}s\")\n",
        "\n",
        "\n",
        "# Validation\n",
        "        model.eval()\n",
        "        val_loss = 0\n",
        "        val_acc = 0\n",
        "\n",
        "        with torch.no_grad():\n",
        "            for i, (images, labels) in enumerate(valloader):\n",
        "                images = images.view(-1, img_res*img_res).to(device)\n",
        "                output = model(images)\n",
        "\n",
        "                val_loss += criterion(output, labels.to(device)).item()\n",
        "                val_acc += ((output.argmax(dim=1) == labels.to(device)).float().mean().item())\n",
        "\n",
        "        val_losses.append(val_loss / i)\n",
        "        val_accs.append(val_acc / i)\n",
        "\n",
        "        print(f\"\\t     Valid Loss: {val_loss / i:.4f}, Valid Accuracy: {val_acc / i:.4f}\\n\")\n",
        "\n",
        "\n",
        "    return train_losses, train_accs, val_losses, val_accs, times"
      ]
    },
    {
      "cell_type": "code",
      "execution_count": 6,
      "id": "53208362",
      "metadata": {},
      "outputs": [],
      "source": [
        "def build_data_frame(model, num_epochs, train_losses, train_accs, val_losses, val_accs, time, separator):\n",
        "\n",
        "    dfs = [pd.DataFrame({\n",
        "        'Epoch': [i for i in range(num_epochs)],\n",
        "        'Loss (t)': [i for i in train_losses],\n",
        "        'Loss (v)': [i for i in val_losses],\n",
        "        'Accuracy (t)': [i for i in train_accs],\n",
        "        'Accuracy (v)': [i for i in val_accs],\n",
        "        'Time': [i for i in time]\n",
        "        }) for _ in range(2)]\n",
        "    \n",
        "    df, df_to_csv = dfs\n",
        "    \n",
        "    df_to_csv = pd.concat([df_to_csv, pd.DataFrame([{'Epoch': 'Mean', 'Time': df_to_csv['Time'].mean()}])], ignore_index=True)\n",
        "    df_to_csv = pd.concat([df_to_csv, pd.DataFrame([{'Epoch': f'Params: {model.num_parameters}'}])], ignore_index=True)\n",
        "    df_to_csv = pd.concat([df_to_csv, separator], ignore_index=True)\n",
        "\n",
        "    return df, df_to_csv"
      ]
    },
    {
      "cell_type": "code",
      "execution_count": 7,
      "id": "12fe729d",
      "metadata": {
        "colab": {
          "base_uri": "https://localhost:8080/"
        },
        "id": "12fe729d",
        "outputId": "115a3f50-7f15-472a-d33a-3b363edc81d2"
      },
      "outputs": [
        {
          "name": "stdout",
          "output_type": "stream",
          "text": [
            "Training model \"MyMLP\" [784, 15, 10] with device: cuda (AMD Radeon RX 7800 XT) and parameters:\n",
            "\tLearning rate: 0.001\n",
            "\tLoss function: CrossEntropyLoss()\n",
            "\tOptimizer: Adam\n",
            "\n",
            "Number of parameters: 11935\n",
            "\n"
          ]
        },
        {
          "name": "stderr",
          "output_type": "stream",
          "text": [
            "100%|██████████| 938/938 [00:07<00:00, 130.34it/s]\n"
          ]
        },
        {
          "name": "stdout",
          "output_type": "stream",
          "text": [
            "Epoch [1/10], Train Loss: 0.5672, Train Accuracy: 0.8410, Time: 7.20s\n",
            "\t     Valid Loss: 0.3528, Valid Accuracy: 0.9030\n",
            "\n"
          ]
        },
        {
          "name": "stderr",
          "output_type": "stream",
          "text": [
            "100%|██████████| 938/938 [00:06<00:00, 145.16it/s]\n"
          ]
        },
        {
          "name": "stdout",
          "output_type": "stream",
          "text": [
            "Epoch [2/10], Train Loss: 0.3397, Train Accuracy: 0.9036, Time: 6.46s\n",
            "\t     Valid Loss: 0.3203, Valid Accuracy: 0.9125\n",
            "\n"
          ]
        },
        {
          "name": "stderr",
          "output_type": "stream",
          "text": [
            "100%|██████████| 938/938 [00:06<00:00, 140.14it/s]\n"
          ]
        },
        {
          "name": "stdout",
          "output_type": "stream",
          "text": [
            "Epoch [3/10], Train Loss: 0.3146, Train Accuracy: 0.9104, Time: 6.69s\n",
            "\t     Valid Loss: 0.2979, Valid Accuracy: 0.9219\n",
            "\n"
          ]
        },
        {
          "name": "stderr",
          "output_type": "stream",
          "text": [
            "100%|██████████| 938/938 [00:06<00:00, 142.45it/s]\n"
          ]
        },
        {
          "name": "stdout",
          "output_type": "stream",
          "text": [
            "Epoch [4/10], Train Loss: 0.3025, Train Accuracy: 0.9140, Time: 6.59s\n",
            "\t     Valid Loss: 0.2973, Valid Accuracy: 0.9206\n",
            "\n"
          ]
        },
        {
          "name": "stderr",
          "output_type": "stream",
          "text": [
            "100%|██████████| 938/938 [00:06<00:00, 139.67it/s]\n"
          ]
        },
        {
          "name": "stdout",
          "output_type": "stream",
          "text": [
            "Epoch [5/10], Train Loss: 0.2945, Train Accuracy: 0.9165, Time: 6.72s\n",
            "\t     Valid Loss: 0.2889, Valid Accuracy: 0.9233\n",
            "\n"
          ]
        },
        {
          "name": "stderr",
          "output_type": "stream",
          "text": [
            "100%|██████████| 938/938 [00:06<00:00, 147.25it/s]\n"
          ]
        },
        {
          "name": "stdout",
          "output_type": "stream",
          "text": [
            "Epoch [6/10], Train Loss: 0.2847, Train Accuracy: 0.9198, Time: 6.37s\n",
            "\t     Valid Loss: 0.2979, Valid Accuracy: 0.9207\n",
            "\n"
          ]
        },
        {
          "name": "stderr",
          "output_type": "stream",
          "text": [
            "100%|██████████| 938/938 [00:06<00:00, 150.56it/s]\n"
          ]
        },
        {
          "name": "stdout",
          "output_type": "stream",
          "text": [
            "Epoch [7/10], Train Loss: 0.2804, Train Accuracy: 0.9204, Time: 6.23s\n",
            "\t     Valid Loss: 0.2760, Valid Accuracy: 0.9273\n",
            "\n"
          ]
        },
        {
          "name": "stderr",
          "output_type": "stream",
          "text": [
            "100%|██████████| 938/938 [00:06<00:00, 146.39it/s]\n"
          ]
        },
        {
          "name": "stdout",
          "output_type": "stream",
          "text": [
            "Epoch [8/10], Train Loss: 0.2771, Train Accuracy: 0.9223, Time: 6.41s\n",
            "\t     Valid Loss: 0.3223, Valid Accuracy: 0.9095\n",
            "\n"
          ]
        },
        {
          "name": "stderr",
          "output_type": "stream",
          "text": [
            "100%|██████████| 938/938 [00:06<00:00, 144.08it/s]\n"
          ]
        },
        {
          "name": "stdout",
          "output_type": "stream",
          "text": [
            "Epoch [9/10], Train Loss: 0.2722, Train Accuracy: 0.9231, Time: 6.51s\n",
            "\t     Valid Loss: 0.2806, Valid Accuracy: 0.9221\n",
            "\n"
          ]
        },
        {
          "name": "stderr",
          "output_type": "stream",
          "text": [
            "100%|██████████| 938/938 [00:06<00:00, 142.56it/s]\n"
          ]
        },
        {
          "name": "stdout",
          "output_type": "stream",
          "text": [
            "Epoch [10/10], Train Loss: 0.2690, Train Accuracy: 0.9242, Time: 6.58s\n",
            "\t     Valid Loss: 0.2705, Valid Accuracy: 0.9288\n",
            "\n",
            "Training model \"MyKAN\" [784, 5, 10] with device: cuda (AMD Radeon RX 7800 XT) and parameters:\n",
            "\tLearning rate: 0.001\n",
            "\tLoss function: CrossEntropyLoss()\n",
            "\tOptimizer: Adam\n",
            "\n",
            "Number of parameters: 11910\n",
            "\n"
          ]
        },
        {
          "name": "stderr",
          "output_type": "stream",
          "text": [
            "100%|██████████| 938/938 [00:07<00:00, 120.65it/s]\n"
          ]
        },
        {
          "name": "stdout",
          "output_type": "stream",
          "text": [
            "Epoch [1/10], Train Loss: 0.8766, Train Accuracy: 0.7212, Time: 7.78s\n",
            "\t     Valid Loss: 0.5590, Valid Accuracy: 0.8374\n",
            "\n"
          ]
        },
        {
          "name": "stderr",
          "output_type": "stream",
          "text": [
            "100%|██████████| 938/938 [00:07<00:00, 119.67it/s]\n"
          ]
        },
        {
          "name": "stdout",
          "output_type": "stream",
          "text": [
            "Epoch [2/10], Train Loss: 0.5002, Train Accuracy: 0.8507, Time: 7.84s\n",
            "\t     Valid Loss: 0.4523, Valid Accuracy: 0.8773\n",
            "\n"
          ]
        },
        {
          "name": "stderr",
          "output_type": "stream",
          "text": [
            "100%|██████████| 938/938 [00:07<00:00, 121.96it/s]\n"
          ]
        },
        {
          "name": "stdout",
          "output_type": "stream",
          "text": [
            "Epoch [3/10], Train Loss: 0.4237, Train Accuracy: 0.8799, Time: 7.69s\n",
            "\t     Valid Loss: 0.4116, Valid Accuracy: 0.8907\n",
            "\n"
          ]
        },
        {
          "name": "stderr",
          "output_type": "stream",
          "text": [
            "100%|██████████| 938/938 [00:07<00:00, 121.75it/s]\n"
          ]
        },
        {
          "name": "stdout",
          "output_type": "stream",
          "text": [
            "Epoch [4/10], Train Loss: 0.3846, Train Accuracy: 0.8927, Time: 7.71s\n",
            "\t     Valid Loss: 0.3804, Valid Accuracy: 0.9022\n",
            "\n"
          ]
        },
        {
          "name": "stderr",
          "output_type": "stream",
          "text": [
            "100%|██████████| 938/938 [00:07<00:00, 122.29it/s]\n"
          ]
        },
        {
          "name": "stdout",
          "output_type": "stream",
          "text": [
            "Epoch [5/10], Train Loss: 0.3599, Train Accuracy: 0.8989, Time: 7.67s\n",
            "\t     Valid Loss: 0.3659, Valid Accuracy: 0.9077\n",
            "\n"
          ]
        },
        {
          "name": "stderr",
          "output_type": "stream",
          "text": [
            "100%|██████████| 938/938 [00:07<00:00, 124.38it/s]\n"
          ]
        },
        {
          "name": "stdout",
          "output_type": "stream",
          "text": [
            "Epoch [6/10], Train Loss: 0.3423, Train Accuracy: 0.9050, Time: 7.54s\n",
            "\t     Valid Loss: 0.3536, Valid Accuracy: 0.9097\n",
            "\n"
          ]
        },
        {
          "name": "stderr",
          "output_type": "stream",
          "text": [
            "100%|██████████| 938/938 [00:07<00:00, 124.12it/s]\n"
          ]
        },
        {
          "name": "stdout",
          "output_type": "stream",
          "text": [
            "Epoch [7/10], Train Loss: 0.3300, Train Accuracy: 0.9096, Time: 7.56s\n",
            "\t     Valid Loss: 0.3802, Valid Accuracy: 0.8983\n",
            "\n"
          ]
        },
        {
          "name": "stderr",
          "output_type": "stream",
          "text": [
            "100%|██████████| 938/938 [00:07<00:00, 124.77it/s]\n"
          ]
        },
        {
          "name": "stdout",
          "output_type": "stream",
          "text": [
            "Epoch [8/10], Train Loss: 0.3208, Train Accuracy: 0.9112, Time: 7.52s\n",
            "\t     Valid Loss: 0.3436, Valid Accuracy: 0.9102\n",
            "\n"
          ]
        },
        {
          "name": "stderr",
          "output_type": "stream",
          "text": [
            "100%|██████████| 938/938 [00:07<00:00, 124.38it/s]\n"
          ]
        },
        {
          "name": "stdout",
          "output_type": "stream",
          "text": [
            "Epoch [9/10], Train Loss: 0.3129, Train Accuracy: 0.9137, Time: 7.54s\n",
            "\t     Valid Loss: 0.3374, Valid Accuracy: 0.9151\n",
            "\n"
          ]
        },
        {
          "name": "stderr",
          "output_type": "stream",
          "text": [
            "100%|██████████| 938/938 [00:07<00:00, 123.77it/s]\n"
          ]
        },
        {
          "name": "stdout",
          "output_type": "stream",
          "text": [
            "Epoch [10/10], Train Loss: 0.3058, Train Accuracy: 0.9157, Time: 7.58s\n"
          ]
        },
        {
          "name": "stderr",
          "output_type": "stream",
          "text": [
            "/tmp/ipykernel_11972/3337914836.py:42: FutureWarning: The behavior of DataFrame concatenation with empty or all-NA entries is deprecated. In a future version, this will no longer exclude empty or all-NA columns when determining the result dtypes. To retain the old behavior, exclude the relevant entries before the concat operation.\n",
            "  df_mlp = pd.concat([df_mlp, single_df_mlp], ignore_index=True)\n",
            "/tmp/ipykernel_11972/3337914836.py:43: FutureWarning: The behavior of DataFrame concatenation with empty or all-NA entries is deprecated. In a future version, this will no longer exclude empty or all-NA columns when determining the result dtypes. To retain the old behavior, exclude the relevant entries before the concat operation.\n",
            "  df_kan = pd.concat([df_kan, single_df_kan], ignore_index=True)\n"
          ]
        },
        {
          "name": "stdout",
          "output_type": "stream",
          "text": [
            "\t     Valid Loss: 0.3336, Valid Accuracy: 0.9157\n",
            "\n",
            "Training model \"MyMLP\" [784, 5, 5, 10] with device: cuda (AMD Radeon RX 7800 XT) and parameters:\n",
            "\tLearning rate: 0.001\n",
            "\tLoss function: CrossEntropyLoss()\n",
            "\tOptimizer: Adam\n",
            "\n",
            "Number of parameters: 4015\n",
            "\n"
          ]
        },
        {
          "name": "stderr",
          "output_type": "stream",
          "text": [
            "100%|██████████| 938/938 [00:06<00:00, 139.66it/s]\n"
          ]
        },
        {
          "name": "stdout",
          "output_type": "stream",
          "text": [
            "Epoch [1/10], Train Loss: 1.5715, Train Accuracy: 0.4209, Time: 6.72s\n",
            "\t     Valid Loss: 1.2984, Valid Accuracy: 0.5554\n",
            "\n"
          ]
        },
        {
          "name": "stderr",
          "output_type": "stream",
          "text": [
            "100%|██████████| 938/938 [00:06<00:00, 144.25it/s]\n"
          ]
        },
        {
          "name": "stdout",
          "output_type": "stream",
          "text": [
            "Epoch [2/10], Train Loss: 1.1999, Train Accuracy: 0.5718, Time: 6.50s\n",
            "\t     Valid Loss: 1.1253, Valid Accuracy: 0.6146\n",
            "\n"
          ]
        },
        {
          "name": "stderr",
          "output_type": "stream",
          "text": [
            "100%|██████████| 938/938 [00:06<00:00, 142.67it/s]\n"
          ]
        },
        {
          "name": "stdout",
          "output_type": "stream",
          "text": [
            "Epoch [3/10], Train Loss: 1.0952, Train Accuracy: 0.6192, Time: 6.58s\n",
            "\t     Valid Loss: 1.0708, Valid Accuracy: 0.6348\n",
            "\n"
          ]
        },
        {
          "name": "stderr",
          "output_type": "stream",
          "text": [
            "100%|██████████| 938/938 [00:06<00:00, 143.06it/s]\n"
          ]
        },
        {
          "name": "stdout",
          "output_type": "stream",
          "text": [
            "Epoch [4/10], Train Loss: 1.0466, Train Accuracy: 0.6381, Time: 6.56s\n",
            "\t     Valid Loss: 1.0343, Valid Accuracy: 0.6476\n",
            "\n"
          ]
        },
        {
          "name": "stderr",
          "output_type": "stream",
          "text": [
            "100%|██████████| 938/938 [00:06<00:00, 137.09it/s]\n"
          ]
        },
        {
          "name": "stdout",
          "output_type": "stream",
          "text": [
            "Epoch [5/10], Train Loss: 1.0253, Train Accuracy: 0.6466, Time: 6.84s\n",
            "\t     Valid Loss: 1.0063, Valid Accuracy: 0.6671\n",
            "\n"
          ]
        },
        {
          "name": "stderr",
          "output_type": "stream",
          "text": [
            "100%|██████████| 938/938 [00:06<00:00, 142.75it/s]\n"
          ]
        },
        {
          "name": "stdout",
          "output_type": "stream",
          "text": [
            "Epoch [6/10], Train Loss: 1.0140, Train Accuracy: 0.6525, Time: 6.57s\n",
            "\t     Valid Loss: 0.9981, Valid Accuracy: 0.6725\n",
            "\n"
          ]
        },
        {
          "name": "stderr",
          "output_type": "stream",
          "text": [
            "100%|██████████| 938/938 [00:06<00:00, 143.45it/s]\n"
          ]
        },
        {
          "name": "stdout",
          "output_type": "stream",
          "text": [
            "Epoch [7/10], Train Loss: 1.0043, Train Accuracy: 0.6567, Time: 6.54s\n",
            "\t     Valid Loss: 0.9930, Valid Accuracy: 0.6752\n",
            "\n"
          ]
        },
        {
          "name": "stderr",
          "output_type": "stream",
          "text": [
            "100%|██████████| 938/938 [00:06<00:00, 144.13it/s]\n"
          ]
        },
        {
          "name": "stdout",
          "output_type": "stream",
          "text": [
            "Epoch [8/10], Train Loss: 1.0007, Train Accuracy: 0.6576, Time: 6.51s\n",
            "\t     Valid Loss: 0.9896, Valid Accuracy: 0.6694\n",
            "\n"
          ]
        },
        {
          "name": "stderr",
          "output_type": "stream",
          "text": [
            "100%|██████████| 938/938 [00:06<00:00, 143.81it/s]\n"
          ]
        },
        {
          "name": "stdout",
          "output_type": "stream",
          "text": [
            "Epoch [9/10], Train Loss: 0.9921, Train Accuracy: 0.6616, Time: 6.52s\n",
            "\t     Valid Loss: 0.9932, Valid Accuracy: 0.6753\n",
            "\n"
          ]
        },
        {
          "name": "stderr",
          "output_type": "stream",
          "text": [
            "100%|██████████| 938/938 [00:06<00:00, 143.68it/s]\n"
          ]
        },
        {
          "name": "stdout",
          "output_type": "stream",
          "text": [
            "Epoch [10/10], Train Loss: 0.9885, Train Accuracy: 0.6631, Time: 6.53s\n",
            "\t     Valid Loss: 0.9881, Valid Accuracy: 0.6804\n",
            "\n",
            "Training model \"MyKAN\" [784, 5, 5, 10] with device: cuda (AMD Radeon RX 7800 XT) and parameters:\n",
            "\tLearning rate: 0.001\n",
            "\tLoss function: CrossEntropyLoss()\n",
            "\tOptimizer: Adam\n",
            "\n",
            "Number of parameters: 11985\n",
            "\n"
          ]
        },
        {
          "name": "stderr",
          "output_type": "stream",
          "text": [
            "100%|██████████| 938/938 [00:08<00:00, 109.18it/s]\n"
          ]
        },
        {
          "name": "stdout",
          "output_type": "stream",
          "text": [
            "Epoch [1/10], Train Loss: 1.0746, Train Accuracy: 0.6691, Time: 8.59s\n",
            "\t     Valid Loss: 0.5647, Valid Accuracy: 0.8397\n",
            "\n"
          ]
        },
        {
          "name": "stderr",
          "output_type": "stream",
          "text": [
            "100%|██████████| 938/938 [00:08<00:00, 109.36it/s]\n"
          ]
        },
        {
          "name": "stdout",
          "output_type": "stream",
          "text": [
            "Epoch [2/10], Train Loss: 0.4819, Train Accuracy: 0.8594, Time: 8.58s\n",
            "\t     Valid Loss: 0.4346, Valid Accuracy: 0.8806\n",
            "\n"
          ]
        },
        {
          "name": "stderr",
          "output_type": "stream",
          "text": [
            "100%|██████████| 938/938 [00:08<00:00, 109.92it/s]\n"
          ]
        },
        {
          "name": "stdout",
          "output_type": "stream",
          "text": [
            "Epoch [3/10], Train Loss: 0.4106, Train Accuracy: 0.8822, Time: 8.54s\n",
            "\t     Valid Loss: 0.4028, Valid Accuracy: 0.8881\n",
            "\n"
          ]
        },
        {
          "name": "stderr",
          "output_type": "stream",
          "text": [
            "100%|██████████| 938/938 [00:08<00:00, 106.95it/s]\n"
          ]
        },
        {
          "name": "stdout",
          "output_type": "stream",
          "text": [
            "Epoch [4/10], Train Loss: 0.3795, Train Accuracy: 0.8920, Time: 8.77s\n",
            "\t     Valid Loss: 0.3824, Valid Accuracy: 0.8948\n",
            "\n"
          ]
        },
        {
          "name": "stderr",
          "output_type": "stream",
          "text": [
            "100%|██████████| 938/938 [00:08<00:00, 110.86it/s]\n"
          ]
        },
        {
          "name": "stdout",
          "output_type": "stream",
          "text": [
            "Epoch [5/10], Train Loss: 0.3599, Train Accuracy: 0.8974, Time: 8.46s\n",
            "\t     Valid Loss: 0.3594, Valid Accuracy: 0.9036\n",
            "\n"
          ]
        },
        {
          "name": "stderr",
          "output_type": "stream",
          "text": [
            "100%|██████████| 938/938 [00:08<00:00, 111.07it/s]\n"
          ]
        },
        {
          "name": "stdout",
          "output_type": "stream",
          "text": [
            "Epoch [6/10], Train Loss: 0.3460, Train Accuracy: 0.9016, Time: 8.45s\n",
            "\t     Valid Loss: 0.3538, Valid Accuracy: 0.9025\n",
            "\n"
          ]
        },
        {
          "name": "stderr",
          "output_type": "stream",
          "text": [
            "100%|██████████| 938/938 [00:09<00:00, 104.02it/s]\n"
          ]
        },
        {
          "name": "stdout",
          "output_type": "stream",
          "text": [
            "Epoch [7/10], Train Loss: 0.3330, Train Accuracy: 0.9059, Time: 9.02s\n",
            "\t     Valid Loss: 0.3494, Valid Accuracy: 0.9055\n",
            "\n"
          ]
        },
        {
          "name": "stderr",
          "output_type": "stream",
          "text": [
            "100%|██████████| 938/938 [00:08<00:00, 104.47it/s]\n"
          ]
        },
        {
          "name": "stdout",
          "output_type": "stream",
          "text": [
            "Epoch [8/10], Train Loss: 0.3250, Train Accuracy: 0.9084, Time: 8.98s\n",
            "\t     Valid Loss: 0.3464, Valid Accuracy: 0.9074\n",
            "\n"
          ]
        },
        {
          "name": "stderr",
          "output_type": "stream",
          "text": [
            "100%|██████████| 938/938 [00:08<00:00, 110.86it/s]\n"
          ]
        },
        {
          "name": "stdout",
          "output_type": "stream",
          "text": [
            "Epoch [9/10], Train Loss: 0.3168, Train Accuracy: 0.9094, Time: 8.46s\n",
            "\t     Valid Loss: 0.3362, Valid Accuracy: 0.9129\n",
            "\n"
          ]
        },
        {
          "name": "stderr",
          "output_type": "stream",
          "text": [
            "100%|██████████| 938/938 [00:08<00:00, 106.53it/s]\n"
          ]
        },
        {
          "name": "stdout",
          "output_type": "stream",
          "text": [
            "Epoch [10/10], Train Loss: 0.3107, Train Accuracy: 0.9125, Time: 8.81s\n",
            "\t     Valid Loss: 0.3419, Valid Accuracy: 0.9081\n",
            "\n"
          ]
        }
      ],
      "source": [
        "# Define models and parameters\n",
        "\n",
        "model_list_mlp = [\n",
        "    #MyMLP([img_res*img_res, 128, 10]),\n",
        "    #MyMLP([img_res*img_res, 64, 10]),\n",
        "    MyMLP([img_res*img_res, 15, 10]),\n",
        "    #MyMLP([img_res*img_res, 5, 10]),\n",
        "    #MyMLP([img_res*img_res, 10, 10, 10]),\n",
        "    MyMLP([img_res*img_res, 5, 5, 10]),\n",
        "    ]\n",
        "model_list_kan = [\n",
        "    #MyKAN([img_res*img_res, 128, 10], grid_size=3),\n",
        "    #MyKAN([img_res*img_res, 64, 10], grid_size=3),\n",
        "    #MyKAN([img_res*img_res, 10, 10], grid_size=3),\n",
        "    MyKAN([img_res*img_res, 5, 10], grid_size=3),\n",
        "    #MyKAN([img_res*img_res, 10, 10, 10], grid_size=3),\n",
        "    MyKAN([img_res*img_res, 5, 5, 10], grid_size=3)\n",
        "    ]\n",
        "\n",
        "device = torch.device(\"cuda\" if torch.cuda.is_available() else \"cpu\")\n",
        "#device = 'cpu'\n",
        "\n",
        "num_epochs = 10\n",
        "learning_rate = 0.001\n",
        "criterion = nn.CrossEntropyLoss()\n",
        "\n",
        "dfs = [pd.DataFrame(columns=['Epoch', 'Loss (t)', 'Loss (v)', 'Accuracy (t)', 'Accuracy (v)', 'Time']) for _ in range(4)]\n",
        "df_mlp, df_mlp_to_csv, df_kan, df_kan_to_csv = dfs\n",
        "separator = pd.DataFrame({'Epoch' : ['---'], 'Loss (t)' : ['---'], 'Loss (v)': ['---'], 'Accuracy (t)': ['---'], 'Accuracy (v)': ['---'], 'Time': ['---']})\n",
        "\n",
        "for model_mlp, model_kan in zip(model_list_mlp, model_list_kan):\n",
        "\n",
        "    optimizer_mlp = torch.optim.Adam(model_mlp.parameters(), lr=learning_rate)\n",
        "    train_losses_mlp, train_accs_mlp, val_losses_mlp, val_accs_mlp, time_mlp = train_and_evaluate(model_mlp, trainloader, valloader, device, num_epochs, optimizer_mlp, criterion)\n",
        "\n",
        "    optimizer_kan = torch.optim.Adam(model_kan.parameters(), lr=learning_rate)\n",
        "    train_losses_kan, train_accs_kan, val_losses_kan, val_accs_kan, time_kan = train_and_evaluate(model_kan, trainloader, valloader, device, num_epochs, optimizer_kan, criterion)\n",
        "\n",
        "    single_df_mlp, single_df_mlp_to_csv = build_data_frame(model_mlp, num_epochs, train_losses_mlp, train_accs_mlp, val_losses_mlp, val_accs_mlp, time_mlp, separator)\n",
        "    single_df_kan, single_df_kan_to_csv = build_data_frame(model_kan, num_epochs, train_losses_kan, train_accs_kan, val_losses_kan, val_accs_kan, time_kan, separator)\n",
        "\n",
        "    df_mlp = pd.concat([df_mlp, single_df_mlp], ignore_index=True)\n",
        "    df_kan = pd.concat([df_kan, single_df_kan], ignore_index=True)\n",
        "    df_mlp_to_csv = pd.concat([df_mlp_to_csv, single_df_mlp_to_csv], ignore_index=True)\n",
        "    df_kan_to_csv = pd.concat([df_kan_to_csv, single_df_kan_to_csv], ignore_index=True)"
      ]
    },
    {
      "cell_type": "code",
      "execution_count": 8,
      "id": "oIXChUGIlwGB",
      "metadata": {
        "id": "oIXChUGIlwGB"
      },
      "outputs": [],
      "source": [
        "df_mlp_to_csv.to_csv('results_mlp.csv', index = False)\n",
        "df_kan_to_csv.to_csv('results_kan.csv', index = False)"
      ]
    },
    {
      "cell_type": "markdown",
      "id": "88wAkDGCDwOm",
      "metadata": {
        "id": "88wAkDGCDwOm"
      },
      "source": [
        "Plotting MLP"
      ]
    },
    {
      "cell_type": "code",
      "execution_count": 9,
      "id": "rCQ_ok1WDdOT",
      "metadata": {
        "colab": {
          "base_uri": "https://localhost:8080/",
          "height": 602
        },
        "id": "rCQ_ok1WDdOT",
        "outputId": "d6ff5b91-4589-4ff9-e6f9-f1fae755b88e"
      },
      "outputs": [
        {
          "name": "stderr",
          "output_type": "stream",
          "text": [
            "/tmp/ipykernel_11972/373705896.py:18: UserWarning: FigureCanvasAgg is non-interactive, and thus cannot be shown\n",
            "  fig.show()\n"
          ]
        },
        {
          "data": {
            "image/png": "[encoded data removed]",
            "text/plain": [
              "<Figure size 1200x600 with 2 Axes>"
            ]
          },
          "metadata": {},
          "output_type": "display_data"
        }
      ],
      "source": [
        "fig, [ax1, ax2] = plt.subplots(1, 2, figsize=(12, 6))\n",
        "\n",
        "ax1.plot(range(1, num_epochs+1), train_accs_mlp, label='Train accuracy')\n",
        "ax1.plot(range(1, num_epochs+1), val_accs_mlp, label='Validation accuracy')\n",
        "ax1.set_xlabel('Epochs')\n",
        "ax1.set_ylabel('Accuracy (%)')\n",
        "ax1.set_title('Accuracy')\n",
        "ax1.legend()\n",
        "\n",
        "ax2.plot(range(1, num_epochs+1), train_losses_mlp, label='Train loss')\n",
        "ax2.plot(range(1, num_epochs+1), val_losses_mlp, label='Validation loss')\n",
        "ax2.set_xlabel('Epochs')\n",
        "ax2.set_ylabel('Loss')\n",
        "ax2.set_title('Loss')\n",
        "ax2.legend()\n",
        "\n",
        "fig.suptitle('MLP with layers: (784,64,10) with ReLU activation function')\n",
        "fig.show()"
      ]
    },
    {
      "cell_type": "markdown",
      "id": "AbcvfYsqD0Qd",
      "metadata": {
        "id": "AbcvfYsqD0Qd"
      },
      "source": [
        "Plotting KAN"
      ]
    },
    {
      "cell_type": "code",
      "execution_count": 10,
      "id": "cm5xeTFOER6r",
      "metadata": {
        "colab": {
          "base_uri": "https://localhost:8080/",
          "height": 602
        },
        "id": "cm5xeTFOER6r",
        "outputId": "6185489e-1860-4c9a-a3e7-ba082373590a"
      },
      "outputs": [
        {
          "name": "stderr",
          "output_type": "stream",
          "text": [
            "/tmp/ipykernel_11972/1405184315.py:18: UserWarning: FigureCanvasAgg is non-interactive, and thus cannot be shown\n",
            "  fig.show()\n"
          ]
        },
        {
          "data": {
            "image/png": "[encoded data removed]",
            "text/plain": [
              "<Figure size 1200x600 with 2 Axes>"
            ]
          },
          "metadata": {},
          "output_type": "display_data"
        }
      ],
      "source": [
        "fig, [ax1, ax2] = plt.subplots(1, 2, figsize=(12, 6))\n",
        "\n",
        "ax1.plot(range(1, num_epochs+1), train_accs_kan, label='Train accuracy')\n",
        "ax1.plot(range(1, num_epochs+1), val_accs_kan, label='Validation accuracy')\n",
        "ax1.set_xlabel('Epochs')\n",
        "ax1.set_ylabel('Accuracy (%)')\n",
        "ax1.set_title('Accuracy')\n",
        "ax1.legend()\n",
        "\n",
        "ax2.plot(range(1, num_epochs+1), train_losses_kan, label='Train loss')\n",
        "ax2.plot(range(1, num_epochs+1), val_losses_kan, label='Validation loss')\n",
        "ax2.set_xlabel('Epochs')\n",
        "ax2.set_ylabel('Loss')\n",
        "ax2.set_title('Loss')\n",
        "ax2.legend()\n",
        "\n",
        "fig.suptitle('KAN with layers: (784, 64, 10) with control grid size = 3')\n",
        "fig.show()"
      ]
    }
  ],
  "metadata": {
    "accelerator": "GPU",
    "colab": {
      "gpuType": "T4",
      "provenance": []
    },
    "kernelspec": {
      "display_name": "Python 3",
      "name": "python3"
    },
    "language_info": {
      "codemirror_mode": {
        "name": "ipython",
        "version": 3
      },
      "file_extension": ".py",
      "mimetype": "text/x-python",
      "name": "python",
      "nbconvert_exporter": "python",
      "pygments_lexer": "ipython3",
      "version": "3.10.12"
    }
  },
  "nbformat": 4,
  "nbformat_minor": 5
}
