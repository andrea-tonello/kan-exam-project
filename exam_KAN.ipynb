{
  "cells": [
    {
      "cell_type": "code",
      "execution_count": 1,
      "id": "9cb10b3e",
      "metadata": {
        "colab": {
          "base_uri": "https://localhost:8080/"
        },
        "id": "9cb10b3e",
        "outputId": "dc16b1c6-3078-40fb-e271-b1a963a8fd33"
      },
      "outputs": [],
      "source": [
        "import torch\n",
        "import torch.nn as nn\n",
        "import torchvision\n",
        "import torchvision.transforms as transforms\n",
        "from torch.utils.data import DataLoader\n",
        "\n",
        "from efficientkan import KAN\n",
        "\n",
        "from time import time\n",
        "import matplotlib.pyplot as plt\n",
        "from tqdm import tqdm"
      ]
    },
    {
      "cell_type": "code",
      "execution_count": 2,
      "id": "2277dd5f",
      "metadata": {},
      "outputs": [],
      "source": [
        "# Load MNIST dataset\n",
        "\n",
        "transform = transforms.Compose([\n",
        "    transforms.ToTensor(),  # Convert images to PyTorch tensors and scale to [0,1]\n",
        "    transforms.Normalize((0.5,), (0.5,))  # Normalize to mean=0.5, std=0.5\n",
        "])\n",
        "\n",
        "trainset = torchvision.datasets.MNIST(root=\"./data\", train=True, download=True, transform=transform)\n",
        "valset = torchvision.datasets.MNIST(root=\"./data\", train=False, download=True, transform=transform)\n",
        "\n",
        "trainloader = DataLoader(trainset, batch_size=64, shuffle=True)\n",
        "valloader = DataLoader(valset, batch_size=64, shuffle=False)"
      ]
    },
    {
      "cell_type": "code",
      "execution_count": 3,
      "id": "a13c9ac1",
      "metadata": {},
      "outputs": [],
      "source": [
        "class MyMLP(nn.Module):\n",
        "    \n",
        "    def __init__(self, *args: int):\n",
        "        super(MyMLP, self).__init__()\n",
        "\n",
        "        self.layers = list(args)\n",
        "        self.mlp = nn.Sequential(\n",
        "            nn.Linear(self.layers[0], self.layers[1]),\n",
        "            nn.ReLU(),\n",
        "            nn.Linear(self.layers[1], self.layers[2])\n",
        "        )\n",
        "\n",
        "    def forward(self, x):\n",
        "        return self.mlp(x)\n",
        "    \n",
        "\n",
        "\n",
        "class MyKAN(nn.Module):\n",
        "\n",
        "    def __init__(self, *args: int):\n",
        "        super(MyKAN, self).__init__()\n",
        "\n",
        "        self.layers = list(args)\n",
        "        self.kan = KAN(self.layers)\n",
        "\n",
        "    def forward(self, x):\n",
        "        return self.kan(x)"
      ]
    },
    {
      "cell_type": "code",
      "execution_count": 4,
      "id": "12fe729d",
      "metadata": {},
      "outputs": [
        {
          "name": "stdout",
          "output_type": "stream",
          "text": [
            "[784, 64, 10]\n"
          ]
        }
      ],
      "source": [
        "# Define models and parameters\n",
        "\n",
        "model_mlp = MyMLP(28*28, 64, 10)\n",
        "model_kan = MyKAN(28*28, 64, 10)\n",
        "device = torch.device(\"cuda\" if torch.cuda.is_available() else \"cpu\")\n",
        "#device = 'cpu'\n",
        "model_mlp.to(device)\n",
        "model_kan.to(device)\n",
        "\n",
        "num_epochs = 10\n",
        "learning_rate = 0.001\n",
        "criterion = nn.CrossEntropyLoss()\n",
        "optimizer_mlp = torch.optim.Adam(model_mlp.parameters(), lr=learning_rate)\n",
        "optimizer_kan = torch.optim.Adam(model_kan.parameters(), lr=learning_rate)"
      ]
    },
    {
      "cell_type": "code",
      "execution_count": 5,
      "id": "22d45072",
      "metadata": {},
      "outputs": [],
      "source": [
        "def train_and_evaluate(model, trainloader, valloader, device, num_epochs, optimizer, criterion):\n",
        "\n",
        "    lr = optimizer.param_groups[0]['lr']\n",
        "    print(f'Training model \"{model.__class__.__name__}\" with device: {device} and parameters:' if device=='cpu' else f'Training model \"{model.__class__.__name__}\" with device: {device} ({torch.cuda.get_device_name()}) and parameters:')\n",
        "    print(f'\\tLayers: {model.layers}\\n\\tLearning rate: {lr}\\n\\tLoss function: {criterion}\\n\\tOptimizer: {optimizer.__class__.__name__}\\n')\n",
        "\n",
        "    losses = []\n",
        "    accs = []\n",
        "\n",
        "    for epoch in range(num_epochs):\n",
        "\n",
        "# Train\n",
        "        model.train()\n",
        "        train_loss = 0\n",
        "        train_acc = 0\n",
        "        \n",
        "        start = time()\n",
        "\n",
        "        with tqdm(trainloader) as pbar:\n",
        "            for i, (images, labels) in enumerate(pbar):\n",
        "                images = images.view(-1, 28 * 28).to(device)\n",
        "                optimizer.zero_grad()\n",
        "                output = model(images)\n",
        "\n",
        "                loss = criterion(output, labels.to(device))\n",
        "                loss.backward()\n",
        "                optimizer.step()\n",
        "                train_loss += loss.item()\n",
        "\n",
        "                accuracy = (output.argmax(dim=1) == labels.to(device)).float().mean()\n",
        "                train_acc += accuracy.item()\n",
        "        \n",
        "        losses.append(train_loss / i)\n",
        "        accs.append(train_acc / i)\n",
        "\n",
        "        print(f\"Epoch [{epoch + 1}/{num_epochs}], Train Loss: {train_loss / i:.4f}, Train Accuracy: {train_acc / i:.4f}, Time: {time()-start:.2f}s\")\n",
        "\n",
        "\n",
        "# Validation\n",
        "        model.eval()\n",
        "        val_loss = 0\n",
        "        val_acc = 0\n",
        "\n",
        "        with torch.no_grad():\n",
        "            for i, (images, labels) in enumerate(valloader):\n",
        "                images = images.view(-1, 28 * 28).to(device)\n",
        "                output = model(images)\n",
        "\n",
        "                val_loss += criterion(output, labels.to(device)).item()\n",
        "                val_acc += ((output.argmax(dim=1) == labels.to(device)).float().mean().item())\n",
        "\n",
        "        print(f\"\\t      Valid Loss: {val_loss / i:.4f}, Valid Accuracy: {val_acc / i:.4f}\\n\")\n",
        "\n",
        "    \n",
        "    return losses, accs"
      ]
    },
    {
      "cell_type": "code",
      "execution_count": null,
      "id": "194b7f8c",
      "metadata": {},
      "outputs": [],
      "source": [
        "losses_mlp, accs_mlp = train_and_evaluate(model_mlp, trainloader, valloader, device, num_epochs, optimizer_mlp, criterion)"
      ]
    },
    {
      "cell_type": "code",
      "execution_count": null,
      "id": "d6f30aca",
      "metadata": {},
      "outputs": [],
      "source": [
        "losses_kan, accs_kan = train_and_evaluate(model_kan, trainloader, valloader, device, num_epochs, optimizer_kan, criterion)"
      ]
    },
    {
      "cell_type": "markdown",
      "id": "-6YxRsaf1hj6",
      "metadata": {
        "id": "-6YxRsaf1hj6"
      },
      "source": [
        "#### Training cycle"
      ]
    },
    {
      "cell_type": "markdown",
      "id": "be501d49",
      "metadata": {},
      "source": [
        "*Plotting testing results*"
      ]
    }
  ],
  "metadata": {
    "accelerator": "GPU",
    "colab": {
      "gpuType": "T4",
      "provenance": []
    },
    "kernelspec": {
      "display_name": "Python 3",
      "name": "python3"
    },
    "language_info": {
      "codemirror_mode": {
        "name": "ipython",
        "version": 3
      },
      "file_extension": ".py",
      "mimetype": "text/x-python",
      "name": "python",
      "nbconvert_exporter": "python",
      "pygments_lexer": "ipython3",
      "version": "3.10.12"
    }
  },
  "nbformat": 4,
  "nbformat_minor": 5
}
